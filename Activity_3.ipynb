{
  "cells": [
    {
      "cell_type": "markdown",
      "source": [
        "#**Activity_2**"
      ],
      "metadata": {
        "id": "qAyhVJ0pGNyZ"
      }
    },
    {
      "cell_type": "markdown",
      "metadata": {
        "id": "Vx0voiTBMu-n"
      },
      "source": [
        "## **Data Extraction**"
      ]
    },
    {
      "cell_type": "code",
      "execution_count": null,
      "metadata": {
        "id": "SJT2v3eqJQoy"
      },
      "outputs": [],
      "source": [
        "# Import libraries\n",
        "import pandas as pd\n",
        "import numpy as np\n",
        "import matplotlib.pyplot as plt\n",
        "\n",
        "\n",
        "# Import dataset\n",
        "data = pd.read_csv('data_download 1Jul2021_to_30Jul2021.csv')\n"
      ]
    },
    {
      "cell_type": "code",
      "execution_count": null,
      "metadata": {
        "colab": {
          "base_uri": "https://localhost:8080/"
        },
        "id": "uKHBZxk4j1vX",
        "outputId": "d5e7875b-31eb-424d-fc68-aea450e8985a"
      },
      "outputs": [
        {
          "output_type": "stream",
          "name": "stdout",
          "text": [
            "<class 'pandas.core.frame.DataFrame'>\n",
            "RangeIndex: 221046 entries, 0 to 221045\n",
            "Data columns (total 22 columns):\n",
            " #   Column              Non-Null Count   Dtype  \n",
            "---  ------              --------------   -----  \n",
            " 0   symbol              221046 non-null  object \n",
            " 1   exchange            221046 non-null  object \n",
            " 2   date                221046 non-null  object \n",
            " 3   adjusted close      221046 non-null  float64\n",
            " 4   option symbol       221046 non-null  object \n",
            " 5   expiration          221046 non-null  object \n",
            " 6   strike              221046 non-null  float64\n",
            " 7   call/put            221046 non-null  object \n",
            " 8   style               221046 non-null  object \n",
            " 9   ask                 221046 non-null  float64\n",
            " 10  bid                 221046 non-null  float64\n",
            " 11  mean price          221046 non-null  float64\n",
            " 12  iv                  221046 non-null  float64\n",
            " 13  volume              221046 non-null  int64  \n",
            " 14  open interest       221046 non-null  int64  \n",
            " 15  stock price for iv  221046 non-null  float64\n",
            " 16  *                   29039 non-null   object \n",
            " 17  delta               221046 non-null  float64\n",
            " 18  vega                221046 non-null  float64\n",
            " 19  gamma               221046 non-null  float64\n",
            " 20  theta               221046 non-null  float64\n",
            " 21  rho                 221046 non-null  float64\n",
            "dtypes: float64(12), int64(2), object(8)\n",
            "memory usage: 37.1+ MB\n"
          ]
        }
      ],
      "source": [
        "# Get the information about the dataset\n",
        "data.info()"
      ]
    },
    {
      "cell_type": "code",
      "execution_count": null,
      "metadata": {
        "id": "pJ7SDLpTK_qD"
      },
      "outputs": [],
      "source": [
        "# Create a new dataframe from the dataset\n",
        "df = pd.DataFrame(data)"
      ]
    },
    {
      "cell_type": "code",
      "execution_count": null,
      "metadata": {
        "colab": {
          "base_uri": "https://localhost:8080/",
          "height": 438
        },
        "id": "gKD9Rgm-Lj7Q",
        "outputId": "44efb29a-729c-429a-a994-c2a93fb68125"
      },
      "outputs": [
        {
          "output_type": "execute_result",
          "data": {
            "text/plain": [
              "  symbol  exchange        date  adjusted close          option symbol  \\\n",
              "0    SPY  NYSEArca  07/30/2021          438.51  SPY   210730C00215000   \n",
              "1    SPY  NYSEArca  07/30/2021          438.51  SPY   210730P00215000   \n",
              "2    SPY  NYSEArca  07/30/2021          438.51  SPY   210730C00220000   \n",
              "3    SPY  NYSEArca  07/30/2021          438.51  SPY   210730P00220000   \n",
              "4    SPY  NYSEArca  07/30/2021          438.51  SPY   210730C00225000   \n",
              "\n",
              "   expiration  strike call/put style     ask  ...   iv  volume  open interest  \\\n",
              "0  07/30/2021   215.0        C     A  224.56  ... -1.0     0.0            0.0   \n",
              "1  07/30/2021   215.0        P     A    0.01  ... -1.0     0.0         1401.0   \n",
              "2  07/30/2021   220.0        C     A  219.56  ... -1.0     0.0            1.0   \n",
              "3  07/30/2021   220.0        P     A    0.01  ... -1.0    50.0          328.0   \n",
              "4  07/30/2021   225.0        C     A  214.56  ... -1.0     0.0            0.0   \n",
              "\n",
              "   stock price for iv    *  delta vega  gamma  theta  rho  \n",
              "0              438.97  NaN    0.0  0.0    0.0    0.0  0.0  \n",
              "1              438.97  NaN    0.0  0.0    0.0    0.0  0.0  \n",
              "2              438.97  NaN    0.0  0.0    0.0    0.0  0.0  \n",
              "3              438.97  NaN    0.0  0.0    0.0    0.0  0.0  \n",
              "4              438.97  NaN    0.0  0.0    0.0    0.0  0.0  \n",
              "\n",
              "[5 rows x 22 columns]"
            ],
            "text/html": [
              "\n",
              "  <div id=\"df-a426b476-dc30-4acc-950c-2c5402f365cd\">\n",
              "    <div class=\"colab-df-container\">\n",
              "      <div>\n",
              "<style scoped>\n",
              "    .dataframe tbody tr th:only-of-type {\n",
              "        vertical-align: middle;\n",
              "    }\n",
              "\n",
              "    .dataframe tbody tr th {\n",
              "        vertical-align: top;\n",
              "    }\n",
              "\n",
              "    .dataframe thead th {\n",
              "        text-align: right;\n",
              "    }\n",
              "</style>\n",
              "<table border=\"1\" class=\"dataframe\">\n",
              "  <thead>\n",
              "    <tr style=\"text-align: right;\">\n",
              "      <th></th>\n",
              "      <th>symbol</th>\n",
              "      <th>exchange</th>\n",
              "      <th>date</th>\n",
              "      <th>adjusted close</th>\n",
              "      <th>option symbol</th>\n",
              "      <th>expiration</th>\n",
              "      <th>strike</th>\n",
              "      <th>call/put</th>\n",
              "      <th>style</th>\n",
              "      <th>ask</th>\n",
              "      <th>...</th>\n",
              "      <th>iv</th>\n",
              "      <th>volume</th>\n",
              "      <th>open interest</th>\n",
              "      <th>stock price for iv</th>\n",
              "      <th>*</th>\n",
              "      <th>delta</th>\n",
              "      <th>vega</th>\n",
              "      <th>gamma</th>\n",
              "      <th>theta</th>\n",
              "      <th>rho</th>\n",
              "    </tr>\n",
              "  </thead>\n",
              "  <tbody>\n",
              "    <tr>\n",
              "      <th>0</th>\n",
              "      <td>SPY</td>\n",
              "      <td>NYSEArca</td>\n",
              "      <td>07/30/2021</td>\n",
              "      <td>438.51</td>\n",
              "      <td>SPY   210730C00215000</td>\n",
              "      <td>07/30/2021</td>\n",
              "      <td>215.0</td>\n",
              "      <td>C</td>\n",
              "      <td>A</td>\n",
              "      <td>224.56</td>\n",
              "      <td>...</td>\n",
              "      <td>-1.0</td>\n",
              "      <td>0.0</td>\n",
              "      <td>0.0</td>\n",
              "      <td>438.97</td>\n",
              "      <td>NaN</td>\n",
              "      <td>0.0</td>\n",
              "      <td>0.0</td>\n",
              "      <td>0.0</td>\n",
              "      <td>0.0</td>\n",
              "      <td>0.0</td>\n",
              "    </tr>\n",
              "    <tr>\n",
              "      <th>1</th>\n",
              "      <td>SPY</td>\n",
              "      <td>NYSEArca</td>\n",
              "      <td>07/30/2021</td>\n",
              "      <td>438.51</td>\n",
              "      <td>SPY   210730P00215000</td>\n",
              "      <td>07/30/2021</td>\n",
              "      <td>215.0</td>\n",
              "      <td>P</td>\n",
              "      <td>A</td>\n",
              "      <td>0.01</td>\n",
              "      <td>...</td>\n",
              "      <td>-1.0</td>\n",
              "      <td>0.0</td>\n",
              "      <td>1401.0</td>\n",
              "      <td>438.97</td>\n",
              "      <td>NaN</td>\n",
              "      <td>0.0</td>\n",
              "      <td>0.0</td>\n",
              "      <td>0.0</td>\n",
              "      <td>0.0</td>\n",
              "      <td>0.0</td>\n",
              "    </tr>\n",
              "    <tr>\n",
              "      <th>2</th>\n",
              "      <td>SPY</td>\n",
              "      <td>NYSEArca</td>\n",
              "      <td>07/30/2021</td>\n",
              "      <td>438.51</td>\n",
              "      <td>SPY   210730C00220000</td>\n",
              "      <td>07/30/2021</td>\n",
              "      <td>220.0</td>\n",
              "      <td>C</td>\n",
              "      <td>A</td>\n",
              "      <td>219.56</td>\n",
              "      <td>...</td>\n",
              "      <td>-1.0</td>\n",
              "      <td>0.0</td>\n",
              "      <td>1.0</td>\n",
              "      <td>438.97</td>\n",
              "      <td>NaN</td>\n",
              "      <td>0.0</td>\n",
              "      <td>0.0</td>\n",
              "      <td>0.0</td>\n",
              "      <td>0.0</td>\n",
              "      <td>0.0</td>\n",
              "    </tr>\n",
              "    <tr>\n",
              "      <th>3</th>\n",
              "      <td>SPY</td>\n",
              "      <td>NYSEArca</td>\n",
              "      <td>07/30/2021</td>\n",
              "      <td>438.51</td>\n",
              "      <td>SPY   210730P00220000</td>\n",
              "      <td>07/30/2021</td>\n",
              "      <td>220.0</td>\n",
              "      <td>P</td>\n",
              "      <td>A</td>\n",
              "      <td>0.01</td>\n",
              "      <td>...</td>\n",
              "      <td>-1.0</td>\n",
              "      <td>50.0</td>\n",
              "      <td>328.0</td>\n",
              "      <td>438.97</td>\n",
              "      <td>NaN</td>\n",
              "      <td>0.0</td>\n",
              "      <td>0.0</td>\n",
              "      <td>0.0</td>\n",
              "      <td>0.0</td>\n",
              "      <td>0.0</td>\n",
              "    </tr>\n",
              "    <tr>\n",
              "      <th>4</th>\n",
              "      <td>SPY</td>\n",
              "      <td>NYSEArca</td>\n",
              "      <td>07/30/2021</td>\n",
              "      <td>438.51</td>\n",
              "      <td>SPY   210730C00225000</td>\n",
              "      <td>07/30/2021</td>\n",
              "      <td>225.0</td>\n",
              "      <td>C</td>\n",
              "      <td>A</td>\n",
              "      <td>214.56</td>\n",
              "      <td>...</td>\n",
              "      <td>-1.0</td>\n",
              "      <td>0.0</td>\n",
              "      <td>0.0</td>\n",
              "      <td>438.97</td>\n",
              "      <td>NaN</td>\n",
              "      <td>0.0</td>\n",
              "      <td>0.0</td>\n",
              "      <td>0.0</td>\n",
              "      <td>0.0</td>\n",
              "      <td>0.0</td>\n",
              "    </tr>\n",
              "  </tbody>\n",
              "</table>\n",
              "<p>5 rows × 22 columns</p>\n",
              "</div>\n",
              "      <button class=\"colab-df-convert\" onclick=\"convertToInteractive('df-a426b476-dc30-4acc-950c-2c5402f365cd')\"\n",
              "              title=\"Convert this dataframe to an interactive table.\"\n",
              "              style=\"display:none;\">\n",
              "        \n",
              "  <svg xmlns=\"http://www.w3.org/2000/svg\" height=\"24px\"viewBox=\"0 0 24 24\"\n",
              "       width=\"24px\">\n",
              "    <path d=\"M0 0h24v24H0V0z\" fill=\"none\"/>\n",
              "    <path d=\"M18.56 5.44l.94 2.06.94-2.06 2.06-.94-2.06-.94-.94-2.06-.94 2.06-2.06.94zm-11 1L8.5 8.5l.94-2.06 2.06-.94-2.06-.94L8.5 2.5l-.94 2.06-2.06.94zm10 10l.94 2.06.94-2.06 2.06-.94-2.06-.94-.94-2.06-.94 2.06-2.06.94z\"/><path d=\"M17.41 7.96l-1.37-1.37c-.4-.4-.92-.59-1.43-.59-.52 0-1.04.2-1.43.59L10.3 9.45l-7.72 7.72c-.78.78-.78 2.05 0 2.83L4 21.41c.39.39.9.59 1.41.59.51 0 1.02-.2 1.41-.59l7.78-7.78 2.81-2.81c.8-.78.8-2.07 0-2.86zM5.41 20L4 18.59l7.72-7.72 1.47 1.35L5.41 20z\"/>\n",
              "  </svg>\n",
              "      </button>\n",
              "      \n",
              "  <style>\n",
              "    .colab-df-container {\n",
              "      display:flex;\n",
              "      flex-wrap:wrap;\n",
              "      gap: 12px;\n",
              "    }\n",
              "\n",
              "    .colab-df-convert {\n",
              "      background-color: #E8F0FE;\n",
              "      border: none;\n",
              "      border-radius: 50%;\n",
              "      cursor: pointer;\n",
              "      display: none;\n",
              "      fill: #1967D2;\n",
              "      height: 32px;\n",
              "      padding: 0 0 0 0;\n",
              "      width: 32px;\n",
              "    }\n",
              "\n",
              "    .colab-df-convert:hover {\n",
              "      background-color: #E2EBFA;\n",
              "      box-shadow: 0px 1px 2px rgba(60, 64, 67, 0.3), 0px 1px 3px 1px rgba(60, 64, 67, 0.15);\n",
              "      fill: #174EA6;\n",
              "    }\n",
              "\n",
              "    [theme=dark] .colab-df-convert {\n",
              "      background-color: #3B4455;\n",
              "      fill: #D2E3FC;\n",
              "    }\n",
              "\n",
              "    [theme=dark] .colab-df-convert:hover {\n",
              "      background-color: #434B5C;\n",
              "      box-shadow: 0px 1px 3px 1px rgba(0, 0, 0, 0.15);\n",
              "      filter: drop-shadow(0px 1px 2px rgba(0, 0, 0, 0.3));\n",
              "      fill: #FFFFFF;\n",
              "    }\n",
              "  </style>\n",
              "\n",
              "      <script>\n",
              "        const buttonEl =\n",
              "          document.querySelector('#df-a426b476-dc30-4acc-950c-2c5402f365cd button.colab-df-convert');\n",
              "        buttonEl.style.display =\n",
              "          google.colab.kernel.accessAllowed ? 'block' : 'none';\n",
              "\n",
              "        async function convertToInteractive(key) {\n",
              "          const element = document.querySelector('#df-a426b476-dc30-4acc-950c-2c5402f365cd');\n",
              "          const dataTable =\n",
              "            await google.colab.kernel.invokeFunction('convertToInteractive',\n",
              "                                                     [key], {});\n",
              "          if (!dataTable) return;\n",
              "\n",
              "          const docLinkHtml = 'Like what you see? Visit the ' +\n",
              "            '<a target=\"_blank\" href=https://colab.research.google.com/notebooks/data_table.ipynb>data table notebook</a>'\n",
              "            + ' to learn more about interactive tables.';\n",
              "          element.innerHTML = '';\n",
              "          dataTable['output_type'] = 'display_data';\n",
              "          await google.colab.output.renderOutput(dataTable, element);\n",
              "          const docLink = document.createElement('div');\n",
              "          docLink.innerHTML = docLinkHtml;\n",
              "          element.appendChild(docLink);\n",
              "        }\n",
              "      </script>\n",
              "    </div>\n",
              "  </div>\n",
              "  "
            ]
          },
          "metadata": {},
          "execution_count": 6
        }
      ],
      "source": [
        "# Check the dataframe\n",
        "df.head()"
      ]
    },
    {
      "cell_type": "code",
      "execution_count": null,
      "metadata": {
        "colab": {
          "base_uri": "https://localhost:8080/",
          "height": 381
        },
        "id": "yThV_DmfL7na",
        "outputId": "a8235d2a-1ca2-42ca-ca0b-82ee8ee4eac5"
      },
      "outputs": [
        {
          "output_type": "execute_result",
          "data": {
            "text/plain": [
              "       adjusted close        strike           ask           bid    mean price  \\\n",
              "count    26780.000000  26779.000000  26779.000000  26779.000000  26779.000000   \n",
              "mean       439.421541    403.709026     38.544683     37.876703     38.209538   \n",
              "std          1.000500     88.545751     57.916310     57.288980     57.601601   \n",
              "min        438.510000     25.000000      0.010000      0.000000      0.000000   \n",
              "25%        438.510000    359.000000      1.110000      1.030000      1.075000   \n",
              "50%        438.830000    417.000000     13.750000     13.220000     13.460000   \n",
              "75%        440.650000    458.000000     47.075000     46.180000     46.615000   \n",
              "max        440.650000    655.000000    415.740000    414.400000    415.070000   \n",
              "\n",
              "                 iv         volume  open interest  stock price for iv  \\\n",
              "count  26779.000000   26779.000000   26779.000000        26779.000000   \n",
              "mean       0.228780     431.953098    1847.899511          439.357331   \n",
              "std        0.241398    5320.763725    6654.635893            0.638051   \n",
              "min       -1.000000       0.000000       0.000000          438.620000   \n",
              "25%        0.132789       0.000000       2.000000          438.970000   \n",
              "50%        0.205274       0.000000     120.000000          438.970000   \n",
              "75%        0.311458      20.000000    1014.000000          440.130000   \n",
              "max        1.741315  332808.000000  169905.000000          440.130000   \n",
              "\n",
              "              delta          vega         gamma         theta           rho  \n",
              "count  26779.000000  26779.000000  26779.000000  26779.000000  26779.000000  \n",
              "mean       0.102184      0.424039      0.005971     -0.045160     -0.040599  \n",
              "std        0.618641      0.503953      0.009674      0.041086      1.510170  \n",
              "min       -1.000000      0.000000      0.000000     -0.560042    -15.350967  \n",
              "25%       -0.222063      0.044293      0.000672     -0.063111     -0.083228  \n",
              "50%        0.000000      0.222178      0.002774     -0.037964      0.000000  \n",
              "75%        0.743345      0.616758      0.006837     -0.013723      0.247962  \n",
              "max        1.000000      2.666904      0.148015      0.000000      5.556179  "
            ],
            "text/html": [
              "\n",
              "  <div id=\"df-ea8a03a3-4ed9-459a-88b2-fc3cc6801dd3\">\n",
              "    <div class=\"colab-df-container\">\n",
              "      <div>\n",
              "<style scoped>\n",
              "    .dataframe tbody tr th:only-of-type {\n",
              "        vertical-align: middle;\n",
              "    }\n",
              "\n",
              "    .dataframe tbody tr th {\n",
              "        vertical-align: top;\n",
              "    }\n",
              "\n",
              "    .dataframe thead th {\n",
              "        text-align: right;\n",
              "    }\n",
              "</style>\n",
              "<table border=\"1\" class=\"dataframe\">\n",
              "  <thead>\n",
              "    <tr style=\"text-align: right;\">\n",
              "      <th></th>\n",
              "      <th>adjusted close</th>\n",
              "      <th>strike</th>\n",
              "      <th>ask</th>\n",
              "      <th>bid</th>\n",
              "      <th>mean price</th>\n",
              "      <th>iv</th>\n",
              "      <th>volume</th>\n",
              "      <th>open interest</th>\n",
              "      <th>stock price for iv</th>\n",
              "      <th>delta</th>\n",
              "      <th>vega</th>\n",
              "      <th>gamma</th>\n",
              "      <th>theta</th>\n",
              "      <th>rho</th>\n",
              "    </tr>\n",
              "  </thead>\n",
              "  <tbody>\n",
              "    <tr>\n",
              "      <th>count</th>\n",
              "      <td>26780.000000</td>\n",
              "      <td>26779.000000</td>\n",
              "      <td>26779.000000</td>\n",
              "      <td>26779.000000</td>\n",
              "      <td>26779.000000</td>\n",
              "      <td>26779.000000</td>\n",
              "      <td>26779.000000</td>\n",
              "      <td>26779.000000</td>\n",
              "      <td>26779.000000</td>\n",
              "      <td>26779.000000</td>\n",
              "      <td>26779.000000</td>\n",
              "      <td>26779.000000</td>\n",
              "      <td>26779.000000</td>\n",
              "      <td>26779.000000</td>\n",
              "    </tr>\n",
              "    <tr>\n",
              "      <th>mean</th>\n",
              "      <td>439.421541</td>\n",
              "      <td>403.709026</td>\n",
              "      <td>38.544683</td>\n",
              "      <td>37.876703</td>\n",
              "      <td>38.209538</td>\n",
              "      <td>0.228780</td>\n",
              "      <td>431.953098</td>\n",
              "      <td>1847.899511</td>\n",
              "      <td>439.357331</td>\n",
              "      <td>0.102184</td>\n",
              "      <td>0.424039</td>\n",
              "      <td>0.005971</td>\n",
              "      <td>-0.045160</td>\n",
              "      <td>-0.040599</td>\n",
              "    </tr>\n",
              "    <tr>\n",
              "      <th>std</th>\n",
              "      <td>1.000500</td>\n",
              "      <td>88.545751</td>\n",
              "      <td>57.916310</td>\n",
              "      <td>57.288980</td>\n",
              "      <td>57.601601</td>\n",
              "      <td>0.241398</td>\n",
              "      <td>5320.763725</td>\n",
              "      <td>6654.635893</td>\n",
              "      <td>0.638051</td>\n",
              "      <td>0.618641</td>\n",
              "      <td>0.503953</td>\n",
              "      <td>0.009674</td>\n",
              "      <td>0.041086</td>\n",
              "      <td>1.510170</td>\n",
              "    </tr>\n",
              "    <tr>\n",
              "      <th>min</th>\n",
              "      <td>438.510000</td>\n",
              "      <td>25.000000</td>\n",
              "      <td>0.010000</td>\n",
              "      <td>0.000000</td>\n",
              "      <td>0.000000</td>\n",
              "      <td>-1.000000</td>\n",
              "      <td>0.000000</td>\n",
              "      <td>0.000000</td>\n",
              "      <td>438.620000</td>\n",
              "      <td>-1.000000</td>\n",
              "      <td>0.000000</td>\n",
              "      <td>0.000000</td>\n",
              "      <td>-0.560042</td>\n",
              "      <td>-15.350967</td>\n",
              "    </tr>\n",
              "    <tr>\n",
              "      <th>25%</th>\n",
              "      <td>438.510000</td>\n",
              "      <td>359.000000</td>\n",
              "      <td>1.110000</td>\n",
              "      <td>1.030000</td>\n",
              "      <td>1.075000</td>\n",
              "      <td>0.132789</td>\n",
              "      <td>0.000000</td>\n",
              "      <td>2.000000</td>\n",
              "      <td>438.970000</td>\n",
              "      <td>-0.222063</td>\n",
              "      <td>0.044293</td>\n",
              "      <td>0.000672</td>\n",
              "      <td>-0.063111</td>\n",
              "      <td>-0.083228</td>\n",
              "    </tr>\n",
              "    <tr>\n",
              "      <th>50%</th>\n",
              "      <td>438.830000</td>\n",
              "      <td>417.000000</td>\n",
              "      <td>13.750000</td>\n",
              "      <td>13.220000</td>\n",
              "      <td>13.460000</td>\n",
              "      <td>0.205274</td>\n",
              "      <td>0.000000</td>\n",
              "      <td>120.000000</td>\n",
              "      <td>438.970000</td>\n",
              "      <td>0.000000</td>\n",
              "      <td>0.222178</td>\n",
              "      <td>0.002774</td>\n",
              "      <td>-0.037964</td>\n",
              "      <td>0.000000</td>\n",
              "    </tr>\n",
              "    <tr>\n",
              "      <th>75%</th>\n",
              "      <td>440.650000</td>\n",
              "      <td>458.000000</td>\n",
              "      <td>47.075000</td>\n",
              "      <td>46.180000</td>\n",
              "      <td>46.615000</td>\n",
              "      <td>0.311458</td>\n",
              "      <td>20.000000</td>\n",
              "      <td>1014.000000</td>\n",
              "      <td>440.130000</td>\n",
              "      <td>0.743345</td>\n",
              "      <td>0.616758</td>\n",
              "      <td>0.006837</td>\n",
              "      <td>-0.013723</td>\n",
              "      <td>0.247962</td>\n",
              "    </tr>\n",
              "    <tr>\n",
              "      <th>max</th>\n",
              "      <td>440.650000</td>\n",
              "      <td>655.000000</td>\n",
              "      <td>415.740000</td>\n",
              "      <td>414.400000</td>\n",
              "      <td>415.070000</td>\n",
              "      <td>1.741315</td>\n",
              "      <td>332808.000000</td>\n",
              "      <td>169905.000000</td>\n",
              "      <td>440.130000</td>\n",
              "      <td>1.000000</td>\n",
              "      <td>2.666904</td>\n",
              "      <td>0.148015</td>\n",
              "      <td>0.000000</td>\n",
              "      <td>5.556179</td>\n",
              "    </tr>\n",
              "  </tbody>\n",
              "</table>\n",
              "</div>\n",
              "      <button class=\"colab-df-convert\" onclick=\"convertToInteractive('df-ea8a03a3-4ed9-459a-88b2-fc3cc6801dd3')\"\n",
              "              title=\"Convert this dataframe to an interactive table.\"\n",
              "              style=\"display:none;\">\n",
              "        \n",
              "  <svg xmlns=\"http://www.w3.org/2000/svg\" height=\"24px\"viewBox=\"0 0 24 24\"\n",
              "       width=\"24px\">\n",
              "    <path d=\"M0 0h24v24H0V0z\" fill=\"none\"/>\n",
              "    <path d=\"M18.56 5.44l.94 2.06.94-2.06 2.06-.94-2.06-.94-.94-2.06-.94 2.06-2.06.94zm-11 1L8.5 8.5l.94-2.06 2.06-.94-2.06-.94L8.5 2.5l-.94 2.06-2.06.94zm10 10l.94 2.06.94-2.06 2.06-.94-2.06-.94-.94-2.06-.94 2.06-2.06.94z\"/><path d=\"M17.41 7.96l-1.37-1.37c-.4-.4-.92-.59-1.43-.59-.52 0-1.04.2-1.43.59L10.3 9.45l-7.72 7.72c-.78.78-.78 2.05 0 2.83L4 21.41c.39.39.9.59 1.41.59.51 0 1.02-.2 1.41-.59l7.78-7.78 2.81-2.81c.8-.78.8-2.07 0-2.86zM5.41 20L4 18.59l7.72-7.72 1.47 1.35L5.41 20z\"/>\n",
              "  </svg>\n",
              "      </button>\n",
              "      \n",
              "  <style>\n",
              "    .colab-df-container {\n",
              "      display:flex;\n",
              "      flex-wrap:wrap;\n",
              "      gap: 12px;\n",
              "    }\n",
              "\n",
              "    .colab-df-convert {\n",
              "      background-color: #E8F0FE;\n",
              "      border: none;\n",
              "      border-radius: 50%;\n",
              "      cursor: pointer;\n",
              "      display: none;\n",
              "      fill: #1967D2;\n",
              "      height: 32px;\n",
              "      padding: 0 0 0 0;\n",
              "      width: 32px;\n",
              "    }\n",
              "\n",
              "    .colab-df-convert:hover {\n",
              "      background-color: #E2EBFA;\n",
              "      box-shadow: 0px 1px 2px rgba(60, 64, 67, 0.3), 0px 1px 3px 1px rgba(60, 64, 67, 0.15);\n",
              "      fill: #174EA6;\n",
              "    }\n",
              "\n",
              "    [theme=dark] .colab-df-convert {\n",
              "      background-color: #3B4455;\n",
              "      fill: #D2E3FC;\n",
              "    }\n",
              "\n",
              "    [theme=dark] .colab-df-convert:hover {\n",
              "      background-color: #434B5C;\n",
              "      box-shadow: 0px 1px 3px 1px rgba(0, 0, 0, 0.15);\n",
              "      filter: drop-shadow(0px 1px 2px rgba(0, 0, 0, 0.3));\n",
              "      fill: #FFFFFF;\n",
              "    }\n",
              "  </style>\n",
              "\n",
              "      <script>\n",
              "        const buttonEl =\n",
              "          document.querySelector('#df-ea8a03a3-4ed9-459a-88b2-fc3cc6801dd3 button.colab-df-convert');\n",
              "        buttonEl.style.display =\n",
              "          google.colab.kernel.accessAllowed ? 'block' : 'none';\n",
              "\n",
              "        async function convertToInteractive(key) {\n",
              "          const element = document.querySelector('#df-ea8a03a3-4ed9-459a-88b2-fc3cc6801dd3');\n",
              "          const dataTable =\n",
              "            await google.colab.kernel.invokeFunction('convertToInteractive',\n",
              "                                                     [key], {});\n",
              "          if (!dataTable) return;\n",
              "\n",
              "          const docLinkHtml = 'Like what you see? Visit the ' +\n",
              "            '<a target=\"_blank\" href=https://colab.research.google.com/notebooks/data_table.ipynb>data table notebook</a>'\n",
              "            + ' to learn more about interactive tables.';\n",
              "          element.innerHTML = '';\n",
              "          dataTable['output_type'] = 'display_data';\n",
              "          await google.colab.output.renderOutput(dataTable, element);\n",
              "          const docLink = document.createElement('div');\n",
              "          docLink.innerHTML = docLinkHtml;\n",
              "          element.appendChild(docLink);\n",
              "        }\n",
              "      </script>\n",
              "    </div>\n",
              "  </div>\n",
              "  "
            ]
          },
          "metadata": {},
          "execution_count": 7
        }
      ],
      "source": [
        "# Get the description of the data in the dataframe\n",
        "df.describe()"
      ]
    },
    {
      "cell_type": "markdown",
      "metadata": {
        "id": "E3OaflP8MoJw"
      },
      "source": [
        "## **Data Validation and Cleansing**"
      ]
    },
    {
      "cell_type": "code",
      "execution_count": null,
      "metadata": {
        "colab": {
          "base_uri": "https://localhost:8080/"
        },
        "id": "6q61WfBeMkIe",
        "outputId": "5e2412cb-c748-4698-f02e-417052f6f981"
      },
      "outputs": [
        {
          "output_type": "stream",
          "name": "stdout",
          "text": [
            "['SPY']\n"
          ]
        }
      ],
      "source": [
        "# Check how many unique values are there in Symbol column\n",
        "print(df.symbol.unique())"
      ]
    },
    {
      "cell_type": "code",
      "execution_count": null,
      "metadata": {
        "id": "oFCmO2kbNXQn"
      },
      "outputs": [],
      "source": [
        "# Symbol column has only value 'SPY' which is not useful for the further analysis, So we eliminate the column from the datafarme\n",
        "df.drop('symbol', inplace=True, axis=1)"
      ]
    },
    {
      "cell_type": "code",
      "execution_count": null,
      "metadata": {
        "colab": {
          "base_uri": "https://localhost:8080/"
        },
        "id": "Y62bHsFHPi6F",
        "outputId": "dde3145e-d9d3-40ba-d24e-21037381c0cf"
      },
      "outputs": [
        {
          "output_type": "stream",
          "name": "stdout",
          "text": [
            "['NYSEArca']\n"
          ]
        }
      ],
      "source": [
        "# Check how many unique values are there in Exchange column\n",
        "print(df.exchange.unique())"
      ]
    },
    {
      "cell_type": "code",
      "execution_count": null,
      "metadata": {
        "id": "8MSc0GtzP-Y4"
      },
      "outputs": [],
      "source": [
        "# Exchange column has only value 'NYSEArca' which is not useful for the further analysis, So we eliminate the column from the datafarme\n",
        "df.drop('exchange', inplace=True, axis=1)"
      ]
    },
    {
      "cell_type": "code",
      "execution_count": null,
      "metadata": {
        "id": "MGbli9G-ch94"
      },
      "outputs": [],
      "source": [
        "# We drop the 'style' and '*' columns which are don't have any uniqe value and not useful for the further analysis\n",
        "df.drop('style', inplace=True, axis=1)\n",
        "df.drop('*', inplace=True, axis=1)"
      ]
    },
    {
      "cell_type": "code",
      "execution_count": null,
      "metadata": {
        "id": "KSe1WfxHQQB4"
      },
      "outputs": [],
      "source": [
        "# We drop the option symbol as well, because it is a combined field which has the value of symbol, date,call/put and strike and we have those values in separate column in the dataframe\n",
        "df.drop('option symbol', inplace=True, axis=1)"
      ]
    },
    {
      "cell_type": "code",
      "execution_count": null,
      "metadata": {
        "colab": {
          "base_uri": "https://localhost:8080/"
        },
        "id": "GW4ERFgpTT6p",
        "outputId": "e0799ddf-fc0e-4724-ddb9-ce5fbffe20d6"
      },
      "outputs": [
        {
          "output_type": "stream",
          "name": "stdout",
          "text": [
            "Index(['date', 'adjusted close', 'expiration', 'strike', 'call/put', 'ask',\n",
            "       'bid', 'mean price', 'iv', 'volume', 'open interest',\n",
            "       'stock price for iv', 'delta', 'vega', 'gamma', 'theta', 'rho'],\n",
            "      dtype='object')\n"
          ]
        }
      ],
      "source": [
        "# Check whether all the unwanted columns were removed\n",
        "print(df.keys())"
      ]
    },
    {
      "cell_type": "code",
      "execution_count": null,
      "metadata": {
        "colab": {
          "base_uri": "https://localhost:8080/"
        },
        "id": "2ndOVZljkl79",
        "outputId": "36ba376a-ca0e-4750-b3b4-97a5c1b45481"
      },
      "outputs": [
        {
          "output_type": "execute_result",
          "data": {
            "text/plain": [
              "date                   object\n",
              "adjusted close        float64\n",
              "expiration             object\n",
              "strike                float64\n",
              "call/put               object\n",
              "ask                   float64\n",
              "bid                   float64\n",
              "mean price            float64\n",
              "iv                    float64\n",
              "volume                float64\n",
              "open interest         float64\n",
              "stock price for iv    float64\n",
              "delta                 float64\n",
              "vega                  float64\n",
              "gamma                 float64\n",
              "theta                 float64\n",
              "rho                   float64\n",
              "dtype: object"
            ]
          },
          "metadata": {},
          "execution_count": 15
        }
      ],
      "source": [
        "# Check the datatype of each column\n",
        "df.dtypes"
      ]
    },
    {
      "cell_type": "code",
      "execution_count": null,
      "metadata": {
        "id": "7jKz7V40lZqb"
      },
      "outputs": [],
      "source": [
        "# Change the datatype of 'date' and 'expiration' from object to datetime\n",
        "df[\"date\"] = pd.to_datetime(df[\"date\"])\n",
        "df[\"expiration\"] = pd.to_datetime(df[\"expiration\"])"
      ]
    },
    {
      "cell_type": "code",
      "execution_count": null,
      "metadata": {
        "id": "vXUeMXBAlxEk"
      },
      "outputs": [],
      "source": [
        "# Change the datatype of 'call/put' from object to int\n",
        "df['call/put'] = df['call/put'].map({'C': 1, 'P': 0})"
      ]
    },
    {
      "cell_type": "code",
      "execution_count": null,
      "metadata": {
        "colab": {
          "base_uri": "https://localhost:8080/"
        },
        "id": "Xn2Q_z8y1usz",
        "outputId": "55a435a3-c111-4019-9778-cbdb03ea68a6"
      },
      "outputs": [
        {
          "output_type": "execute_result",
          "data": {
            "text/plain": [
              "            date  adjusted close expiration  strike  call/put     ask     bid  \\\n",
              "0     2021-07-30          438.51 2021-07-30   215.0       1.0  224.56  223.35   \n",
              "1     2021-07-30          438.51 2021-07-30   215.0       0.0    0.01    0.00   \n",
              "2     2021-07-30          438.51 2021-07-30   220.0       1.0  219.56  218.35   \n",
              "3     2021-07-30          438.51 2021-07-30   220.0       0.0    0.01    0.00   \n",
              "4     2021-07-30          438.51 2021-07-30   225.0       1.0  214.56  213.35   \n",
              "...          ...             ...        ...     ...       ...     ...     ...   \n",
              "26775 2021-07-28          438.83 2021-10-15   525.0       0.0   87.73   87.35   \n",
              "26776 2021-07-28          438.83 2021-10-15   530.0       1.0    0.03    0.02   \n",
              "26777 2021-07-28          438.83 2021-10-15   530.0       0.0   92.70   92.37   \n",
              "26778 2021-07-28          438.83 2021-10-15   535.0       1.0    0.03    0.02   \n",
              "26779 2021-07-28          438.83        NaT     NaN       NaN     NaN     NaN   \n",
              "\n",
              "       mean price        iv  volume  open interest  stock price for iv  \\\n",
              "0         223.955 -1.000000     0.0            0.0              438.97   \n",
              "1           0.000 -1.000000     0.0         1401.0              438.97   \n",
              "2         218.955 -1.000000     0.0            1.0              438.97   \n",
              "3           0.000 -1.000000    50.0          328.0              438.97   \n",
              "4         213.955 -1.000000     0.0            0.0              438.97   \n",
              "...           ...       ...     ...            ...                 ...   \n",
              "26775      87.540  0.173580     0.0            0.0              438.62   \n",
              "26776       0.025  0.147034     0.0          118.0              438.62   \n",
              "26777      92.535  0.180737     0.0            0.0              438.62   \n",
              "26778       0.025  0.153468     0.0          236.0              438.62   \n",
              "26779         NaN       NaN     NaN            NaN                 NaN   \n",
              "\n",
              "          delta      vega     gamma     theta       rho  \n",
              "0      0.000000  0.000000  0.000000  0.000000  0.000000  \n",
              "1      0.000000  0.000000  0.000000  0.000000  0.000000  \n",
              "2      0.000000  0.000000  0.000000  0.000000  0.000000  \n",
              "3      0.000000  0.000000  0.000000  0.000000  0.000000  \n",
              "4      0.000000  0.000000  0.000000  0.000000  0.000000  \n",
              "...         ...       ...       ...       ...       ...  \n",
              "26775 -0.984042  0.069914  0.000967 -0.020129 -1.123662  \n",
              "26776  0.002826  0.017688  0.000289 -0.001609  0.002629  \n",
              "26777 -0.984770  0.066608  0.000885 -0.020060 -1.135165  \n",
              "26778  0.002719  0.017080  0.000267 -0.001624  0.002527  \n",
              "26779       NaN       NaN       NaN       NaN       NaN  \n",
              "\n",
              "[26780 rows x 17 columns]"
            ],
            "text/html": [
              "\n",
              "  <div id=\"df-6a6cea2a-10ab-47d3-b467-d83a07759313\">\n",
              "    <div class=\"colab-df-container\">\n",
              "      <div>\n",
              "<style scoped>\n",
              "    .dataframe tbody tr th:only-of-type {\n",
              "        vertical-align: middle;\n",
              "    }\n",
              "\n",
              "    .dataframe tbody tr th {\n",
              "        vertical-align: top;\n",
              "    }\n",
              "\n",
              "    .dataframe thead th {\n",
              "        text-align: right;\n",
              "    }\n",
              "</style>\n",
              "<table border=\"1\" class=\"dataframe\">\n",
              "  <thead>\n",
              "    <tr style=\"text-align: right;\">\n",
              "      <th></th>\n",
              "      <th>date</th>\n",
              "      <th>adjusted close</th>\n",
              "      <th>expiration</th>\n",
              "      <th>strike</th>\n",
              "      <th>call/put</th>\n",
              "      <th>ask</th>\n",
              "      <th>bid</th>\n",
              "      <th>mean price</th>\n",
              "      <th>iv</th>\n",
              "      <th>volume</th>\n",
              "      <th>open interest</th>\n",
              "      <th>stock price for iv</th>\n",
              "      <th>delta</th>\n",
              "      <th>vega</th>\n",
              "      <th>gamma</th>\n",
              "      <th>theta</th>\n",
              "      <th>rho</th>\n",
              "    </tr>\n",
              "  </thead>\n",
              "  <tbody>\n",
              "    <tr>\n",
              "      <th>0</th>\n",
              "      <td>2021-07-30</td>\n",
              "      <td>438.51</td>\n",
              "      <td>2021-07-30</td>\n",
              "      <td>215.0</td>\n",
              "      <td>1.0</td>\n",
              "      <td>224.56</td>\n",
              "      <td>223.35</td>\n",
              "      <td>223.955</td>\n",
              "      <td>-1.000000</td>\n",
              "      <td>0.0</td>\n",
              "      <td>0.0</td>\n",
              "      <td>438.97</td>\n",
              "      <td>0.000000</td>\n",
              "      <td>0.000000</td>\n",
              "      <td>0.000000</td>\n",
              "      <td>0.000000</td>\n",
              "      <td>0.000000</td>\n",
              "    </tr>\n",
              "    <tr>\n",
              "      <th>1</th>\n",
              "      <td>2021-07-30</td>\n",
              "      <td>438.51</td>\n",
              "      <td>2021-07-30</td>\n",
              "      <td>215.0</td>\n",
              "      <td>0.0</td>\n",
              "      <td>0.01</td>\n",
              "      <td>0.00</td>\n",
              "      <td>0.000</td>\n",
              "      <td>-1.000000</td>\n",
              "      <td>0.0</td>\n",
              "      <td>1401.0</td>\n",
              "      <td>438.97</td>\n",
              "      <td>0.000000</td>\n",
              "      <td>0.000000</td>\n",
              "      <td>0.000000</td>\n",
              "      <td>0.000000</td>\n",
              "      <td>0.000000</td>\n",
              "    </tr>\n",
              "    <tr>\n",
              "      <th>2</th>\n",
              "      <td>2021-07-30</td>\n",
              "      <td>438.51</td>\n",
              "      <td>2021-07-30</td>\n",
              "      <td>220.0</td>\n",
              "      <td>1.0</td>\n",
              "      <td>219.56</td>\n",
              "      <td>218.35</td>\n",
              "      <td>218.955</td>\n",
              "      <td>-1.000000</td>\n",
              "      <td>0.0</td>\n",
              "      <td>1.0</td>\n",
              "      <td>438.97</td>\n",
              "      <td>0.000000</td>\n",
              "      <td>0.000000</td>\n",
              "      <td>0.000000</td>\n",
              "      <td>0.000000</td>\n",
              "      <td>0.000000</td>\n",
              "    </tr>\n",
              "    <tr>\n",
              "      <th>3</th>\n",
              "      <td>2021-07-30</td>\n",
              "      <td>438.51</td>\n",
              "      <td>2021-07-30</td>\n",
              "      <td>220.0</td>\n",
              "      <td>0.0</td>\n",
              "      <td>0.01</td>\n",
              "      <td>0.00</td>\n",
              "      <td>0.000</td>\n",
              "      <td>-1.000000</td>\n",
              "      <td>50.0</td>\n",
              "      <td>328.0</td>\n",
              "      <td>438.97</td>\n",
              "      <td>0.000000</td>\n",
              "      <td>0.000000</td>\n",
              "      <td>0.000000</td>\n",
              "      <td>0.000000</td>\n",
              "      <td>0.000000</td>\n",
              "    </tr>\n",
              "    <tr>\n",
              "      <th>4</th>\n",
              "      <td>2021-07-30</td>\n",
              "      <td>438.51</td>\n",
              "      <td>2021-07-30</td>\n",
              "      <td>225.0</td>\n",
              "      <td>1.0</td>\n",
              "      <td>214.56</td>\n",
              "      <td>213.35</td>\n",
              "      <td>213.955</td>\n",
              "      <td>-1.000000</td>\n",
              "      <td>0.0</td>\n",
              "      <td>0.0</td>\n",
              "      <td>438.97</td>\n",
              "      <td>0.000000</td>\n",
              "      <td>0.000000</td>\n",
              "      <td>0.000000</td>\n",
              "      <td>0.000000</td>\n",
              "      <td>0.000000</td>\n",
              "    </tr>\n",
              "    <tr>\n",
              "      <th>...</th>\n",
              "      <td>...</td>\n",
              "      <td>...</td>\n",
              "      <td>...</td>\n",
              "      <td>...</td>\n",
              "      <td>...</td>\n",
              "      <td>...</td>\n",
              "      <td>...</td>\n",
              "      <td>...</td>\n",
              "      <td>...</td>\n",
              "      <td>...</td>\n",
              "      <td>...</td>\n",
              "      <td>...</td>\n",
              "      <td>...</td>\n",
              "      <td>...</td>\n",
              "      <td>...</td>\n",
              "      <td>...</td>\n",
              "      <td>...</td>\n",
              "    </tr>\n",
              "    <tr>\n",
              "      <th>26775</th>\n",
              "      <td>2021-07-28</td>\n",
              "      <td>438.83</td>\n",
              "      <td>2021-10-15</td>\n",
              "      <td>525.0</td>\n",
              "      <td>0.0</td>\n",
              "      <td>87.73</td>\n",
              "      <td>87.35</td>\n",
              "      <td>87.540</td>\n",
              "      <td>0.173580</td>\n",
              "      <td>0.0</td>\n",
              "      <td>0.0</td>\n",
              "      <td>438.62</td>\n",
              "      <td>-0.984042</td>\n",
              "      <td>0.069914</td>\n",
              "      <td>0.000967</td>\n",
              "      <td>-0.020129</td>\n",
              "      <td>-1.123662</td>\n",
              "    </tr>\n",
              "    <tr>\n",
              "      <th>26776</th>\n",
              "      <td>2021-07-28</td>\n",
              "      <td>438.83</td>\n",
              "      <td>2021-10-15</td>\n",
              "      <td>530.0</td>\n",
              "      <td>1.0</td>\n",
              "      <td>0.03</td>\n",
              "      <td>0.02</td>\n",
              "      <td>0.025</td>\n",
              "      <td>0.147034</td>\n",
              "      <td>0.0</td>\n",
              "      <td>118.0</td>\n",
              "      <td>438.62</td>\n",
              "      <td>0.002826</td>\n",
              "      <td>0.017688</td>\n",
              "      <td>0.000289</td>\n",
              "      <td>-0.001609</td>\n",
              "      <td>0.002629</td>\n",
              "    </tr>\n",
              "    <tr>\n",
              "      <th>26777</th>\n",
              "      <td>2021-07-28</td>\n",
              "      <td>438.83</td>\n",
              "      <td>2021-10-15</td>\n",
              "      <td>530.0</td>\n",
              "      <td>0.0</td>\n",
              "      <td>92.70</td>\n",
              "      <td>92.37</td>\n",
              "      <td>92.535</td>\n",
              "      <td>0.180737</td>\n",
              "      <td>0.0</td>\n",
              "      <td>0.0</td>\n",
              "      <td>438.62</td>\n",
              "      <td>-0.984770</td>\n",
              "      <td>0.066608</td>\n",
              "      <td>0.000885</td>\n",
              "      <td>-0.020060</td>\n",
              "      <td>-1.135165</td>\n",
              "    </tr>\n",
              "    <tr>\n",
              "      <th>26778</th>\n",
              "      <td>2021-07-28</td>\n",
              "      <td>438.83</td>\n",
              "      <td>2021-10-15</td>\n",
              "      <td>535.0</td>\n",
              "      <td>1.0</td>\n",
              "      <td>0.03</td>\n",
              "      <td>0.02</td>\n",
              "      <td>0.025</td>\n",
              "      <td>0.153468</td>\n",
              "      <td>0.0</td>\n",
              "      <td>236.0</td>\n",
              "      <td>438.62</td>\n",
              "      <td>0.002719</td>\n",
              "      <td>0.017080</td>\n",
              "      <td>0.000267</td>\n",
              "      <td>-0.001624</td>\n",
              "      <td>0.002527</td>\n",
              "    </tr>\n",
              "    <tr>\n",
              "      <th>26779</th>\n",
              "      <td>2021-07-28</td>\n",
              "      <td>438.83</td>\n",
              "      <td>NaT</td>\n",
              "      <td>NaN</td>\n",
              "      <td>NaN</td>\n",
              "      <td>NaN</td>\n",
              "      <td>NaN</td>\n",
              "      <td>NaN</td>\n",
              "      <td>NaN</td>\n",
              "      <td>NaN</td>\n",
              "      <td>NaN</td>\n",
              "      <td>NaN</td>\n",
              "      <td>NaN</td>\n",
              "      <td>NaN</td>\n",
              "      <td>NaN</td>\n",
              "      <td>NaN</td>\n",
              "      <td>NaN</td>\n",
              "    </tr>\n",
              "  </tbody>\n",
              "</table>\n",
              "<p>26780 rows × 17 columns</p>\n",
              "</div>\n",
              "      <button class=\"colab-df-convert\" onclick=\"convertToInteractive('df-6a6cea2a-10ab-47d3-b467-d83a07759313')\"\n",
              "              title=\"Convert this dataframe to an interactive table.\"\n",
              "              style=\"display:none;\">\n",
              "        \n",
              "  <svg xmlns=\"http://www.w3.org/2000/svg\" height=\"24px\"viewBox=\"0 0 24 24\"\n",
              "       width=\"24px\">\n",
              "    <path d=\"M0 0h24v24H0V0z\" fill=\"none\"/>\n",
              "    <path d=\"M18.56 5.44l.94 2.06.94-2.06 2.06-.94-2.06-.94-.94-2.06-.94 2.06-2.06.94zm-11 1L8.5 8.5l.94-2.06 2.06-.94-2.06-.94L8.5 2.5l-.94 2.06-2.06.94zm10 10l.94 2.06.94-2.06 2.06-.94-2.06-.94-.94-2.06-.94 2.06-2.06.94z\"/><path d=\"M17.41 7.96l-1.37-1.37c-.4-.4-.92-.59-1.43-.59-.52 0-1.04.2-1.43.59L10.3 9.45l-7.72 7.72c-.78.78-.78 2.05 0 2.83L4 21.41c.39.39.9.59 1.41.59.51 0 1.02-.2 1.41-.59l7.78-7.78 2.81-2.81c.8-.78.8-2.07 0-2.86zM5.41 20L4 18.59l7.72-7.72 1.47 1.35L5.41 20z\"/>\n",
              "  </svg>\n",
              "      </button>\n",
              "      \n",
              "  <style>\n",
              "    .colab-df-container {\n",
              "      display:flex;\n",
              "      flex-wrap:wrap;\n",
              "      gap: 12px;\n",
              "    }\n",
              "\n",
              "    .colab-df-convert {\n",
              "      background-color: #E8F0FE;\n",
              "      border: none;\n",
              "      border-radius: 50%;\n",
              "      cursor: pointer;\n",
              "      display: none;\n",
              "      fill: #1967D2;\n",
              "      height: 32px;\n",
              "      padding: 0 0 0 0;\n",
              "      width: 32px;\n",
              "    }\n",
              "\n",
              "    .colab-df-convert:hover {\n",
              "      background-color: #E2EBFA;\n",
              "      box-shadow: 0px 1px 2px rgba(60, 64, 67, 0.3), 0px 1px 3px 1px rgba(60, 64, 67, 0.15);\n",
              "      fill: #174EA6;\n",
              "    }\n",
              "\n",
              "    [theme=dark] .colab-df-convert {\n",
              "      background-color: #3B4455;\n",
              "      fill: #D2E3FC;\n",
              "    }\n",
              "\n",
              "    [theme=dark] .colab-df-convert:hover {\n",
              "      background-color: #434B5C;\n",
              "      box-shadow: 0px 1px 3px 1px rgba(0, 0, 0, 0.15);\n",
              "      filter: drop-shadow(0px 1px 2px rgba(0, 0, 0, 0.3));\n",
              "      fill: #FFFFFF;\n",
              "    }\n",
              "  </style>\n",
              "\n",
              "      <script>\n",
              "        const buttonEl =\n",
              "          document.querySelector('#df-6a6cea2a-10ab-47d3-b467-d83a07759313 button.colab-df-convert');\n",
              "        buttonEl.style.display =\n",
              "          google.colab.kernel.accessAllowed ? 'block' : 'none';\n",
              "\n",
              "        async function convertToInteractive(key) {\n",
              "          const element = document.querySelector('#df-6a6cea2a-10ab-47d3-b467-d83a07759313');\n",
              "          const dataTable =\n",
              "            await google.colab.kernel.invokeFunction('convertToInteractive',\n",
              "                                                     [key], {});\n",
              "          if (!dataTable) return;\n",
              "\n",
              "          const docLinkHtml = 'Like what you see? Visit the ' +\n",
              "            '<a target=\"_blank\" href=https://colab.research.google.com/notebooks/data_table.ipynb>data table notebook</a>'\n",
              "            + ' to learn more about interactive tables.';\n",
              "          element.innerHTML = '';\n",
              "          dataTable['output_type'] = 'display_data';\n",
              "          await google.colab.output.renderOutput(dataTable, element);\n",
              "          const docLink = document.createElement('div');\n",
              "          docLink.innerHTML = docLinkHtml;\n",
              "          element.appendChild(docLink);\n",
              "        }\n",
              "      </script>\n",
              "    </div>\n",
              "  </div>\n",
              "  "
            ]
          },
          "metadata": {},
          "execution_count": 18
        }
      ],
      "source": [
        "df"
      ]
    },
    {
      "cell_type": "code",
      "execution_count": null,
      "metadata": {
        "id": "WqFdic5azoUz"
      },
      "outputs": [],
      "source": [
        "# Change the datatype of 'theta' from object to float\n",
        "\n",
        "df['theta'] = df['theta'].astype(float)"
      ]
    },
    {
      "cell_type": "code",
      "execution_count": null,
      "metadata": {
        "colab": {
          "base_uri": "https://localhost:8080/"
        },
        "id": "6g2g_TXUork6",
        "outputId": "100ec099-31bd-40ec-9495-22fa65b2ee24"
      },
      "outputs": [
        {
          "output_type": "execute_result",
          "data": {
            "text/plain": [
              "date                  datetime64[ns]\n",
              "adjusted close               float64\n",
              "expiration            datetime64[ns]\n",
              "strike                       float64\n",
              "call/put                     float64\n",
              "ask                          float64\n",
              "bid                          float64\n",
              "mean price                   float64\n",
              "iv                           float64\n",
              "volume                       float64\n",
              "open interest                float64\n",
              "stock price for iv           float64\n",
              "delta                        float64\n",
              "vega                         float64\n",
              "gamma                        float64\n",
              "theta                        float64\n",
              "rho                          float64\n",
              "dtype: object"
            ]
          },
          "metadata": {},
          "execution_count": 20
        }
      ],
      "source": [
        "# Check the datatype of each column\n",
        "df.dtypes"
      ]
    },
    {
      "cell_type": "code",
      "execution_count": null,
      "metadata": {
        "colab": {
          "base_uri": "https://localhost:8080/"
        },
        "id": "ah_90FGBavBK",
        "outputId": "67f5c468-d1c4-4da8-efec-ad21932ce0a2"
      },
      "outputs": [
        {
          "output_type": "stream",
          "name": "stdout",
          "text": [
            "Before removes the rows that contains NULL values: 26780\n",
            "Aefore removes the rows that contains NULL values: 26779\n"
          ]
        }
      ],
      "source": [
        "# Remove the record which has the NULL value\n",
        "\n",
        "print(\"Before removes the rows that contains NULL values:\" ,(len(df)))\n",
        "df = df.dropna()\n",
        "print(\"Aefore removes the rows that contains NULL values:\",(len(df)))\n",
        "\n",
        "\n"
      ]
    },
    {
      "cell_type": "code",
      "execution_count": null,
      "metadata": {
        "id": "zU5ox_kz0WSD"
      },
      "outputs": [],
      "source": [
        "# Save the processed dataframe as a csv file\n",
        "df.to_csv('data_set.csv', index=False)"
      ]
    },
    {
      "cell_type": "markdown",
      "metadata": {
        "id": "bSNNUfm4dnDb"
      },
      "source": [
        "## **Data Aggregation & Representation**"
      ]
    },
    {
      "cell_type": "markdown",
      "metadata": {
        "id": "qkZEJWsjl7HR"
      },
      "source": [
        "Date and the expiration attributes has to converted to date type object and also we have to find the different of days between this attribute and this value also has to be in the data set."
      ]
    },
    {
      "cell_type": "code",
      "execution_count": null,
      "metadata": {
        "id": "zIU_ohWZl6di",
        "colab": {
          "base_uri": "https://localhost:8080/"
        },
        "outputId": "daa848b5-9246-4294-cfe1-9a86e33f39ef"
      },
      "outputs": [
        {
          "output_type": "stream",
          "name": "stderr",
          "text": [
            "<ipython-input-26-ab5dbb3ce46b>:1: SettingWithCopyWarning: \n",
            "A value is trying to be set on a copy of a slice from a DataFrame.\n",
            "Try using .loc[row_indexer,col_indexer] = value instead\n",
            "\n",
            "See the caveats in the documentation: https://pandas.pydata.org/pandas-docs/stable/user_guide/indexing.html#returning-a-view-versus-a-copy\n",
            "  df['date'] = pd.to_datetime(df['date'])\n",
            "<ipython-input-26-ab5dbb3ce46b>:2: SettingWithCopyWarning: \n",
            "A value is trying to be set on a copy of a slice from a DataFrame.\n",
            "Try using .loc[row_indexer,col_indexer] = value instead\n",
            "\n",
            "See the caveats in the documentation: https://pandas.pydata.org/pandas-docs/stable/user_guide/indexing.html#returning-a-view-versus-a-copy\n",
            "  df['expiration'] = pd.to_datetime(df['expiration'])\n",
            "<ipython-input-26-ab5dbb3ce46b>:3: SettingWithCopyWarning: \n",
            "A value is trying to be set on a copy of a slice from a DataFrame.\n",
            "Try using .loc[row_indexer,col_indexer] = value instead\n",
            "\n",
            "See the caveats in the documentation: https://pandas.pydata.org/pandas-docs/stable/user_guide/indexing.html#returning-a-view-versus-a-copy\n",
            "  df['DateGap'] = df['expiration'].sub(df['date'], axis=0)\n"
          ]
        }
      ],
      "source": [
        "df['date'] = pd.to_datetime(df['date'])\n",
        "df['expiration'] = pd.to_datetime(df['expiration'])\n",
        "df['DateGap'] = df['expiration'].sub(df['date'], axis=0)"
      ]
    },
    {
      "cell_type": "markdown",
      "metadata": {
        "id": "JiUG36_frpN8"
      },
      "source": [
        "Converting the date to int"
      ]
    },
    {
      "cell_type": "code",
      "execution_count": null,
      "metadata": {
        "id": "Wp2IJsmqm6_U",
        "colab": {
          "base_uri": "https://localhost:8080/"
        },
        "outputId": "7b4125e1-bfb1-42a8-bc6b-e55fa277bf9e"
      },
      "outputs": [
        {
          "output_type": "stream",
          "name": "stderr",
          "text": [
            "<ipython-input-27-62f04c35d927>:1: SettingWithCopyWarning: \n",
            "A value is trying to be set on a copy of a slice from a DataFrame.\n",
            "Try using .loc[row_indexer,col_indexer] = value instead\n",
            "\n",
            "See the caveats in the documentation: https://pandas.pydata.org/pandas-docs/stable/user_guide/indexing.html#returning-a-view-versus-a-copy\n",
            "  df['DateGap'] = df['DateGap'].dt.days\n"
          ]
        }
      ],
      "source": [
        "df['DateGap'] = df['DateGap'].dt.days"
      ]
    },
    {
      "cell_type": "code",
      "execution_count": null,
      "metadata": {
        "colab": {
          "base_uri": "https://localhost:8080/"
        },
        "id": "ZAGr84Z6iuFB",
        "outputId": "c86e83a0-055c-497e-a826-e44612c1f358"
      },
      "outputs": [
        {
          "output_type": "stream",
          "name": "stdout",
          "text": [
            "<class 'pandas.core.frame.DataFrame'>\n",
            "Int64Index: 26779 entries, 0 to 26778\n",
            "Data columns (total 18 columns):\n",
            " #   Column              Non-Null Count  Dtype         \n",
            "---  ------              --------------  -----         \n",
            " 0   date                26779 non-null  datetime64[ns]\n",
            " 1   adjusted close      26779 non-null  float64       \n",
            " 2   expiration          26779 non-null  datetime64[ns]\n",
            " 3   strike              26779 non-null  float64       \n",
            " 4   call/put            26779 non-null  float64       \n",
            " 5   ask                 26779 non-null  float64       \n",
            " 6   bid                 26779 non-null  float64       \n",
            " 7   mean price          26779 non-null  float64       \n",
            " 8   iv                  26779 non-null  float64       \n",
            " 9   volume              26779 non-null  float64       \n",
            " 10  open interest       26779 non-null  float64       \n",
            " 11  stock price for iv  26779 non-null  float64       \n",
            " 12  delta               26779 non-null  float64       \n",
            " 13  vega                26779 non-null  float64       \n",
            " 14  gamma               26779 non-null  float64       \n",
            " 15  theta               26779 non-null  float64       \n",
            " 16  rho                 26779 non-null  float64       \n",
            " 17  DateGap             26779 non-null  int64         \n",
            "dtypes: datetime64[ns](2), float64(15), int64(1)\n",
            "memory usage: 3.9 MB\n"
          ]
        }
      ],
      "source": [
        "df.info()"
      ]
    },
    {
      "cell_type": "markdown",
      "metadata": {
        "id": "a1oDBIjHcqrP"
      },
      "source": [
        "## **Visualization**"
      ]
    },
    {
      "cell_type": "markdown",
      "metadata": {
        "id": "NXr6Oy-OffeG"
      },
      "source": [
        "### Distribution of of the key values"
      ]
    },
    {
      "cell_type": "code",
      "execution_count": null,
      "metadata": {
        "colab": {
          "base_uri": "https://localhost:8080/",
          "height": 447
        },
        "id": "ETbDIQGUyQkN",
        "outputId": "44134976-16e8-46ec-acf9-30689bf7351d"
      },
      "outputs": [
        {
          "output_type": "execute_result",
          "data": {
            "text/plain": [
              "<Axes: ylabel='Density'>"
            ]
          },
          "metadata": {},
          "execution_count": 29
        },
        {
          "output_type": "display_data",
          "data": {
            "text/plain": [
              "<Figure size 640x480 with 1 Axes>"
            ],
            "image/png": "[encoded data removed]"
          },
          "metadata": {}
        }
      ],
      "source": [
        "# Plot the distribution of strike\n",
        "df['strike'].plot(kind='kde')\n",
        "\n",
        "# Observed a normal distribution"
      ]
    },
    {
      "cell_type": "code",
      "execution_count": null,
      "metadata": {
        "colab": {
          "base_uri": "https://localhost:8080/",
          "height": 447
        },
        "id": "Awh1b2A_zCE_",
        "outputId": "09bce916-2028-4157-f615-0226e718c2b5"
      },
      "outputs": [
        {
          "output_type": "execute_result",
          "data": {
            "text/plain": [
              "<Axes: ylabel='Density'>"
            ]
          },
          "metadata": {},
          "execution_count": 30
        },
        {
          "output_type": "display_data",
          "data": {
            "text/plain": [
              "<Figure size 640x480 with 1 Axes>"
            ],
            "image/png": "[encoded data removed]"
          },
          "metadata": {}
        }
      ],
      "source": [
        "# Plot the distribution of mean price\n",
        "df['mean price'].plot(kind='kde')\n",
        "\n",
        "# Observed a right skewed distribution"
      ]
    },
    {
      "cell_type": "code",
      "execution_count": null,
      "metadata": {
        "colab": {
          "base_uri": "https://localhost:8080/",
          "height": 447
        },
        "id": "lwJb3glTykmZ",
        "outputId": "06dd1b81-1199-49af-d610-b8a3e47a4562"
      },
      "outputs": [
        {
          "output_type": "execute_result",
          "data": {
            "text/plain": [
              "<Axes: ylabel='Density'>"
            ]
          },
          "metadata": {},
          "execution_count": 31
        },
        {
          "output_type": "display_data",
          "data": {
            "text/plain": [
              "<Figure size 640x480 with 1 Axes>"
            ],
            "image/png": "[encoded data removed]"
          },
          "metadata": {}
        }
      ],
      "source": [
        "# Plot the distribution of iv\n",
        "df['iv'].plot(kind='kde')\n",
        "\n",
        "# Observed a right skewed distribution and also the outliers"
      ]
    },
    {
      "cell_type": "code",
      "execution_count": null,
      "metadata": {
        "colab": {
          "base_uri": "https://localhost:8080/",
          "height": 449
        },
        "id": "9mvCUoCbzO4g",
        "outputId": "05d2e21e-60f1-459f-9d5d-583f871e84af"
      },
      "outputs": [
        {
          "output_type": "execute_result",
          "data": {
            "text/plain": [
              "<Axes: ylabel='Density'>"
            ]
          },
          "metadata": {},
          "execution_count": 32
        },
        {
          "output_type": "display_data",
          "data": {
            "text/plain": [
              "<Figure size 640x480 with 1 Axes>"
            ],
            "image/png": "[encoded data removed]"
          },
          "metadata": {}
        }
      ],
      "source": [
        "# Plot the distribution of stock price for iv\n",
        "df['stock price for iv'].plot(kind='kde')\n",
        "\n",
        "# Observed a  multimodal distribution"
      ]
    },
    {
      "cell_type": "code",
      "execution_count": null,
      "metadata": {
        "colab": {
          "base_uri": "https://localhost:8080/",
          "height": 447
        },
        "id": "qQCmrltScujm",
        "outputId": "6359dbf1-abc3-4e4d-f025-b89d4f52feaa"
      },
      "outputs": [
        {
          "output_type": "execute_result",
          "data": {
            "text/plain": [
              "<Axes: ylabel='Density'>"
            ]
          },
          "metadata": {},
          "execution_count": 33
        },
        {
          "output_type": "display_data",
          "data": {
            "text/plain": [
              "<Figure size 640x480 with 1 Axes>"
            ],
            "image/png": "[encoded data removed]"
          },
          "metadata": {}
        }
      ],
      "source": [
        "# Plot the distribution of stock price for delta\n",
        "df['delta'].plot(kind='kde')\n",
        "\n",
        "# Observed a  multimodal distribution"
      ]
    },
    {
      "cell_type": "code",
      "execution_count": null,
      "metadata": {
        "colab": {
          "base_uri": "https://localhost:8080/",
          "height": 447
        },
        "id": "Kug9WaQ5eBvN",
        "outputId": "4fbaf60a-83bb-4f91-e663-bdf1257ecad4"
      },
      "outputs": [
        {
          "output_type": "execute_result",
          "data": {
            "text/plain": [
              "<Axes: ylabel='Density'>"
            ]
          },
          "metadata": {},
          "execution_count": 34
        },
        {
          "output_type": "display_data",
          "data": {
            "text/plain": [
              "<Figure size 640x480 with 1 Axes>"
            ],
            "image/png": "[encoded data removed]"
          },
          "metadata": {}
        }
      ],
      "source": [
        "# Plot the distribution of stock price for vega\n",
        "df['vega'].plot(kind='kde')\n",
        "\n",
        "# Observed a right skewed distribution"
      ]
    },
    {
      "cell_type": "markdown",
      "metadata": {
        "id": "CZQcii5r0CRK"
      },
      "source": [
        "### Line chart"
      ]
    },
    {
      "cell_type": "code",
      "execution_count": null,
      "metadata": {
        "colab": {
          "base_uri": "https://localhost:8080/"
        },
        "id": "jiZ7bW5VoJch",
        "outputId": "2df1e2cc-cc28-41dd-cfb0-c514731df88f"
      },
      "outputs": [
        {
          "output_type": "display_data",
          "data": {
            "text/plain": [
              "<Figure size 640x480 with 1 Axes>"
            ],
            "image/png": "[encoded data removed]"
          },
          "metadata": {}
        }
      ],
      "source": [
        "# Plot the line chart to identify the trend of adjusted close and stock price for iv for a one month time period\n",
        "\n",
        "for col in ['adjusted close', 'stock price for iv']:\n",
        "    plt.plot(df['date'], df[col])\n",
        "    plt.title(\"Comparison of adjusted close and stock price for iv\")\n",
        "    plt.xlabel(\"Date\")\n",
        "    plt.ylabel(\"price\")"
      ]
    },
    {
      "cell_type": "code",
      "execution_count": null,
      "metadata": {
        "colab": {
          "base_uri": "https://localhost:8080/"
        },
        "id": "HWS4BMlZ0Yr5",
        "outputId": "d173732c-52e2-4884-f477-71cd8424fde3"
      },
      "outputs": [
        {
          "output_type": "execute_result",
          "data": {
            "text/plain": [
              "Text(0, 0.5, 'volume')"
            ]
          },
          "metadata": {},
          "execution_count": 36
        },
        {
          "output_type": "display_data",
          "data": {
            "text/plain": [
              "<Figure size 640x480 with 1 Axes>"
            ],
            "image/png": "[encoded data removed]"
          },
          "metadata": {}
        }
      ],
      "source": [
        "# Plot the chart\n",
        "\n",
        "plt.plot(df['date'], df['volume'])\n",
        "plt.title(\"Transacted stock volume\")\n",
        "plt.xlabel(\"Date\")\n",
        "plt.ylabel(\"volume\")\n",
        "\n",
        "# In some specific days there was high transaction and in some days the there was no transaction\n",
        "# Observed a high fluctuation in the daily trasnaction volume"
      ]
    },
    {
      "cell_type": "markdown",
      "metadata": {
        "id": "Q_iR343q_zSi"
      },
      "source": [
        "### Corrleation"
      ]
    },
    {
      "cell_type": "code",
      "execution_count": null,
      "metadata": {
        "id": "lhP0Itbdqkij"
      },
      "outputs": [],
      "source": [
        "# Divide the dataset into two parts based on the call/put type for the further analysis\n",
        "\n",
        "df_call = df[df['call/put'] == 1]  # Dataset only with call records\n",
        "\n",
        "df_put = df[df['call/put'] == 0]   # Dataset only with put records\n",
        "\n"
      ]
    },
    {
      "cell_type": "code",
      "execution_count": null,
      "metadata": {
        "colab": {
          "base_uri": "https://localhost:8080/"
        },
        "id": "M63oSe_0-QM-",
        "outputId": "0681049d-6837-4417-d4ce-2e66bc13242c"
      },
      "outputs": [
        {
          "output_type": "stream",
          "name": "stderr",
          "text": [
            "<ipython-input-38-aa688ddc56e0>:6: FutureWarning: The default value of numeric_only in DataFrame.corr is deprecated. In a future version, it will default to False. Select only valid columns or specify the value of numeric_only to silence this warning.\n",
            "  cormat = df_call.corr()\n"
          ]
        },
        {
          "output_type": "display_data",
          "data": {
            "text/plain": [
              "<Figure size 640x480 with 2 Axes>"
            ],
            "image/png": "[encoded data removed]"
          },
          "metadata": {}
        }
      ],
      "source": [
        "import seaborn as sns\n",
        "from scipy import stats\n",
        "\n",
        "# Caluculated the correlation matrix for the call dataset and visualize using heatmap\n",
        "\n",
        "cormat = df_call.corr()\n",
        "sns.heatmap(cormat);\n",
        "\n",
        "\n",
        "#Stock price for iv and adjusted close have a strong high correlation.\n",
        "#Apart from that, delta has a significant correlation with ask,bid and mean price.\n",
        "# And rho and vega also have a significant correlation"
      ]
    },
    {
      "cell_type": "code",
      "execution_count": null,
      "metadata": {
        "colab": {
          "base_uri": "https://localhost:8080/"
        },
        "id": "54CcBrvpBVxf",
        "outputId": "c4b1691c-2dd0-4d4f-f903-6f6d5786fa53"
      },
      "outputs": [
        {
          "output_type": "display_data",
          "data": {
            "text/plain": [
              "<Figure size 640x480 with 1 Axes>"
            ],
            "image/png": "[encoded data removed]"
          },
          "metadata": {}
        }
      ],
      "source": [
        "# Scatter plot for delta and mean price\n",
        "\n",
        "ax = sns.scatterplot(x=\"delta\", y=\"mean price\", data=df_call)\n",
        "ax.set_title(\"Mean price vs. Delta\")\n",
        "ax.set_xlabel(\"delta\");\n",
        "\n",
        "# Delta has a positive correlation with the mean price\n",
        "# But the plot is unusual\n",
        "# Out liers are there in the dataset\n"
      ]
    },
    {
      "cell_type": "code",
      "execution_count": null,
      "metadata": {
        "colab": {
          "base_uri": "https://localhost:8080/"
        },
        "id": "6D9xo4Z6_Ujn",
        "outputId": "c28c2176-066f-4cea-8dd7-56dd927db6df"
      },
      "outputs": [
        {
          "output_type": "stream",
          "name": "stderr",
          "text": [
            "<ipython-input-40-b655c33d33a3>:3: FutureWarning: The default value of numeric_only in DataFrame.corr is deprecated. In a future version, it will default to False. Select only valid columns or specify the value of numeric_only to silence this warning.\n",
            "  cormat = df_put.corr()\n"
          ]
        },
        {
          "output_type": "display_data",
          "data": {
            "text/plain": [
              "<Figure size 640x480 with 2 Axes>"
            ],
            "image/png": "[encoded data removed]"
          },
          "metadata": {}
        }
      ],
      "source": [
        "# Caluculated the correlation matrix for the put dataset and visualize using heatmap\n",
        "\n",
        "cormat = df_put.corr()\n",
        "sns.heatmap(cormat);\n",
        "\n",
        "# Unable to find any significant correlation"
      ]
    },
    {
      "cell_type": "markdown",
      "metadata": {
        "id": "c5fb3wco4sy-"
      },
      "source": [
        "### Scatter plot"
      ]
    },
    {
      "cell_type": "code",
      "source": [
        "# # Scatter plot for strike and mean price for whole dataset\n",
        "\n",
        "ax = sns.scatterplot(x=\"strike\", y=\"mean price\", data=df)\n",
        "ax.set_title(\"Mean price vs. Strike\")\n",
        "ax.set_xlabel(\"strike\");"
      ],
      "metadata": {
        "colab": {
          "base_uri": "https://localhost:8080/"
        },
        "id": "vjydlBMeofJn",
        "outputId": "096bdd46-3e01-445e-c0c4-7e2b94b42dc2"
      },
      "execution_count": null,
      "outputs": [
        {
          "output_type": "display_data",
          "data": {
            "text/plain": [
              "<Figure size 640x480 with 1 Axes>"
            ],
            "image/png": "[encoded data removed]"
          },
          "metadata": {}
        }
      ]
    },
    {
      "cell_type": "code",
      "execution_count": null,
      "metadata": {
        "colab": {
          "base_uri": "https://localhost:8080/"
        },
        "id": "81ACdOpD46d5",
        "outputId": "b95dbd65-9681-4295-e63a-bac4e610c06e"
      },
      "outputs": [
        {
          "output_type": "display_data",
          "data": {
            "text/plain": [
              "<Figure size 640x480 with 1 Axes>"
            ],
            "image/png": "[encoded data removed]"
          },
          "metadata": {}
        }
      ],
      "source": [
        "# Scatter plot for strike and mean price for call dataset\n",
        "\n",
        "ax = sns.scatterplot(x=\"strike\", y=\"mean price\", data=df_call)\n",
        "ax.set_title(\"Mean price vs. Strike\")\n",
        "ax.set_xlabel(\"strike\");"
      ]
    },
    {
      "cell_type": "code",
      "source": [
        "# After analyzing the above scatter plot, we can conclude that when there is a call, the strike has a positive impact on the average price."
      ],
      "metadata": {
        "id": "pCx_cxfKoWfG"
      },
      "execution_count": null,
      "outputs": []
    },
    {
      "cell_type": "code",
      "execution_count": null,
      "metadata": {
        "colab": {
          "base_uri": "https://localhost:8080/"
        },
        "id": "ZZxGURxY58Cv",
        "outputId": "ecdeb4ab-e45f-44d4-8d91-0ad9679c06f8"
      },
      "outputs": [
        {
          "output_type": "display_data",
          "data": {
            "text/plain": [
              "<Figure size 640x480 with 1 Axes>"
            ],
            "image/png": "[encoded data removed]"
          },
          "metadata": {}
        }
      ],
      "source": [
        "# Scatter plot for strike and mean price for pull dataset\n",
        "\n",
        "ax = sns.scatterplot(x=\"strike\", y=\"mean price\", data=df_put)\n",
        "ax.set_title(\"Mean price vs. Strike\")\n",
        "ax.set_xlabel(\"strike\");"
      ]
    },
    {
      "cell_type": "code",
      "source": [
        "# After analyzing the above scatter plot, we can conclude that when there is a put, the strike has a negative impact on the average price."
      ],
      "metadata": {
        "id": "clcKIE0CnKes"
      },
      "execution_count": null,
      "outputs": []
    },
    {
      "cell_type": "markdown",
      "metadata": {
        "id": "HNwFoEDmrtHJ"
      },
      "source": [
        "##**Analysis**"
      ]
    },
    {
      "cell_type": "markdown",
      "metadata": {
        "id": "_cV9A0UHEkpp"
      },
      "source": [
        "### Predict the strike based on other features (without date)"
      ]
    },
    {
      "cell_type": "code",
      "execution_count": null,
      "metadata": {
        "colab": {
          "base_uri": "https://localhost:8080/",
          "height": 267
        },
        "id": "pE4AyJXDEjz5",
        "outputId": "35829bb0-ab27-4e5f-e774-58e671930c54"
      },
      "outputs": [
        {
          "output_type": "execute_result",
          "data": {
            "text/plain": [
              "   adjusted close  strike  call/put     ask     bid  mean price   iv  volume  \\\n",
              "0          438.51   215.0       1.0  224.56  223.35     223.955 -1.0     0.0   \n",
              "1          438.51   215.0       0.0    0.01    0.00       0.000 -1.0     0.0   \n",
              "2          438.51   220.0       1.0  219.56  218.35     218.955 -1.0     0.0   \n",
              "3          438.51   220.0       0.0    0.01    0.00       0.000 -1.0    50.0   \n",
              "4          438.51   225.0       1.0  214.56  213.35     213.955 -1.0     0.0   \n",
              "\n",
              "   open interest  stock price for iv  delta  vega  gamma  theta  rho  DateGap  \n",
              "0            0.0              438.97    0.0   0.0    0.0    0.0  0.0        0  \n",
              "1         1401.0              438.97    0.0   0.0    0.0    0.0  0.0        0  \n",
              "2            1.0              438.97    0.0   0.0    0.0    0.0  0.0        0  \n",
              "3          328.0              438.97    0.0   0.0    0.0    0.0  0.0        0  \n",
              "4            0.0              438.97    0.0   0.0    0.0    0.0  0.0        0  "
            ],
            "text/html": [
              "\n",
              "  <div id=\"df-d1b90a38-0f1e-474a-9404-9b6989c79d21\">\n",
              "    <div class=\"colab-df-container\">\n",
              "      <div>\n",
              "<style scoped>\n",
              "    .dataframe tbody tr th:only-of-type {\n",
              "        vertical-align: middle;\n",
              "    }\n",
              "\n",
              "    .dataframe tbody tr th {\n",
              "        vertical-align: top;\n",
              "    }\n",
              "\n",
              "    .dataframe thead th {\n",
              "        text-align: right;\n",
              "    }\n",
              "</style>\n",
              "<table border=\"1\" class=\"dataframe\">\n",
              "  <thead>\n",
              "    <tr style=\"text-align: right;\">\n",
              "      <th></th>\n",
              "      <th>adjusted close</th>\n",
              "      <th>strike</th>\n",
              "      <th>call/put</th>\n",
              "      <th>ask</th>\n",
              "      <th>bid</th>\n",
              "      <th>mean price</th>\n",
              "      <th>iv</th>\n",
              "      <th>volume</th>\n",
              "      <th>open interest</th>\n",
              "      <th>stock price for iv</th>\n",
              "      <th>delta</th>\n",
              "      <th>vega</th>\n",
              "      <th>gamma</th>\n",
              "      <th>theta</th>\n",
              "      <th>rho</th>\n",
              "      <th>DateGap</th>\n",
              "    </tr>\n",
              "  </thead>\n",
              "  <tbody>\n",
              "    <tr>\n",
              "      <th>0</th>\n",
              "      <td>438.51</td>\n",
              "      <td>215.0</td>\n",
              "      <td>1.0</td>\n",
              "      <td>224.56</td>\n",
              "      <td>223.35</td>\n",
              "      <td>223.955</td>\n",
              "      <td>-1.0</td>\n",
              "      <td>0.0</td>\n",
              "      <td>0.0</td>\n",
              "      <td>438.97</td>\n",
              "      <td>0.0</td>\n",
              "      <td>0.0</td>\n",
              "      <td>0.0</td>\n",
              "      <td>0.0</td>\n",
              "      <td>0.0</td>\n",
              "      <td>0</td>\n",
              "    </tr>\n",
              "    <tr>\n",
              "      <th>1</th>\n",
              "      <td>438.51</td>\n",
              "      <td>215.0</td>\n",
              "      <td>0.0</td>\n",
              "      <td>0.01</td>\n",
              "      <td>0.00</td>\n",
              "      <td>0.000</td>\n",
              "      <td>-1.0</td>\n",
              "      <td>0.0</td>\n",
              "      <td>1401.0</td>\n",
              "      <td>438.97</td>\n",
              "      <td>0.0</td>\n",
              "      <td>0.0</td>\n",
              "      <td>0.0</td>\n",
              "      <td>0.0</td>\n",
              "      <td>0.0</td>\n",
              "      <td>0</td>\n",
              "    </tr>\n",
              "    <tr>\n",
              "      <th>2</th>\n",
              "      <td>438.51</td>\n",
              "      <td>220.0</td>\n",
              "      <td>1.0</td>\n",
              "      <td>219.56</td>\n",
              "      <td>218.35</td>\n",
              "      <td>218.955</td>\n",
              "      <td>-1.0</td>\n",
              "      <td>0.0</td>\n",
              "      <td>1.0</td>\n",
              "      <td>438.97</td>\n",
              "      <td>0.0</td>\n",
              "      <td>0.0</td>\n",
              "      <td>0.0</td>\n",
              "      <td>0.0</td>\n",
              "      <td>0.0</td>\n",
              "      <td>0</td>\n",
              "    </tr>\n",
              "    <tr>\n",
              "      <th>3</th>\n",
              "      <td>438.51</td>\n",
              "      <td>220.0</td>\n",
              "      <td>0.0</td>\n",
              "      <td>0.01</td>\n",
              "      <td>0.00</td>\n",
              "      <td>0.000</td>\n",
              "      <td>-1.0</td>\n",
              "      <td>50.0</td>\n",
              "      <td>328.0</td>\n",
              "      <td>438.97</td>\n",
              "      <td>0.0</td>\n",
              "      <td>0.0</td>\n",
              "      <td>0.0</td>\n",
              "      <td>0.0</td>\n",
              "      <td>0.0</td>\n",
              "      <td>0</td>\n",
              "    </tr>\n",
              "    <tr>\n",
              "      <th>4</th>\n",
              "      <td>438.51</td>\n",
              "      <td>225.0</td>\n",
              "      <td>1.0</td>\n",
              "      <td>214.56</td>\n",
              "      <td>213.35</td>\n",
              "      <td>213.955</td>\n",
              "      <td>-1.0</td>\n",
              "      <td>0.0</td>\n",
              "      <td>0.0</td>\n",
              "      <td>438.97</td>\n",
              "      <td>0.0</td>\n",
              "      <td>0.0</td>\n",
              "      <td>0.0</td>\n",
              "      <td>0.0</td>\n",
              "      <td>0.0</td>\n",
              "      <td>0</td>\n",
              "    </tr>\n",
              "  </tbody>\n",
              "</table>\n",
              "</div>\n",
              "      <button class=\"colab-df-convert\" onclick=\"convertToInteractive('df-d1b90a38-0f1e-474a-9404-9b6989c79d21')\"\n",
              "              title=\"Convert this dataframe to an interactive table.\"\n",
              "              style=\"display:none;\">\n",
              "        \n",
              "  <svg xmlns=\"http://www.w3.org/2000/svg\" height=\"24px\"viewBox=\"0 0 24 24\"\n",
              "       width=\"24px\">\n",
              "    <path d=\"M0 0h24v24H0V0z\" fill=\"none\"/>\n",
              "    <path d=\"M18.56 5.44l.94 2.06.94-2.06 2.06-.94-2.06-.94-.94-2.06-.94 2.06-2.06.94zm-11 1L8.5 8.5l.94-2.06 2.06-.94-2.06-.94L8.5 2.5l-.94 2.06-2.06.94zm10 10l.94 2.06.94-2.06 2.06-.94-2.06-.94-.94-2.06-.94 2.06-2.06.94z\"/><path d=\"M17.41 7.96l-1.37-1.37c-.4-.4-.92-.59-1.43-.59-.52 0-1.04.2-1.43.59L10.3 9.45l-7.72 7.72c-.78.78-.78 2.05 0 2.83L4 21.41c.39.39.9.59 1.41.59.51 0 1.02-.2 1.41-.59l7.78-7.78 2.81-2.81c.8-.78.8-2.07 0-2.86zM5.41 20L4 18.59l7.72-7.72 1.47 1.35L5.41 20z\"/>\n",
              "  </svg>\n",
              "      </button>\n",
              "      \n",
              "  <style>\n",
              "    .colab-df-container {\n",
              "      display:flex;\n",
              "      flex-wrap:wrap;\n",
              "      gap: 12px;\n",
              "    }\n",
              "\n",
              "    .colab-df-convert {\n",
              "      background-color: #E8F0FE;\n",
              "      border: none;\n",
              "      border-radius: 50%;\n",
              "      cursor: pointer;\n",
              "      display: none;\n",
              "      fill: #1967D2;\n",
              "      height: 32px;\n",
              "      padding: 0 0 0 0;\n",
              "      width: 32px;\n",
              "    }\n",
              "\n",
              "    .colab-df-convert:hover {\n",
              "      background-color: #E2EBFA;\n",
              "      box-shadow: 0px 1px 2px rgba(60, 64, 67, 0.3), 0px 1px 3px 1px rgba(60, 64, 67, 0.15);\n",
              "      fill: #174EA6;\n",
              "    }\n",
              "\n",
              "    [theme=dark] .colab-df-convert {\n",
              "      background-color: #3B4455;\n",
              "      fill: #D2E3FC;\n",
              "    }\n",
              "\n",
              "    [theme=dark] .colab-df-convert:hover {\n",
              "      background-color: #434B5C;\n",
              "      box-shadow: 0px 1px 3px 1px rgba(0, 0, 0, 0.15);\n",
              "      filter: drop-shadow(0px 1px 2px rgba(0, 0, 0, 0.3));\n",
              "      fill: #FFFFFF;\n",
              "    }\n",
              "  </style>\n",
              "\n",
              "      <script>\n",
              "        const buttonEl =\n",
              "          document.querySelector('#df-d1b90a38-0f1e-474a-9404-9b6989c79d21 button.colab-df-convert');\n",
              "        buttonEl.style.display =\n",
              "          google.colab.kernel.accessAllowed ? 'block' : 'none';\n",
              "\n",
              "        async function convertToInteractive(key) {\n",
              "          const element = document.querySelector('#df-d1b90a38-0f1e-474a-9404-9b6989c79d21');\n",
              "          const dataTable =\n",
              "            await google.colab.kernel.invokeFunction('convertToInteractive',\n",
              "                                                     [key], {});\n",
              "          if (!dataTable) return;\n",
              "\n",
              "          const docLinkHtml = 'Like what you see? Visit the ' +\n",
              "            '<a target=\"_blank\" href=https://colab.research.google.com/notebooks/data_table.ipynb>data table notebook</a>'\n",
              "            + ' to learn more about interactive tables.';\n",
              "          element.innerHTML = '';\n",
              "          dataTable['output_type'] = 'display_data';\n",
              "          await google.colab.output.renderOutput(dataTable, element);\n",
              "          const docLink = document.createElement('div');\n",
              "          docLink.innerHTML = docLinkHtml;\n",
              "          element.appendChild(docLink);\n",
              "        }\n",
              "      </script>\n",
              "    </div>\n",
              "  </div>\n",
              "  "
            ]
          },
          "metadata": {},
          "execution_count": 46
        }
      ],
      "source": [
        "#dropping date column\n",
        "df = df.drop('date', axis=1)\n",
        "data.head()\n",
        "\n",
        "\n",
        "#dropping expiration column\n",
        "df = df.drop('expiration', axis=1)\n",
        "df.head()\n",
        "\n"
      ]
    },
    {
      "cell_type": "code",
      "execution_count": null,
      "metadata": {
        "colab": {
          "base_uri": "https://localhost:8080/"
        },
        "id": "mtzKHJtrFn8H",
        "outputId": "09269b80-c074-40d1-9c3a-08291fb24d93"
      },
      "outputs": [
        {
          "output_type": "execute_result",
          "data": {
            "text/plain": [
              "0    215.0\n",
              "1    215.0\n",
              "2    220.0\n",
              "3    220.0\n",
              "4    225.0\n",
              "Name: strike, dtype: float64"
            ]
          },
          "metadata": {},
          "execution_count": 47
        }
      ],
      "source": [
        "#feature selection\n",
        "X = df.drop('strike', axis=1)\n",
        "\n",
        "#Target variable selection\n",
        "y = df['strike']\n",
        "y.head()\n",
        "\n"
      ]
    },
    {
      "cell_type": "code",
      "execution_count": null,
      "metadata": {
        "id": "jxwzD2NgFq10"
      },
      "outputs": [],
      "source": [
        "# data splitting into train and test data\n",
        "from sklearn.model_selection import train_test_split\n",
        "X_train, X_test, y_train, y_test = train_test_split(X,y,test_size=0.2)\n",
        "\n",
        "\n"
      ]
    },
    {
      "cell_type": "code",
      "execution_count": null,
      "metadata": {
        "colab": {
          "base_uri": "https://localhost:8080/",
          "height": 74
        },
        "id": "oNBRHGVgFs0u",
        "outputId": "dc92c531-986a-40e6-932d-140aa070d3a5"
      },
      "outputs": [
        {
          "output_type": "execute_result",
          "data": {
            "text/plain": [
              "LinearRegression()"
            ],
            "text/html": [
              "<style>#sk-container-id-1 {color: black;background-color: white;}#sk-container-id-1 pre{padding: 0;}#sk-container-id-1 div.sk-toggleable {background-color: white;}#sk-container-id-1 label.sk-toggleable__label {cursor: pointer;display: block;width: 100%;margin-bottom: 0;padding: 0.3em;box-sizing: border-box;text-align: center;}#sk-container-id-1 label.sk-toggleable__label-arrow:before {content: \"▸\";float: left;margin-right: 0.25em;color: #696969;}#sk-container-id-1 label.sk-toggleable__label-arrow:hover:before {color: black;}#sk-container-id-1 div.sk-estimator:hover label.sk-toggleable__label-arrow:before {color: black;}#sk-container-id-1 div.sk-toggleable__content {max-height: 0;max-width: 0;overflow: hidden;text-align: left;background-color: #f0f8ff;}#sk-container-id-1 div.sk-toggleable__content pre {margin: 0.2em;color: black;border-radius: 0.25em;background-color: #f0f8ff;}#sk-container-id-1 input.sk-toggleable__control:checked~div.sk-toggleable__content {max-height: 200px;max-width: 100%;overflow: auto;}#sk-container-id-1 input.sk-toggleable__control:checked~label.sk-toggleable__label-arrow:before {content: \"▾\";}#sk-container-id-1 div.sk-estimator input.sk-toggleable__control:checked~label.sk-toggleable__label {background-color: #d4ebff;}#sk-container-id-1 div.sk-label input.sk-toggleable__control:checked~label.sk-toggleable__label {background-color: #d4ebff;}#sk-container-id-1 input.sk-hidden--visually {border: 0;clip: rect(1px 1px 1px 1px);clip: rect(1px, 1px, 1px, 1px);height: 1px;margin: -1px;overflow: hidden;padding: 0;position: absolute;width: 1px;}#sk-container-id-1 div.sk-estimator {font-family: monospace;background-color: #f0f8ff;border: 1px dotted black;border-radius: 0.25em;box-sizing: border-box;margin-bottom: 0.5em;}#sk-container-id-1 div.sk-estimator:hover {background-color: #d4ebff;}#sk-container-id-1 div.sk-parallel-item::after {content: \"\";width: 100%;border-bottom: 1px solid gray;flex-grow: 1;}#sk-container-id-1 div.sk-label:hover label.sk-toggleable__label {background-color: #d4ebff;}#sk-container-id-1 div.sk-serial::before {content: \"\";position: absolute;border-left: 1px solid gray;box-sizing: border-box;top: 0;bottom: 0;left: 50%;z-index: 0;}#sk-container-id-1 div.sk-serial {display: flex;flex-direction: column;align-items: center;background-color: white;padding-right: 0.2em;padding-left: 0.2em;position: relative;}#sk-container-id-1 div.sk-item {position: relative;z-index: 1;}#sk-container-id-1 div.sk-parallel {display: flex;align-items: stretch;justify-content: center;background-color: white;position: relative;}#sk-container-id-1 div.sk-item::before, #sk-container-id-1 div.sk-parallel-item::before {content: \"\";position: absolute;border-left: 1px solid gray;box-sizing: border-box;top: 0;bottom: 0;left: 50%;z-index: -1;}#sk-container-id-1 div.sk-parallel-item {display: flex;flex-direction: column;z-index: 1;position: relative;background-color: white;}#sk-container-id-1 div.sk-parallel-item:first-child::after {align-self: flex-end;width: 50%;}#sk-container-id-1 div.sk-parallel-item:last-child::after {align-self: flex-start;width: 50%;}#sk-container-id-1 div.sk-parallel-item:only-child::after {width: 0;}#sk-container-id-1 div.sk-dashed-wrapped {border: 1px dashed gray;margin: 0 0.4em 0.5em 0.4em;box-sizing: border-box;padding-bottom: 0.4em;background-color: white;}#sk-container-id-1 div.sk-label label {font-family: monospace;font-weight: bold;display: inline-block;line-height: 1.2em;}#sk-container-id-1 div.sk-label-container {text-align: center;}#sk-container-id-1 div.sk-container {/* jupyter's `normalize.less` sets `[hidden] { display: none; }` but bootstrap.min.css set `[hidden] { display: none !important; }` so we also need the `!important` here to be able to override the default hidden behavior on the sphinx rendered scikit-learn.org. See: https://github.com/scikit-learn/scikit-learn/issues/21755 */display: inline-block !important;position: relative;}#sk-container-id-1 div.sk-text-repr-fallback {display: none;}</style><div id=\"sk-container-id-1\" class=\"sk-top-container\"><div class=\"sk-text-repr-fallback\"><pre>LinearRegression()</pre><b>In a Jupyter environment, please rerun this cell to show the HTML representation or trust the notebook. <br />On GitHub, the HTML representation is unable to render, please try loading this page with nbviewer.org.</b></div><div class=\"sk-container\" hidden><div class=\"sk-item\"><div class=\"sk-estimator sk-toggleable\"><input class=\"sk-toggleable__control sk-hidden--visually\" id=\"sk-estimator-id-1\" type=\"checkbox\" checked><label for=\"sk-estimator-id-1\" class=\"sk-toggleable__label sk-toggleable__label-arrow\">LinearRegression</label><div class=\"sk-toggleable__content\"><pre>LinearRegression()</pre></div></div></div></div></div>"
            ]
          },
          "metadata": {},
          "execution_count": 49
        }
      ],
      "source": [
        "#fitting the model\n",
        "from sklearn.linear_model import LinearRegression\n",
        "model = LinearRegression()\n",
        "model.fit(X_train, y_train)\n",
        "\n",
        "\n"
      ]
    },
    {
      "cell_type": "markdown",
      "source": [
        "##**Model Evaluation**"
      ],
      "metadata": {
        "id": "OpXLQRXIB9KX"
      }
    },
    {
      "cell_type": "code",
      "execution_count": null,
      "metadata": {
        "colab": {
          "base_uri": "https://localhost:8080/"
        },
        "id": "ZK4jP8hPFuJh",
        "outputId": "0957a13a-585b-4a3e-848c-a798b778538c"
      },
      "outputs": [
        {
          "output_type": "execute_result",
          "data": {
            "text/plain": [
              "0.7755579623583133"
            ]
          },
          "metadata": {},
          "execution_count": 50
        }
      ],
      "source": [
        "#predict and evaluate\n",
        "model.score(X_train, y_train)"
      ]
    },
    {
      "cell_type": "code",
      "source": [
        "model.score(X_test, y_test)"
      ],
      "metadata": {
        "colab": {
          "base_uri": "https://localhost:8080/"
        },
        "id": "IoVYdp45H2Mw",
        "outputId": "8d5420b7-94e9-4c87-87ab-f0454d73f44d"
      },
      "execution_count": null,
      "outputs": [
        {
          "output_type": "execute_result",
          "data": {
            "text/plain": [
              "0.77940986572606"
            ]
          },
          "metadata": {},
          "execution_count": 51
        }
      ]
    },
    {
      "cell_type": "code",
      "source": [
        "y_pred =model.predict(X_test)"
      ],
      "metadata": {
        "id": "KjpynZ6yHnmW"
      },
      "execution_count": null,
      "outputs": []
    },
    {
      "cell_type": "code",
      "source": [
        "# Evaluate the model based on R2 score\n",
        "from sklearn.metrics import r2_score\n",
        "score = r2_score(y_test,y_pred)\n",
        "print(\"The accuracy of our model is {}%\".format(round(score, 2) *100))"
      ],
      "metadata": {
        "colab": {
          "base_uri": "https://localhost:8080/"
        },
        "id": "LZ_Md8tnET2u",
        "outputId": "d38278b3-3c8d-4b7c-a3b7-b096067bad97"
      },
      "execution_count": null,
      "outputs": [
        {
          "output_type": "stream",
          "name": "stdout",
          "text": [
            "The accuracy of our model is 78.0%\n"
          ]
        }
      ]
    },
    {
      "cell_type": "code",
      "source": [
        "# Calculate the Mean Squared Error (MSE)\n",
        "from sklearn.metrics import mean_absolute_error\n",
        "mean_absolute_error(y_test,y_pred)"
      ],
      "metadata": {
        "colab": {
          "base_uri": "https://localhost:8080/"
        },
        "id": "qaMyaY1kIBrP",
        "outputId": "278efc4d-e843-4f24-ab5d-4bed59388e30"
      },
      "execution_count": null,
      "outputs": [
        {
          "output_type": "execute_result",
          "data": {
            "text/plain": [
              "27.587450567131736"
            ]
          },
          "metadata": {},
          "execution_count": 54
        }
      ]
    },
    {
      "cell_type": "markdown",
      "metadata": {
        "id": "y3lTzIrGuCw2"
      },
      "source": [
        "##**Utilization of Analysis Result**"
      ]
    },
    {
      "cell_type": "markdown",
      "source": [
        "The result of the Analysis found mainly from different type of analysis such as:-\n",
        "1. Descriptive Analysis\n",
        "2. Prdeictive Analysis\n",
        "\n",
        "\n",
        "1. Descriptive Analysis\n",
        "The result of the desriptive analysis is given above in the section of the visualization along with result as common. The result could be better understood with the plot and graph represented in the visualization part. The main key patterns were able to identify after the separation of the call and put as different column in the dataset.\n",
        "\n",
        "2.Predictive Analysis\n",
        "\n",
        "After the cleaning of dataset we as a team decided to go with the plan given below.\n",
        "The total cleaned dataset is received finally as a team we decided to try this multivariate time series to find the strike attribute for the testing data. Multi variate time series is used as the data is influenced with date type attributes.\n",
        "\n",
        "But due to the lack of domain knowledge and less expertise in the area we were able to the analysis what we have done in the Analysis section. This analysis can be considered as predictive analaysis.\n",
        "\n",
        "The result of the Predicitve Analysis is given above in the section of Analysis. In this analysis we are trying to predict the strike rate using the linear regression. Due to the complication of having the date attibute in the dataset for the linear regression we decided to remove and try to do the prediction. The predicted score or the model score for the analysis is 77%.\n",
        "\n",
        "The score for the test and train data set we were able to get around the same percentage of result using the linear regression analysis.\n",
        "\n",
        "To validate our analysis we further as a team tried to identify the mean absolute error of the result. The mean absolute error is 27."
      ],
      "metadata": {
        "id": "jmEkbOkPwUqf"
      }
    },
    {
      "cell_type": "markdown",
      "source": [
        "#**Activty_3**"
      ],
      "metadata": {
        "id": "0ZwleioWGaZK"
      }
    },
    {
      "cell_type": "markdown",
      "source": [
        "## **Model 1 Performance - Scaling**"
      ],
      "metadata": {
        "id": "8Q42GHDs8HHD"
      }
    },
    {
      "cell_type": "markdown",
      "source": [
        "####**StandardScaler**"
      ],
      "metadata": {
        "id": "U4tmOGFg9nZD"
      }
    },
    {
      "cell_type": "code",
      "source": [
        "#predicting the strike value without scaling\n",
        "\n",
        "X = df.drop('strike', axis=1)\n",
        "\n",
        "y = df[['strike']]\n",
        "\n",
        "X_train, X_test, y_train, y_test = train_test_split(X,y,test_size=0.2)\n",
        "\n",
        "model = LinearRegression()\n",
        "model.fit(X_train, y_train)\n",
        "\n",
        "LinearRegression()\n",
        "\n",
        "model.score(X_train, y_train)\n",
        "model.score(X_test, y_test)\n",
        "\n",
        "from sklearn.metrics import r2_score\n",
        "y_pred =model.predict(X_test)\n",
        "score = r2_score(y_test,y_pred)\n",
        "print(\"Prediction score before scaling is\", score)\n",
        "print(\"The accuracy of our model before scaling is {}%\".format(round(score, 2) *100))"
      ],
      "metadata": {
        "colab": {
          "base_uri": "https://localhost:8080/"
        },
        "id": "oIEclpPi8915",
        "outputId": "1e42dc89-73c8-4220-b8fc-cf8c8fbc6e5b"
      },
      "execution_count": null,
      "outputs": [
        {
          "output_type": "stream",
          "name": "stdout",
          "text": [
            "Prediction score before scaling is 0.7778988451051185\n",
            "The accuracy of our model before scaling is 78.0%\n"
          ]
        }
      ]
    },
    {
      "cell_type": "code",
      "source": [
        "#scaling the data using standard scalar\n",
        "from sklearn.preprocessing import StandardScaler\n",
        "scale = StandardScaler().fit(X_train)\n",
        "X_train_stand = scale.transform(X_train)\n",
        "X_test_stand = scale.transform(X_test)\n",
        "\n",
        "y_train_stand  = StandardScaler().fit_transform(y_train).flatten()\n",
        "y_test_stand = StandardScaler().fit_transform(y_test).flatten()\n"
      ],
      "metadata": {
        "id": "EPhCp_d28P3P"
      },
      "execution_count": null,
      "outputs": []
    },
    {
      "cell_type": "code",
      "source": [
        "#predicting the strike value with scaling\n",
        "\n",
        "scaled_model = LinearRegression()\n",
        "scaled_model.fit(X_train_stand, y_train_stand)\n",
        "\n",
        "scaled_model.score(X_train_stand, y_train_stand)\n",
        "scaled_model.score(X_test_stand, y_test_stand)\n",
        "\n",
        "from sklearn.metrics import r2_score\n",
        "y_pred =scaled_model.predict(X_test_stand)\n",
        "score2 = r2_score(y_test_stand,y_pred)\n",
        "print(\"Prediction score after scaling is\",score2)\n",
        "print(\"The accuracy of our model after scaling is {}%\".format(round(score2, 2) *100))"
      ],
      "metadata": {
        "colab": {
          "base_uri": "https://localhost:8080/"
        },
        "id": "8DP3FIS28VKX",
        "outputId": "23576b36-6826-4c58-8106-89120034bdcc"
      },
      "execution_count": null,
      "outputs": [
        {
          "output_type": "stream",
          "name": "stdout",
          "text": [
            "Prediction score after scaling is 0.779572840030598\n",
            "The accuracy of our model after scaling is 78.0%\n"
          ]
        }
      ]
    },
    {
      "cell_type": "markdown",
      "source": [
        "**Conclusion**\n",
        "\n",
        "---\n",
        "\n",
        "\n",
        "**Scaling**\n",
        "\n",
        "Data is scaled using standardization. Before standardization, date columns are removed\n",
        "\n",
        "**Strike** is predicted using linear regression after scaling and compared to the predicted result before scaling. Accuracy has a small difference after scaling and it is slightly incresed. By considering the small changes, it can be said that scaling doesn't affect the results because linear regression is scale variant."
      ],
      "metadata": {
        "id": "B0oJS1Jz8ezU"
      }
    },
    {
      "cell_type": "markdown",
      "source": [
        "### **Min Max Scaler**"
      ],
      "metadata": {
        "id": "ZB9TFT_7Yksu"
      }
    },
    {
      "cell_type": "code",
      "source": [
        "# data splitting into train and test data\n",
        "from sklearn.preprocessing import MinMaxScaler\n",
        "from sklearn.metrics import mean_squared_error\n",
        "\n",
        "\n",
        "X_train, X_test, y_train, y_test = train_test_split(X, y, test_size=0.2, random_state=42)\n",
        "\n",
        "# Scale the data using MinMaxScaler\n",
        "scaler = MinMaxScaler()\n",
        "X_train_scaled = scaler.fit_transform(X_train)\n",
        "X_test_scaled = scaler.transform(X_test)\n",
        "\n",
        "# Train the regression model\n",
        "model = LinearRegression()\n",
        "model.fit(X_train_scaled, y_train)\n",
        "\n",
        "# Predict on the test set\n",
        "y_pred = model.predict(X_test_scaled)\n",
        "\n",
        "# Calculate the Mean Squared Error\n",
        "mse = mean_squared_error(y_test, y_pred)\n",
        "print(\"Mean Squared Error:\", mse)"
      ],
      "metadata": {
        "colab": {
          "base_uri": "https://localhost:8080/"
        },
        "id": "UeJ9yA-NYjJh",
        "outputId": "2c485fd8-4bb7-4820-e441-e9bb18e8692b"
      },
      "execution_count": null,
      "outputs": [
        {
          "output_type": "stream",
          "name": "stdout",
          "text": [
            "Mean Squared Error: 1730.2161402905324\n"
          ]
        }
      ]
    },
    {
      "cell_type": "markdown",
      "source": [
        "## **Model 2 Performance - Feature Engineering**\n"
      ],
      "metadata": {
        "id": "I1sLdzpAMQkb"
      }
    },
    {
      "cell_type": "markdown",
      "source": [
        "### Type1\n",
        "Adding the date gap column as an additional feature after removing the date and expiration attribute."
      ],
      "metadata": {
        "id": "jWal5zP9QYOq"
      }
    },
    {
      "cell_type": "code",
      "metadata": {
        "id": "x5fF3XtT_Q_X",
        "outputId": "2da144d4-6f59-4558-db2c-34a1e451467c",
        "colab": {
          "base_uri": "https://localhost:8080/"
        }
      },
      "source": [
        "df.head()"
      ],
      "execution_count": null,
      "outputs": [
        {
          "output_type": "execute_result",
          "data": {
            "text/plain": [
              "   adjusted close  strike  call/put     ask     bid  mean price   iv  volume  \\\n",
              "0          438.51   215.0         1  224.56  223.35     223.955 -1.0       0   \n",
              "1          438.51   215.0         0    0.01    0.00       0.000 -1.0       0   \n",
              "2          438.51   220.0         1  219.56  218.35     218.955 -1.0       0   \n",
              "3          438.51   220.0         0    0.01    0.00       0.000 -1.0      50   \n",
              "4          438.51   225.0         1  214.56  213.35     213.955 -1.0       0   \n",
              "\n",
              "   open interest  stock price for iv  delta  vega  gamma  theta  rho  DateGap  \n",
              "0              0              438.97    0.0   0.0    0.0    0.0  0.0        0  \n",
              "1           1401              438.97    0.0   0.0    0.0    0.0  0.0        0  \n",
              "2              1              438.97    0.0   0.0    0.0    0.0  0.0        0  \n",
              "3            328              438.97    0.0   0.0    0.0    0.0  0.0        0  \n",
              "4              0              438.97    0.0   0.0    0.0    0.0  0.0        0  "
            ],
            "text/html": [
              "\n",
              "  <div id=\"df-a22842e6-c7b0-40ef-8cc9-22659337645a\">\n",
              "    <div class=\"colab-df-container\">\n",
              "      <div>\n",
              "<style scoped>\n",
              "    .dataframe tbody tr th:only-of-type {\n",
              "        vertical-align: middle;\n",
              "    }\n",
              "\n",
              "    .dataframe tbody tr th {\n",
              "        vertical-align: top;\n",
              "    }\n",
              "\n",
              "    .dataframe thead th {\n",
              "        text-align: right;\n",
              "    }\n",
              "</style>\n",
              "<table border=\"1\" class=\"dataframe\">\n",
              "  <thead>\n",
              "    <tr style=\"text-align: right;\">\n",
              "      <th></th>\n",
              "      <th>adjusted close</th>\n",
              "      <th>strike</th>\n",
              "      <th>call/put</th>\n",
              "      <th>ask</th>\n",
              "      <th>bid</th>\n",
              "      <th>mean price</th>\n",
              "      <th>iv</th>\n",
              "      <th>volume</th>\n",
              "      <th>open interest</th>\n",
              "      <th>stock price for iv</th>\n",
              "      <th>delta</th>\n",
              "      <th>vega</th>\n",
              "      <th>gamma</th>\n",
              "      <th>theta</th>\n",
              "      <th>rho</th>\n",
              "      <th>DateGap</th>\n",
              "    </tr>\n",
              "  </thead>\n",
              "  <tbody>\n",
              "    <tr>\n",
              "      <th>0</th>\n",
              "      <td>438.51</td>\n",
              "      <td>215.0</td>\n",
              "      <td>1</td>\n",
              "      <td>224.56</td>\n",
              "      <td>223.35</td>\n",
              "      <td>223.955</td>\n",
              "      <td>-1.0</td>\n",
              "      <td>0</td>\n",
              "      <td>0</td>\n",
              "      <td>438.97</td>\n",
              "      <td>0.0</td>\n",
              "      <td>0.0</td>\n",
              "      <td>0.0</td>\n",
              "      <td>0.0</td>\n",
              "      <td>0.0</td>\n",
              "      <td>0</td>\n",
              "    </tr>\n",
              "    <tr>\n",
              "      <th>1</th>\n",
              "      <td>438.51</td>\n",
              "      <td>215.0</td>\n",
              "      <td>0</td>\n",
              "      <td>0.01</td>\n",
              "      <td>0.00</td>\n",
              "      <td>0.000</td>\n",
              "      <td>-1.0</td>\n",
              "      <td>0</td>\n",
              "      <td>1401</td>\n",
              "      <td>438.97</td>\n",
              "      <td>0.0</td>\n",
              "      <td>0.0</td>\n",
              "      <td>0.0</td>\n",
              "      <td>0.0</td>\n",
              "      <td>0.0</td>\n",
              "      <td>0</td>\n",
              "    </tr>\n",
              "    <tr>\n",
              "      <th>2</th>\n",
              "      <td>438.51</td>\n",
              "      <td>220.0</td>\n",
              "      <td>1</td>\n",
              "      <td>219.56</td>\n",
              "      <td>218.35</td>\n",
              "      <td>218.955</td>\n",
              "      <td>-1.0</td>\n",
              "      <td>0</td>\n",
              "      <td>1</td>\n",
              "      <td>438.97</td>\n",
              "      <td>0.0</td>\n",
              "      <td>0.0</td>\n",
              "      <td>0.0</td>\n",
              "      <td>0.0</td>\n",
              "      <td>0.0</td>\n",
              "      <td>0</td>\n",
              "    </tr>\n",
              "    <tr>\n",
              "      <th>3</th>\n",
              "      <td>438.51</td>\n",
              "      <td>220.0</td>\n",
              "      <td>0</td>\n",
              "      <td>0.01</td>\n",
              "      <td>0.00</td>\n",
              "      <td>0.000</td>\n",
              "      <td>-1.0</td>\n",
              "      <td>50</td>\n",
              "      <td>328</td>\n",
              "      <td>438.97</td>\n",
              "      <td>0.0</td>\n",
              "      <td>0.0</td>\n",
              "      <td>0.0</td>\n",
              "      <td>0.0</td>\n",
              "      <td>0.0</td>\n",
              "      <td>0</td>\n",
              "    </tr>\n",
              "    <tr>\n",
              "      <th>4</th>\n",
              "      <td>438.51</td>\n",
              "      <td>225.0</td>\n",
              "      <td>1</td>\n",
              "      <td>214.56</td>\n",
              "      <td>213.35</td>\n",
              "      <td>213.955</td>\n",
              "      <td>-1.0</td>\n",
              "      <td>0</td>\n",
              "      <td>0</td>\n",
              "      <td>438.97</td>\n",
              "      <td>0.0</td>\n",
              "      <td>0.0</td>\n",
              "      <td>0.0</td>\n",
              "      <td>0.0</td>\n",
              "      <td>0.0</td>\n",
              "      <td>0</td>\n",
              "    </tr>\n",
              "  </tbody>\n",
              "</table>\n",
              "</div>\n",
              "      <button class=\"colab-df-convert\" onclick=\"convertToInteractive('df-a22842e6-c7b0-40ef-8cc9-22659337645a')\"\n",
              "              title=\"Convert this dataframe to an interactive table.\"\n",
              "              style=\"display:none;\">\n",
              "        \n",
              "  <svg xmlns=\"http://www.w3.org/2000/svg\" height=\"24px\"viewBox=\"0 0 24 24\"\n",
              "       width=\"24px\">\n",
              "    <path d=\"M0 0h24v24H0V0z\" fill=\"none\"/>\n",
              "    <path d=\"M18.56 5.44l.94 2.06.94-2.06 2.06-.94-2.06-.94-.94-2.06-.94 2.06-2.06.94zm-11 1L8.5 8.5l.94-2.06 2.06-.94-2.06-.94L8.5 2.5l-.94 2.06-2.06.94zm10 10l.94 2.06.94-2.06 2.06-.94-2.06-.94-.94-2.06-.94 2.06-2.06.94z\"/><path d=\"M17.41 7.96l-1.37-1.37c-.4-.4-.92-.59-1.43-.59-.52 0-1.04.2-1.43.59L10.3 9.45l-7.72 7.72c-.78.78-.78 2.05 0 2.83L4 21.41c.39.39.9.59 1.41.59.51 0 1.02-.2 1.41-.59l7.78-7.78 2.81-2.81c.8-.78.8-2.07 0-2.86zM5.41 20L4 18.59l7.72-7.72 1.47 1.35L5.41 20z\"/>\n",
              "  </svg>\n",
              "      </button>\n",
              "      \n",
              "  <style>\n",
              "    .colab-df-container {\n",
              "      display:flex;\n",
              "      flex-wrap:wrap;\n",
              "      gap: 12px;\n",
              "    }\n",
              "\n",
              "    .colab-df-convert {\n",
              "      background-color: #E8F0FE;\n",
              "      border: none;\n",
              "      border-radius: 50%;\n",
              "      cursor: pointer;\n",
              "      display: none;\n",
              "      fill: #1967D2;\n",
              "      height: 32px;\n",
              "      padding: 0 0 0 0;\n",
              "      width: 32px;\n",
              "    }\n",
              "\n",
              "    .colab-df-convert:hover {\n",
              "      background-color: #E2EBFA;\n",
              "      box-shadow: 0px 1px 2px rgba(60, 64, 67, 0.3), 0px 1px 3px 1px rgba(60, 64, 67, 0.15);\n",
              "      fill: #174EA6;\n",
              "    }\n",
              "\n",
              "    [theme=dark] .colab-df-convert {\n",
              "      background-color: #3B4455;\n",
              "      fill: #D2E3FC;\n",
              "    }\n",
              "\n",
              "    [theme=dark] .colab-df-convert:hover {\n",
              "      background-color: #434B5C;\n",
              "      box-shadow: 0px 1px 3px 1px rgba(0, 0, 0, 0.15);\n",
              "      filter: drop-shadow(0px 1px 2px rgba(0, 0, 0, 0.3));\n",
              "      fill: #FFFFFF;\n",
              "    }\n",
              "  </style>\n",
              "\n",
              "      <script>\n",
              "        const buttonEl =\n",
              "          document.querySelector('#df-a22842e6-c7b0-40ef-8cc9-22659337645a button.colab-df-convert');\n",
              "        buttonEl.style.display =\n",
              "          google.colab.kernel.accessAllowed ? 'block' : 'none';\n",
              "\n",
              "        async function convertToInteractive(key) {\n",
              "          const element = document.querySelector('#df-a22842e6-c7b0-40ef-8cc9-22659337645a');\n",
              "          const dataTable =\n",
              "            await google.colab.kernel.invokeFunction('convertToInteractive',\n",
              "                                                     [key], {});\n",
              "          if (!dataTable) return;\n",
              "\n",
              "          const docLinkHtml = 'Like what you see? Visit the ' +\n",
              "            '<a target=\"_blank\" href=https://colab.research.google.com/notebooks/data_table.ipynb>data table notebook</a>'\n",
              "            + ' to learn more about interactive tables.';\n",
              "          element.innerHTML = '';\n",
              "          dataTable['output_type'] = 'display_data';\n",
              "          await google.colab.output.renderOutput(dataTable, element);\n",
              "          const docLink = document.createElement('div');\n",
              "          docLink.innerHTML = docLinkHtml;\n",
              "          element.appendChild(docLink);\n",
              "        }\n",
              "      </script>\n",
              "    </div>\n",
              "  </div>\n",
              "  "
            ]
          },
          "metadata": {},
          "execution_count": 56
        }
      ]
    },
    {
      "cell_type": "markdown",
      "metadata": {
        "id": "Hae5itT7fGkI"
      },
      "source": [
        "###**Analysis**"
      ]
    },
    {
      "cell_type": "markdown",
      "metadata": {
        "id": "7oNPyttzfGkI"
      },
      "source": [
        "### Predict the strike based on other features (without date)"
      ]
    },
    {
      "cell_type": "code",
      "execution_count": null,
      "metadata": {
        "colab": {
          "base_uri": "https://localhost:8080/"
        },
        "outputId": "1ce66903-ed53-4c6f-9cb9-15d4e4ab8a57",
        "id": "fPrndCF8fGkJ"
      },
      "outputs": [
        {
          "output_type": "execute_result",
          "data": {
            "text/plain": [
              "0    215.0\n",
              "1    215.0\n",
              "2    220.0\n",
              "3    220.0\n",
              "4    225.0\n",
              "Name: strike, dtype: float64"
            ]
          },
          "metadata": {},
          "execution_count": 57
        }
      ],
      "source": [
        "#feature selection\n",
        "X = df.drop('strike', axis=1)\n",
        "\n",
        "#Target variable selection\n",
        "y = df['strike']\n",
        "y.head()\n",
        "\n"
      ]
    },
    {
      "cell_type": "code",
      "execution_count": null,
      "metadata": {
        "id": "OWxqKCZWfGkJ"
      },
      "outputs": [],
      "source": [
        "# data splitting into train and test data\n",
        "from sklearn.model_selection import train_test_split\n",
        "X_train, X_test, y_train, y_test = train_test_split(X,y,test_size=0.2)\n",
        "\n",
        "\n"
      ]
    },
    {
      "cell_type": "code",
      "execution_count": null,
      "metadata": {
        "colab": {
          "base_uri": "https://localhost:8080/"
        },
        "outputId": "96cb43e9-fc78-4567-e9d3-4f88a3ce53a1",
        "id": "T3zpg98xfGkJ"
      },
      "outputs": [
        {
          "output_type": "execute_result",
          "data": {
            "text/plain": [
              "LinearRegression()"
            ],
            "text/html": [
              "<style>#sk-container-id-2 {color: black;background-color: white;}#sk-container-id-2 pre{padding: 0;}#sk-container-id-2 div.sk-toggleable {background-color: white;}#sk-container-id-2 label.sk-toggleable__label {cursor: pointer;display: block;width: 100%;margin-bottom: 0;padding: 0.3em;box-sizing: border-box;text-align: center;}#sk-container-id-2 label.sk-toggleable__label-arrow:before {content: \"▸\";float: left;margin-right: 0.25em;color: #696969;}#sk-container-id-2 label.sk-toggleable__label-arrow:hover:before {color: black;}#sk-container-id-2 div.sk-estimator:hover label.sk-toggleable__label-arrow:before {color: black;}#sk-container-id-2 div.sk-toggleable__content {max-height: 0;max-width: 0;overflow: hidden;text-align: left;background-color: #f0f8ff;}#sk-container-id-2 div.sk-toggleable__content pre {margin: 0.2em;color: black;border-radius: 0.25em;background-color: #f0f8ff;}#sk-container-id-2 input.sk-toggleable__control:checked~div.sk-toggleable__content {max-height: 200px;max-width: 100%;overflow: auto;}#sk-container-id-2 input.sk-toggleable__control:checked~label.sk-toggleable__label-arrow:before {content: \"▾\";}#sk-container-id-2 div.sk-estimator input.sk-toggleable__control:checked~label.sk-toggleable__label {background-color: #d4ebff;}#sk-container-id-2 div.sk-label input.sk-toggleable__control:checked~label.sk-toggleable__label {background-color: #d4ebff;}#sk-container-id-2 input.sk-hidden--visually {border: 0;clip: rect(1px 1px 1px 1px);clip: rect(1px, 1px, 1px, 1px);height: 1px;margin: -1px;overflow: hidden;padding: 0;position: absolute;width: 1px;}#sk-container-id-2 div.sk-estimator {font-family: monospace;background-color: #f0f8ff;border: 1px dotted black;border-radius: 0.25em;box-sizing: border-box;margin-bottom: 0.5em;}#sk-container-id-2 div.sk-estimator:hover {background-color: #d4ebff;}#sk-container-id-2 div.sk-parallel-item::after {content: \"\";width: 100%;border-bottom: 1px solid gray;flex-grow: 1;}#sk-container-id-2 div.sk-label:hover label.sk-toggleable__label {background-color: #d4ebff;}#sk-container-id-2 div.sk-serial::before {content: \"\";position: absolute;border-left: 1px solid gray;box-sizing: border-box;top: 0;bottom: 0;left: 50%;z-index: 0;}#sk-container-id-2 div.sk-serial {display: flex;flex-direction: column;align-items: center;background-color: white;padding-right: 0.2em;padding-left: 0.2em;position: relative;}#sk-container-id-2 div.sk-item {position: relative;z-index: 1;}#sk-container-id-2 div.sk-parallel {display: flex;align-items: stretch;justify-content: center;background-color: white;position: relative;}#sk-container-id-2 div.sk-item::before, #sk-container-id-2 div.sk-parallel-item::before {content: \"\";position: absolute;border-left: 1px solid gray;box-sizing: border-box;top: 0;bottom: 0;left: 50%;z-index: -1;}#sk-container-id-2 div.sk-parallel-item {display: flex;flex-direction: column;z-index: 1;position: relative;background-color: white;}#sk-container-id-2 div.sk-parallel-item:first-child::after {align-self: flex-end;width: 50%;}#sk-container-id-2 div.sk-parallel-item:last-child::after {align-self: flex-start;width: 50%;}#sk-container-id-2 div.sk-parallel-item:only-child::after {width: 0;}#sk-container-id-2 div.sk-dashed-wrapped {border: 1px dashed gray;margin: 0 0.4em 0.5em 0.4em;box-sizing: border-box;padding-bottom: 0.4em;background-color: white;}#sk-container-id-2 div.sk-label label {font-family: monospace;font-weight: bold;display: inline-block;line-height: 1.2em;}#sk-container-id-2 div.sk-label-container {text-align: center;}#sk-container-id-2 div.sk-container {/* jupyter's `normalize.less` sets `[hidden] { display: none; }` but bootstrap.min.css set `[hidden] { display: none !important; }` so we also need the `!important` here to be able to override the default hidden behavior on the sphinx rendered scikit-learn.org. See: https://github.com/scikit-learn/scikit-learn/issues/21755 */display: inline-block !important;position: relative;}#sk-container-id-2 div.sk-text-repr-fallback {display: none;}</style><div id=\"sk-container-id-2\" class=\"sk-top-container\"><div class=\"sk-text-repr-fallback\"><pre>LinearRegression()</pre><b>In a Jupyter environment, please rerun this cell to show the HTML representation or trust the notebook. <br />On GitHub, the HTML representation is unable to render, please try loading this page with nbviewer.org.</b></div><div class=\"sk-container\" hidden><div class=\"sk-item\"><div class=\"sk-estimator sk-toggleable\"><input class=\"sk-toggleable__control sk-hidden--visually\" id=\"sk-estimator-id-2\" type=\"checkbox\" checked><label for=\"sk-estimator-id-2\" class=\"sk-toggleable__label sk-toggleable__label-arrow\">LinearRegression</label><div class=\"sk-toggleable__content\"><pre>LinearRegression()</pre></div></div></div></div></div>"
            ]
          },
          "metadata": {},
          "execution_count": 59
        }
      ],
      "source": [
        "#fitting the model\n",
        "from sklearn.linear_model import LinearRegression\n",
        "model = LinearRegression()\n",
        "model.fit(X_train, y_train)\n",
        "\n",
        "\n"
      ]
    },
    {
      "cell_type": "code",
      "execution_count": null,
      "metadata": {
        "colab": {
          "base_uri": "https://localhost:8080/"
        },
        "outputId": "626587d0-6803-483f-bc5d-815c85a71bd1",
        "id": "DCqKdpzcfGkJ"
      },
      "outputs": [
        {
          "output_type": "execute_result",
          "data": {
            "text/plain": [
              "0.7741343928675943"
            ]
          },
          "metadata": {},
          "execution_count": 60
        }
      ],
      "source": [
        "#predict and evaluate\n",
        "model.score(X_train, y_train)"
      ]
    },
    {
      "cell_type": "code",
      "source": [
        "model.score(X_test, y_test)"
      ],
      "metadata": {
        "colab": {
          "base_uri": "https://localhost:8080/"
        },
        "outputId": "e8f531a8-17f8-4333-f5f1-05dd9816afcf",
        "id": "2miO-BV0fGkJ"
      },
      "execution_count": null,
      "outputs": [
        {
          "output_type": "execute_result",
          "data": {
            "text/plain": [
              "0.7743004986529485"
            ]
          },
          "metadata": {},
          "execution_count": 61
        }
      ]
    },
    {
      "cell_type": "code",
      "source": [
        "y_pred =model.predict(X_test)"
      ],
      "metadata": {
        "id": "MXwIC-pGfGkJ"
      },
      "execution_count": null,
      "outputs": []
    },
    {
      "cell_type": "code",
      "source": [
        "from sklearn.metrics import mean_absolute_error\n",
        "mean_absolute_error(y_test,y_pred)"
      ],
      "metadata": {
        "colab": {
          "base_uri": "https://localhost:8080/"
        },
        "outputId": "9ffcb2b1-4d13-4455-ad66-0e3926f9dc9d",
        "id": "_ejr0Lx-fGkK"
      },
      "execution_count": null,
      "outputs": [
        {
          "output_type": "execute_result",
          "data": {
            "text/plain": [
              "29.740002968021155"
            ]
          },
          "metadata": {},
          "execution_count": 63
        }
      ]
    },
    {
      "cell_type": "code",
      "source": [
        "# Evaluate the model based on R2 score\n",
        "from sklearn.metrics import r2_score\n",
        "score = r2_score(y_test,y_pred)\n",
        "print(\"The accuracy of our model is {}%\".format(round(score, 2) *100))"
      ],
      "metadata": {
        "colab": {
          "base_uri": "https://localhost:8080/"
        },
        "id": "lqWA4HXpbw7b",
        "outputId": "69c6a08b-f97d-4f93-dd5a-d28e68aa33fc"
      },
      "execution_count": null,
      "outputs": [
        {
          "output_type": "stream",
          "name": "stdout",
          "text": [
            "The accuracy of our model is 77.0%\n"
          ]
        }
      ]
    },
    {
      "cell_type": "markdown",
      "source": [
        "The variation in the performance is not that considerably different comparing to the base model."
      ],
      "metadata": {
        "id": "8vf-ViDXRqyU"
      }
    },
    {
      "cell_type": "markdown",
      "source": [
        "### Type2\n",
        "Spliting the date data type and doing the analysis"
      ],
      "metadata": {
        "id": "Vl5A3XNoRLHP"
      }
    },
    {
      "cell_type": "code",
      "source": [
        "data= pd.read_csv(\"data_set.csv\")\n",
        "df2 = pd.DataFrame(data)\n",
        "df2.head()"
      ],
      "metadata": {
        "colab": {
          "base_uri": "https://localhost:8080/"
        },
        "id": "SEdBUdlRRIQL",
        "outputId": "8b8c5610-bc42-4c83-ff92-37cbd3533fdb"
      },
      "execution_count": null,
      "outputs": [
        {
          "output_type": "execute_result",
          "data": {
            "text/plain": [
              "         date  adjusted close  expiration  strike  call/put     ask     bid  \\\n",
              "0  2021-07-30          438.51  2021-07-30   215.0         1  224.56  223.35   \n",
              "1  2021-07-30          438.51  2021-07-30   215.0         0    0.01    0.00   \n",
              "2  2021-07-30          438.51  2021-07-30   220.0         1  219.56  218.35   \n",
              "3  2021-07-30          438.51  2021-07-30   220.0         0    0.01    0.00   \n",
              "4  2021-07-30          438.51  2021-07-30   225.0         1  214.56  213.35   \n",
              "\n",
              "   mean price   iv  volume  open interest  stock price for iv  delta  vega  \\\n",
              "0     223.955 -1.0       0              0              438.97    0.0   0.0   \n",
              "1       0.000 -1.0       0           1401              438.97    0.0   0.0   \n",
              "2     218.955 -1.0       0              1              438.97    0.0   0.0   \n",
              "3       0.000 -1.0      50            328              438.97    0.0   0.0   \n",
              "4     213.955 -1.0       0              0              438.97    0.0   0.0   \n",
              "\n",
              "   gamma  theta  rho  \n",
              "0    0.0    0.0  0.0  \n",
              "1    0.0    0.0  0.0  \n",
              "2    0.0    0.0  0.0  \n",
              "3    0.0    0.0  0.0  \n",
              "4    0.0    0.0  0.0  "
            ],
            "text/html": [
              "\n",
              "  <div id=\"df-e7b3c192-578c-49f7-a5d0-052cc10127be\">\n",
              "    <div class=\"colab-df-container\">\n",
              "      <div>\n",
              "<style scoped>\n",
              "    .dataframe tbody tr th:only-of-type {\n",
              "        vertical-align: middle;\n",
              "    }\n",
              "\n",
              "    .dataframe tbody tr th {\n",
              "        vertical-align: top;\n",
              "    }\n",
              "\n",
              "    .dataframe thead th {\n",
              "        text-align: right;\n",
              "    }\n",
              "</style>\n",
              "<table border=\"1\" class=\"dataframe\">\n",
              "  <thead>\n",
              "    <tr style=\"text-align: right;\">\n",
              "      <th></th>\n",
              "      <th>date</th>\n",
              "      <th>adjusted close</th>\n",
              "      <th>expiration</th>\n",
              "      <th>strike</th>\n",
              "      <th>call/put</th>\n",
              "      <th>ask</th>\n",
              "      <th>bid</th>\n",
              "      <th>mean price</th>\n",
              "      <th>iv</th>\n",
              "      <th>volume</th>\n",
              "      <th>open interest</th>\n",
              "      <th>stock price for iv</th>\n",
              "      <th>delta</th>\n",
              "      <th>vega</th>\n",
              "      <th>gamma</th>\n",
              "      <th>theta</th>\n",
              "      <th>rho</th>\n",
              "    </tr>\n",
              "  </thead>\n",
              "  <tbody>\n",
              "    <tr>\n",
              "      <th>0</th>\n",
              "      <td>2021-07-30</td>\n",
              "      <td>438.51</td>\n",
              "      <td>2021-07-30</td>\n",
              "      <td>215.0</td>\n",
              "      <td>1</td>\n",
              "      <td>224.56</td>\n",
              "      <td>223.35</td>\n",
              "      <td>223.955</td>\n",
              "      <td>-1.0</td>\n",
              "      <td>0</td>\n",
              "      <td>0</td>\n",
              "      <td>438.97</td>\n",
              "      <td>0.0</td>\n",
              "      <td>0.0</td>\n",
              "      <td>0.0</td>\n",
              "      <td>0.0</td>\n",
              "      <td>0.0</td>\n",
              "    </tr>\n",
              "    <tr>\n",
              "      <th>1</th>\n",
              "      <td>2021-07-30</td>\n",
              "      <td>438.51</td>\n",
              "      <td>2021-07-30</td>\n",
              "      <td>215.0</td>\n",
              "      <td>0</td>\n",
              "      <td>0.01</td>\n",
              "      <td>0.00</td>\n",
              "      <td>0.000</td>\n",
              "      <td>-1.0</td>\n",
              "      <td>0</td>\n",
              "      <td>1401</td>\n",
              "      <td>438.97</td>\n",
              "      <td>0.0</td>\n",
              "      <td>0.0</td>\n",
              "      <td>0.0</td>\n",
              "      <td>0.0</td>\n",
              "      <td>0.0</td>\n",
              "    </tr>\n",
              "    <tr>\n",
              "      <th>2</th>\n",
              "      <td>2021-07-30</td>\n",
              "      <td>438.51</td>\n",
              "      <td>2021-07-30</td>\n",
              "      <td>220.0</td>\n",
              "      <td>1</td>\n",
              "      <td>219.56</td>\n",
              "      <td>218.35</td>\n",
              "      <td>218.955</td>\n",
              "      <td>-1.0</td>\n",
              "      <td>0</td>\n",
              "      <td>1</td>\n",
              "      <td>438.97</td>\n",
              "      <td>0.0</td>\n",
              "      <td>0.0</td>\n",
              "      <td>0.0</td>\n",
              "      <td>0.0</td>\n",
              "      <td>0.0</td>\n",
              "    </tr>\n",
              "    <tr>\n",
              "      <th>3</th>\n",
              "      <td>2021-07-30</td>\n",
              "      <td>438.51</td>\n",
              "      <td>2021-07-30</td>\n",
              "      <td>220.0</td>\n",
              "      <td>0</td>\n",
              "      <td>0.01</td>\n",
              "      <td>0.00</td>\n",
              "      <td>0.000</td>\n",
              "      <td>-1.0</td>\n",
              "      <td>50</td>\n",
              "      <td>328</td>\n",
              "      <td>438.97</td>\n",
              "      <td>0.0</td>\n",
              "      <td>0.0</td>\n",
              "      <td>0.0</td>\n",
              "      <td>0.0</td>\n",
              "      <td>0.0</td>\n",
              "    </tr>\n",
              "    <tr>\n",
              "      <th>4</th>\n",
              "      <td>2021-07-30</td>\n",
              "      <td>438.51</td>\n",
              "      <td>2021-07-30</td>\n",
              "      <td>225.0</td>\n",
              "      <td>1</td>\n",
              "      <td>214.56</td>\n",
              "      <td>213.35</td>\n",
              "      <td>213.955</td>\n",
              "      <td>-1.0</td>\n",
              "      <td>0</td>\n",
              "      <td>0</td>\n",
              "      <td>438.97</td>\n",
              "      <td>0.0</td>\n",
              "      <td>0.0</td>\n",
              "      <td>0.0</td>\n",
              "      <td>0.0</td>\n",
              "      <td>0.0</td>\n",
              "    </tr>\n",
              "  </tbody>\n",
              "</table>\n",
              "</div>\n",
              "      <button class=\"colab-df-convert\" onclick=\"convertToInteractive('df-e7b3c192-578c-49f7-a5d0-052cc10127be')\"\n",
              "              title=\"Convert this dataframe to an interactive table.\"\n",
              "              style=\"display:none;\">\n",
              "        \n",
              "  <svg xmlns=\"http://www.w3.org/2000/svg\" height=\"24px\"viewBox=\"0 0 24 24\"\n",
              "       width=\"24px\">\n",
              "    <path d=\"M0 0h24v24H0V0z\" fill=\"none\"/>\n",
              "    <path d=\"M18.56 5.44l.94 2.06.94-2.06 2.06-.94-2.06-.94-.94-2.06-.94 2.06-2.06.94zm-11 1L8.5 8.5l.94-2.06 2.06-.94-2.06-.94L8.5 2.5l-.94 2.06-2.06.94zm10 10l.94 2.06.94-2.06 2.06-.94-2.06-.94-.94-2.06-.94 2.06-2.06.94z\"/><path d=\"M17.41 7.96l-1.37-1.37c-.4-.4-.92-.59-1.43-.59-.52 0-1.04.2-1.43.59L10.3 9.45l-7.72 7.72c-.78.78-.78 2.05 0 2.83L4 21.41c.39.39.9.59 1.41.59.51 0 1.02-.2 1.41-.59l7.78-7.78 2.81-2.81c.8-.78.8-2.07 0-2.86zM5.41 20L4 18.59l7.72-7.72 1.47 1.35L5.41 20z\"/>\n",
              "  </svg>\n",
              "      </button>\n",
              "      \n",
              "  <style>\n",
              "    .colab-df-container {\n",
              "      display:flex;\n",
              "      flex-wrap:wrap;\n",
              "      gap: 12px;\n",
              "    }\n",
              "\n",
              "    .colab-df-convert {\n",
              "      background-color: #E8F0FE;\n",
              "      border: none;\n",
              "      border-radius: 50%;\n",
              "      cursor: pointer;\n",
              "      display: none;\n",
              "      fill: #1967D2;\n",
              "      height: 32px;\n",
              "      padding: 0 0 0 0;\n",
              "      width: 32px;\n",
              "    }\n",
              "\n",
              "    .colab-df-convert:hover {\n",
              "      background-color: #E2EBFA;\n",
              "      box-shadow: 0px 1px 2px rgba(60, 64, 67, 0.3), 0px 1px 3px 1px rgba(60, 64, 67, 0.15);\n",
              "      fill: #174EA6;\n",
              "    }\n",
              "\n",
              "    [theme=dark] .colab-df-convert {\n",
              "      background-color: #3B4455;\n",
              "      fill: #D2E3FC;\n",
              "    }\n",
              "\n",
              "    [theme=dark] .colab-df-convert:hover {\n",
              "      background-color: #434B5C;\n",
              "      box-shadow: 0px 1px 3px 1px rgba(0, 0, 0, 0.15);\n",
              "      filter: drop-shadow(0px 1px 2px rgba(0, 0, 0, 0.3));\n",
              "      fill: #FFFFFF;\n",
              "    }\n",
              "  </style>\n",
              "\n",
              "      <script>\n",
              "        const buttonEl =\n",
              "          document.querySelector('#df-e7b3c192-578c-49f7-a5d0-052cc10127be button.colab-df-convert');\n",
              "        buttonEl.style.display =\n",
              "          google.colab.kernel.accessAllowed ? 'block' : 'none';\n",
              "\n",
              "        async function convertToInteractive(key) {\n",
              "          const element = document.querySelector('#df-e7b3c192-578c-49f7-a5d0-052cc10127be');\n",
              "          const dataTable =\n",
              "            await google.colab.kernel.invokeFunction('convertToInteractive',\n",
              "                                                     [key], {});\n",
              "          if (!dataTable) return;\n",
              "\n",
              "          const docLinkHtml = 'Like what you see? Visit the ' +\n",
              "            '<a target=\"_blank\" href=https://colab.research.google.com/notebooks/data_table.ipynb>data table notebook</a>'\n",
              "            + ' to learn more about interactive tables.';\n",
              "          element.innerHTML = '';\n",
              "          dataTable['output_type'] = 'display_data';\n",
              "          await google.colab.output.renderOutput(dataTable, element);\n",
              "          const docLink = document.createElement('div');\n",
              "          docLink.innerHTML = docLinkHtml;\n",
              "          element.appendChild(docLink);\n",
              "        }\n",
              "      </script>\n",
              "    </div>\n",
              "  </div>\n",
              "  "
            ]
          },
          "metadata": {},
          "execution_count": 65
        }
      ]
    },
    {
      "cell_type": "code",
      "source": [
        "#converting the object to date datatype\n",
        "df2['date'] = pd.to_datetime(df2['date'])\n",
        "df2['expiration'] = pd.to_datetime(df2['expiration'])\n",
        "df2.info()"
      ],
      "metadata": {
        "colab": {
          "base_uri": "https://localhost:8080/"
        },
        "id": "S8fjYkzxTnlH",
        "outputId": "33fdd989-1354-492d-f966-5e1c0dbb518a"
      },
      "execution_count": null,
      "outputs": [
        {
          "output_type": "stream",
          "name": "stdout",
          "text": [
            "<class 'pandas.core.frame.DataFrame'>\n",
            "RangeIndex: 221046 entries, 0 to 221045\n",
            "Data columns (total 17 columns):\n",
            " #   Column              Non-Null Count   Dtype         \n",
            "---  ------              --------------   -----         \n",
            " 0   date                221046 non-null  datetime64[ns]\n",
            " 1   adjusted close      221046 non-null  float64       \n",
            " 2   expiration          221046 non-null  datetime64[ns]\n",
            " 3   strike              221046 non-null  float64       \n",
            " 4   call/put            221046 non-null  int64         \n",
            " 5   ask                 221046 non-null  float64       \n",
            " 6   bid                 221046 non-null  float64       \n",
            " 7   mean price          221046 non-null  float64       \n",
            " 8   iv                  221046 non-null  float64       \n",
            " 9   volume              221046 non-null  int64         \n",
            " 10  open interest       221046 non-null  int64         \n",
            " 11  stock price for iv  221046 non-null  float64       \n",
            " 12  delta               221046 non-null  float64       \n",
            " 13  vega                221046 non-null  float64       \n",
            " 14  gamma               221046 non-null  float64       \n",
            " 15  theta               221046 non-null  float64       \n",
            " 16  rho                 221046 non-null  float64       \n",
            "dtypes: datetime64[ns](2), float64(12), int64(3)\n",
            "memory usage: 28.7 MB\n"
          ]
        }
      ]
    },
    {
      "cell_type": "code",
      "source": [
        "#spliting the date, month, year of the attribute date and expiration\n",
        "df2['year'] = df2['date'].dt.year\n",
        "df2['month'] = df2['date'].dt.month\n",
        "df2['day'] = df2['date'].dt.day\n",
        "df2['eyear'] = df2['expiration'].dt.year\n",
        "df2['emonth'] = df2['expiration'].dt.month\n",
        "df2['eday'] = df2['expiration'].dt.day\n",
        "\n",
        "df2.info()"
      ],
      "metadata": {
        "colab": {
          "base_uri": "https://localhost:8080/"
        },
        "id": "Ex32b359R1mL",
        "outputId": "043ae985-c4d0-45ea-9845-bb58b9d0b5b6"
      },
      "execution_count": null,
      "outputs": [
        {
          "output_type": "stream",
          "name": "stdout",
          "text": [
            "<class 'pandas.core.frame.DataFrame'>\n",
            "RangeIndex: 221046 entries, 0 to 221045\n",
            "Data columns (total 23 columns):\n",
            " #   Column              Non-Null Count   Dtype         \n",
            "---  ------              --------------   -----         \n",
            " 0   date                221046 non-null  datetime64[ns]\n",
            " 1   adjusted close      221046 non-null  float64       \n",
            " 2   expiration          221046 non-null  datetime64[ns]\n",
            " 3   strike              221046 non-null  float64       \n",
            " 4   call/put            221046 non-null  int64         \n",
            " 5   ask                 221046 non-null  float64       \n",
            " 6   bid                 221046 non-null  float64       \n",
            " 7   mean price          221046 non-null  float64       \n",
            " 8   iv                  221046 non-null  float64       \n",
            " 9   volume              221046 non-null  int64         \n",
            " 10  open interest       221046 non-null  int64         \n",
            " 11  stock price for iv  221046 non-null  float64       \n",
            " 12  delta               221046 non-null  float64       \n",
            " 13  vega                221046 non-null  float64       \n",
            " 14  gamma               221046 non-null  float64       \n",
            " 15  theta               221046 non-null  float64       \n",
            " 16  rho                 221046 non-null  float64       \n",
            " 17  year                221046 non-null  int64         \n",
            " 18  month               221046 non-null  int64         \n",
            " 19  day                 221046 non-null  int64         \n",
            " 20  eyear               221046 non-null  int64         \n",
            " 21  emonth              221046 non-null  int64         \n",
            " 22  eday                221046 non-null  int64         \n",
            "dtypes: datetime64[ns](2), float64(12), int64(9)\n",
            "memory usage: 38.8 MB\n"
          ]
        }
      ]
    },
    {
      "cell_type": "markdown",
      "source": [
        "Analysis"
      ],
      "metadata": {
        "id": "AUxJH0Y-UykX"
      }
    },
    {
      "cell_type": "code",
      "source": [
        "#dropping date column\n",
        "\n",
        "df2 = df2.drop('date', axis=1)\n",
        "\n",
        "#dropping expiration column\n",
        "df2 = df2.drop('expiration', axis=1)\n",
        "df2.head()"
      ],
      "metadata": {
        "colab": {
          "base_uri": "https://localhost:8080/"
        },
        "id": "O8E3D5iPUnvY",
        "outputId": "5f728fea-ea70-44ee-cf04-6be18d749af3"
      },
      "execution_count": null,
      "outputs": [
        {
          "output_type": "execute_result",
          "data": {
            "text/plain": [
              "   adjusted close  strike  call/put     ask     bid  mean price   iv  volume  \\\n",
              "0          438.51   215.0         1  224.56  223.35     223.955 -1.0       0   \n",
              "1          438.51   215.0         0    0.01    0.00       0.000 -1.0       0   \n",
              "2          438.51   220.0         1  219.56  218.35     218.955 -1.0       0   \n",
              "3          438.51   220.0         0    0.01    0.00       0.000 -1.0      50   \n",
              "4          438.51   225.0         1  214.56  213.35     213.955 -1.0       0   \n",
              "\n",
              "   open interest  stock price for iv  ...  vega  gamma  theta  rho  year  \\\n",
              "0              0              438.97  ...   0.0    0.0    0.0  0.0  2021   \n",
              "1           1401              438.97  ...   0.0    0.0    0.0  0.0  2021   \n",
              "2              1              438.97  ...   0.0    0.0    0.0  0.0  2021   \n",
              "3            328              438.97  ...   0.0    0.0    0.0  0.0  2021   \n",
              "4              0              438.97  ...   0.0    0.0    0.0  0.0  2021   \n",
              "\n",
              "   month  day  eyear  emonth  eday  \n",
              "0      7   30   2021       7    30  \n",
              "1      7   30   2021       7    30  \n",
              "2      7   30   2021       7    30  \n",
              "3      7   30   2021       7    30  \n",
              "4      7   30   2021       7    30  \n",
              "\n",
              "[5 rows x 21 columns]"
            ],
            "text/html": [
              "\n",
              "  <div id=\"df-4bdd99e7-2f2e-4068-ae20-dc6cdd68a5ac\">\n",
              "    <div class=\"colab-df-container\">\n",
              "      <div>\n",
              "<style scoped>\n",
              "    .dataframe tbody tr th:only-of-type {\n",
              "        vertical-align: middle;\n",
              "    }\n",
              "\n",
              "    .dataframe tbody tr th {\n",
              "        vertical-align: top;\n",
              "    }\n",
              "\n",
              "    .dataframe thead th {\n",
              "        text-align: right;\n",
              "    }\n",
              "</style>\n",
              "<table border=\"1\" class=\"dataframe\">\n",
              "  <thead>\n",
              "    <tr style=\"text-align: right;\">\n",
              "      <th></th>\n",
              "      <th>adjusted close</th>\n",
              "      <th>strike</th>\n",
              "      <th>call/put</th>\n",
              "      <th>ask</th>\n",
              "      <th>bid</th>\n",
              "      <th>mean price</th>\n",
              "      <th>iv</th>\n",
              "      <th>volume</th>\n",
              "      <th>open interest</th>\n",
              "      <th>stock price for iv</th>\n",
              "      <th>...</th>\n",
              "      <th>vega</th>\n",
              "      <th>gamma</th>\n",
              "      <th>theta</th>\n",
              "      <th>rho</th>\n",
              "      <th>year</th>\n",
              "      <th>month</th>\n",
              "      <th>day</th>\n",
              "      <th>eyear</th>\n",
              "      <th>emonth</th>\n",
              "      <th>eday</th>\n",
              "    </tr>\n",
              "  </thead>\n",
              "  <tbody>\n",
              "    <tr>\n",
              "      <th>0</th>\n",
              "      <td>438.51</td>\n",
              "      <td>215.0</td>\n",
              "      <td>1</td>\n",
              "      <td>224.56</td>\n",
              "      <td>223.35</td>\n",
              "      <td>223.955</td>\n",
              "      <td>-1.0</td>\n",
              "      <td>0</td>\n",
              "      <td>0</td>\n",
              "      <td>438.97</td>\n",
              "      <td>...</td>\n",
              "      <td>0.0</td>\n",
              "      <td>0.0</td>\n",
              "      <td>0.0</td>\n",
              "      <td>0.0</td>\n",
              "      <td>2021</td>\n",
              "      <td>7</td>\n",
              "      <td>30</td>\n",
              "      <td>2021</td>\n",
              "      <td>7</td>\n",
              "      <td>30</td>\n",
              "    </tr>\n",
              "    <tr>\n",
              "      <th>1</th>\n",
              "      <td>438.51</td>\n",
              "      <td>215.0</td>\n",
              "      <td>0</td>\n",
              "      <td>0.01</td>\n",
              "      <td>0.00</td>\n",
              "      <td>0.000</td>\n",
              "      <td>-1.0</td>\n",
              "      <td>0</td>\n",
              "      <td>1401</td>\n",
              "      <td>438.97</td>\n",
              "      <td>...</td>\n",
              "      <td>0.0</td>\n",
              "      <td>0.0</td>\n",
              "      <td>0.0</td>\n",
              "      <td>0.0</td>\n",
              "      <td>2021</td>\n",
              "      <td>7</td>\n",
              "      <td>30</td>\n",
              "      <td>2021</td>\n",
              "      <td>7</td>\n",
              "      <td>30</td>\n",
              "    </tr>\n",
              "    <tr>\n",
              "      <th>2</th>\n",
              "      <td>438.51</td>\n",
              "      <td>220.0</td>\n",
              "      <td>1</td>\n",
              "      <td>219.56</td>\n",
              "      <td>218.35</td>\n",
              "      <td>218.955</td>\n",
              "      <td>-1.0</td>\n",
              "      <td>0</td>\n",
              "      <td>1</td>\n",
              "      <td>438.97</td>\n",
              "      <td>...</td>\n",
              "      <td>0.0</td>\n",
              "      <td>0.0</td>\n",
              "      <td>0.0</td>\n",
              "      <td>0.0</td>\n",
              "      <td>2021</td>\n",
              "      <td>7</td>\n",
              "      <td>30</td>\n",
              "      <td>2021</td>\n",
              "      <td>7</td>\n",
              "      <td>30</td>\n",
              "    </tr>\n",
              "    <tr>\n",
              "      <th>3</th>\n",
              "      <td>438.51</td>\n",
              "      <td>220.0</td>\n",
              "      <td>0</td>\n",
              "      <td>0.01</td>\n",
              "      <td>0.00</td>\n",
              "      <td>0.000</td>\n",
              "      <td>-1.0</td>\n",
              "      <td>50</td>\n",
              "      <td>328</td>\n",
              "      <td>438.97</td>\n",
              "      <td>...</td>\n",
              "      <td>0.0</td>\n",
              "      <td>0.0</td>\n",
              "      <td>0.0</td>\n",
              "      <td>0.0</td>\n",
              "      <td>2021</td>\n",
              "      <td>7</td>\n",
              "      <td>30</td>\n",
              "      <td>2021</td>\n",
              "      <td>7</td>\n",
              "      <td>30</td>\n",
              "    </tr>\n",
              "    <tr>\n",
              "      <th>4</th>\n",
              "      <td>438.51</td>\n",
              "      <td>225.0</td>\n",
              "      <td>1</td>\n",
              "      <td>214.56</td>\n",
              "      <td>213.35</td>\n",
              "      <td>213.955</td>\n",
              "      <td>-1.0</td>\n",
              "      <td>0</td>\n",
              "      <td>0</td>\n",
              "      <td>438.97</td>\n",
              "      <td>...</td>\n",
              "      <td>0.0</td>\n",
              "      <td>0.0</td>\n",
              "      <td>0.0</td>\n",
              "      <td>0.0</td>\n",
              "      <td>2021</td>\n",
              "      <td>7</td>\n",
              "      <td>30</td>\n",
              "      <td>2021</td>\n",
              "      <td>7</td>\n",
              "      <td>30</td>\n",
              "    </tr>\n",
              "  </tbody>\n",
              "</table>\n",
              "<p>5 rows × 21 columns</p>\n",
              "</div>\n",
              "      <button class=\"colab-df-convert\" onclick=\"convertToInteractive('df-4bdd99e7-2f2e-4068-ae20-dc6cdd68a5ac')\"\n",
              "              title=\"Convert this dataframe to an interactive table.\"\n",
              "              style=\"display:none;\">\n",
              "        \n",
              "  <svg xmlns=\"http://www.w3.org/2000/svg\" height=\"24px\"viewBox=\"0 0 24 24\"\n",
              "       width=\"24px\">\n",
              "    <path d=\"M0 0h24v24H0V0z\" fill=\"none\"/>\n",
              "    <path d=\"M18.56 5.44l.94 2.06.94-2.06 2.06-.94-2.06-.94-.94-2.06-.94 2.06-2.06.94zm-11 1L8.5 8.5l.94-2.06 2.06-.94-2.06-.94L8.5 2.5l-.94 2.06-2.06.94zm10 10l.94 2.06.94-2.06 2.06-.94-2.06-.94-.94-2.06-.94 2.06-2.06.94z\"/><path d=\"M17.41 7.96l-1.37-1.37c-.4-.4-.92-.59-1.43-.59-.52 0-1.04.2-1.43.59L10.3 9.45l-7.72 7.72c-.78.78-.78 2.05 0 2.83L4 21.41c.39.39.9.59 1.41.59.51 0 1.02-.2 1.41-.59l7.78-7.78 2.81-2.81c.8-.78.8-2.07 0-2.86zM5.41 20L4 18.59l7.72-7.72 1.47 1.35L5.41 20z\"/>\n",
              "  </svg>\n",
              "      </button>\n",
              "      \n",
              "  <style>\n",
              "    .colab-df-container {\n",
              "      display:flex;\n",
              "      flex-wrap:wrap;\n",
              "      gap: 12px;\n",
              "    }\n",
              "\n",
              "    .colab-df-convert {\n",
              "      background-color: #E8F0FE;\n",
              "      border: none;\n",
              "      border-radius: 50%;\n",
              "      cursor: pointer;\n",
              "      display: none;\n",
              "      fill: #1967D2;\n",
              "      height: 32px;\n",
              "      padding: 0 0 0 0;\n",
              "      width: 32px;\n",
              "    }\n",
              "\n",
              "    .colab-df-convert:hover {\n",
              "      background-color: #E2EBFA;\n",
              "      box-shadow: 0px 1px 2px rgba(60, 64, 67, 0.3), 0px 1px 3px 1px rgba(60, 64, 67, 0.15);\n",
              "      fill: #174EA6;\n",
              "    }\n",
              "\n",
              "    [theme=dark] .colab-df-convert {\n",
              "      background-color: #3B4455;\n",
              "      fill: #D2E3FC;\n",
              "    }\n",
              "\n",
              "    [theme=dark] .colab-df-convert:hover {\n",
              "      background-color: #434B5C;\n",
              "      box-shadow: 0px 1px 3px 1px rgba(0, 0, 0, 0.15);\n",
              "      filter: drop-shadow(0px 1px 2px rgba(0, 0, 0, 0.3));\n",
              "      fill: #FFFFFF;\n",
              "    }\n",
              "  </style>\n",
              "\n",
              "      <script>\n",
              "        const buttonEl =\n",
              "          document.querySelector('#df-4bdd99e7-2f2e-4068-ae20-dc6cdd68a5ac button.colab-df-convert');\n",
              "        buttonEl.style.display =\n",
              "          google.colab.kernel.accessAllowed ? 'block' : 'none';\n",
              "\n",
              "        async function convertToInteractive(key) {\n",
              "          const element = document.querySelector('#df-4bdd99e7-2f2e-4068-ae20-dc6cdd68a5ac');\n",
              "          const dataTable =\n",
              "            await google.colab.kernel.invokeFunction('convertToInteractive',\n",
              "                                                     [key], {});\n",
              "          if (!dataTable) return;\n",
              "\n",
              "          const docLinkHtml = 'Like what you see? Visit the ' +\n",
              "            '<a target=\"_blank\" href=https://colab.research.google.com/notebooks/data_table.ipynb>data table notebook</a>'\n",
              "            + ' to learn more about interactive tables.';\n",
              "          element.innerHTML = '';\n",
              "          dataTable['output_type'] = 'display_data';\n",
              "          await google.colab.output.renderOutput(dataTable, element);\n",
              "          const docLink = document.createElement('div');\n",
              "          docLink.innerHTML = docLinkHtml;\n",
              "          element.appendChild(docLink);\n",
              "        }\n",
              "      </script>\n",
              "    </div>\n",
              "  </div>\n",
              "  "
            ]
          },
          "metadata": {},
          "execution_count": 68
        }
      ]
    },
    {
      "cell_type": "code",
      "source": [
        "X = df2.drop('strike', axis=1)\n",
        "\n",
        "#Target variable selection\n",
        "y = df2['strike']\n",
        "y.head()\n",
        "\n",
        "# data splitting into train and test data\n",
        "from sklearn.model_selection import train_test_split\n",
        "X_train, X_test, y_train, y_test = train_test_split(X,y,test_size=0.2)\n",
        "\n",
        "#fitting the model\n",
        "from sklearn.linear_model import LinearRegression\n",
        "model = LinearRegression()\n",
        "model.fit(X_train, y_train)\n",
        "\n",
        "\n"
      ],
      "metadata": {
        "colab": {
          "base_uri": "https://localhost:8080/"
        },
        "id": "Q0wQy3RcU_kZ",
        "outputId": "f1fc36a3-b40e-4603-f622-bbedcdfa1749"
      },
      "execution_count": null,
      "outputs": [
        {
          "output_type": "execute_result",
          "data": {
            "text/plain": [
              "LinearRegression()"
            ],
            "text/html": [
              "<style>#sk-container-id-3 {color: black;background-color: white;}#sk-container-id-3 pre{padding: 0;}#sk-container-id-3 div.sk-toggleable {background-color: white;}#sk-container-id-3 label.sk-toggleable__label {cursor: pointer;display: block;width: 100%;margin-bottom: 0;padding: 0.3em;box-sizing: border-box;text-align: center;}#sk-container-id-3 label.sk-toggleable__label-arrow:before {content: \"▸\";float: left;margin-right: 0.25em;color: #696969;}#sk-container-id-3 label.sk-toggleable__label-arrow:hover:before {color: black;}#sk-container-id-3 div.sk-estimator:hover label.sk-toggleable__label-arrow:before {color: black;}#sk-container-id-3 div.sk-toggleable__content {max-height: 0;max-width: 0;overflow: hidden;text-align: left;background-color: #f0f8ff;}#sk-container-id-3 div.sk-toggleable__content pre {margin: 0.2em;color: black;border-radius: 0.25em;background-color: #f0f8ff;}#sk-container-id-3 input.sk-toggleable__control:checked~div.sk-toggleable__content {max-height: 200px;max-width: 100%;overflow: auto;}#sk-container-id-3 input.sk-toggleable__control:checked~label.sk-toggleable__label-arrow:before {content: \"▾\";}#sk-container-id-3 div.sk-estimator input.sk-toggleable__control:checked~label.sk-toggleable__label {background-color: #d4ebff;}#sk-container-id-3 div.sk-label input.sk-toggleable__control:checked~label.sk-toggleable__label {background-color: #d4ebff;}#sk-container-id-3 input.sk-hidden--visually {border: 0;clip: rect(1px 1px 1px 1px);clip: rect(1px, 1px, 1px, 1px);height: 1px;margin: -1px;overflow: hidden;padding: 0;position: absolute;width: 1px;}#sk-container-id-3 div.sk-estimator {font-family: monospace;background-color: #f0f8ff;border: 1px dotted black;border-radius: 0.25em;box-sizing: border-box;margin-bottom: 0.5em;}#sk-container-id-3 div.sk-estimator:hover {background-color: #d4ebff;}#sk-container-id-3 div.sk-parallel-item::after {content: \"\";width: 100%;border-bottom: 1px solid gray;flex-grow: 1;}#sk-container-id-3 div.sk-label:hover label.sk-toggleable__label {background-color: #d4ebff;}#sk-container-id-3 div.sk-serial::before {content: \"\";position: absolute;border-left: 1px solid gray;box-sizing: border-box;top: 0;bottom: 0;left: 50%;z-index: 0;}#sk-container-id-3 div.sk-serial {display: flex;flex-direction: column;align-items: center;background-color: white;padding-right: 0.2em;padding-left: 0.2em;position: relative;}#sk-container-id-3 div.sk-item {position: relative;z-index: 1;}#sk-container-id-3 div.sk-parallel {display: flex;align-items: stretch;justify-content: center;background-color: white;position: relative;}#sk-container-id-3 div.sk-item::before, #sk-container-id-3 div.sk-parallel-item::before {content: \"\";position: absolute;border-left: 1px solid gray;box-sizing: border-box;top: 0;bottom: 0;left: 50%;z-index: -1;}#sk-container-id-3 div.sk-parallel-item {display: flex;flex-direction: column;z-index: 1;position: relative;background-color: white;}#sk-container-id-3 div.sk-parallel-item:first-child::after {align-self: flex-end;width: 50%;}#sk-container-id-3 div.sk-parallel-item:last-child::after {align-self: flex-start;width: 50%;}#sk-container-id-3 div.sk-parallel-item:only-child::after {width: 0;}#sk-container-id-3 div.sk-dashed-wrapped {border: 1px dashed gray;margin: 0 0.4em 0.5em 0.4em;box-sizing: border-box;padding-bottom: 0.4em;background-color: white;}#sk-container-id-3 div.sk-label label {font-family: monospace;font-weight: bold;display: inline-block;line-height: 1.2em;}#sk-container-id-3 div.sk-label-container {text-align: center;}#sk-container-id-3 div.sk-container {/* jupyter's `normalize.less` sets `[hidden] { display: none; }` but bootstrap.min.css set `[hidden] { display: none !important; }` so we also need the `!important` here to be able to override the default hidden behavior on the sphinx rendered scikit-learn.org. See: https://github.com/scikit-learn/scikit-learn/issues/21755 */display: inline-block !important;position: relative;}#sk-container-id-3 div.sk-text-repr-fallback {display: none;}</style><div id=\"sk-container-id-3\" class=\"sk-top-container\"><div class=\"sk-text-repr-fallback\"><pre>LinearRegression()</pre><b>In a Jupyter environment, please rerun this cell to show the HTML representation or trust the notebook. <br />On GitHub, the HTML representation is unable to render, please try loading this page with nbviewer.org.</b></div><div class=\"sk-container\" hidden><div class=\"sk-item\"><div class=\"sk-estimator sk-toggleable\"><input class=\"sk-toggleable__control sk-hidden--visually\" id=\"sk-estimator-id-3\" type=\"checkbox\" checked><label for=\"sk-estimator-id-3\" class=\"sk-toggleable__label sk-toggleable__label-arrow\">LinearRegression</label><div class=\"sk-toggleable__content\"><pre>LinearRegression()</pre></div></div></div></div></div>"
            ]
          },
          "metadata": {},
          "execution_count": 69
        }
      ]
    },
    {
      "cell_type": "code",
      "source": [
        "#predict and evaluate\n",
        "model.score(X_test, y_test)"
      ],
      "metadata": {
        "colab": {
          "base_uri": "https://localhost:8080/"
        },
        "id": "soBNXVcVVRiW",
        "outputId": "3d8a3d56-b5d9-4184-f10e-c2e0d1336006"
      },
      "execution_count": null,
      "outputs": [
        {
          "output_type": "execute_result",
          "data": {
            "text/plain": [
              "0.7740883356853352"
            ]
          },
          "metadata": {},
          "execution_count": 70
        }
      ]
    },
    {
      "cell_type": "code",
      "source": [
        "y_pred =model.predict(X_test)"
      ],
      "metadata": {
        "id": "hvrAOVJ7Sogw"
      },
      "execution_count": null,
      "outputs": []
    },
    {
      "cell_type": "code",
      "source": [
        "from sklearn.metrics import mean_absolute_error\n",
        "mean_absolute_error(y_test,y_pred)"
      ],
      "metadata": {
        "colab": {
          "base_uri": "https://localhost:8080/"
        },
        "id": "UoRRQsgDVdkx",
        "outputId": "6c527155-2802-4df1-b7df-56990aaeb48c"
      },
      "execution_count": null,
      "outputs": [
        {
          "output_type": "execute_result",
          "data": {
            "text/plain": [
              "29.662747186168183"
            ]
          },
          "metadata": {},
          "execution_count": 72
        }
      ]
    },
    {
      "cell_type": "code",
      "source": [
        "# Evaluate the model based on R2 score\n",
        "from sklearn.metrics import r2_score\n",
        "score = r2_score(y_test,y_pred)\n",
        "print(\"The accuracy of our model is {}%\".format(round(score, 2) *100))"
      ],
      "metadata": {
        "colab": {
          "base_uri": "https://localhost:8080/"
        },
        "id": "e8liK9OmblrU",
        "outputId": "e7b635b6-b62f-4a53-e3b4-afef655645e5"
      },
      "execution_count": null,
      "outputs": [
        {
          "output_type": "stream",
          "name": "stdout",
          "text": [
            "The accuracy of our model is 77.0%\n"
          ]
        }
      ]
    },
    {
      "cell_type": "markdown",
      "source": [
        "### Conclusion\n",
        "\n",
        "Two type of feature engineering has been performed. They are\n",
        "1. Adding the date gap column as an additional feature after removing the date and expiration attribute.\n",
        "2.Spliting the date data type and doing the analysis\n",
        "\n",
        "\n",
        "With performance of the both type of feature engineering there is no considerable changes in the result of the model\n",
        "\n",
        "\n",
        "\n",
        "\n",
        "\n"
      ],
      "metadata": {
        "id": "OlI2_ChROvat"
      }
    },
    {
      "cell_type": "markdown",
      "source": [
        "## **Model 3 performance( Dimension reduction PCA)**"
      ],
      "metadata": {
        "id": "z3lXPVFCFCGd"
      }
    },
    {
      "cell_type": "markdown",
      "source": [
        "###**Using PCA for rank the feature importance**"
      ],
      "metadata": {
        "id": "yEYmGMiORBjE"
      }
    },
    {
      "cell_type": "code",
      "source": [
        "# Use PCA to find the N\n",
        "from sklearn.decomposition import PCA\n",
        "\n",
        "pca = PCA().fit(X_train)\n",
        "\n",
        "\n",
        "\n",
        "# Plot the N and explained variance ratio\n",
        "\n",
        "plt.plot(pca.explained_variance_ratio_.cumsum(), lw=3, color='#087E8B')\n",
        "plt.title('Cumulative explained variance by number of principal components', size=20)\n",
        "plt.show()"
      ],
      "metadata": {
        "colab": {
          "base_uri": "https://localhost:8080/"
        },
        "id": "Fvn8rL3JPz6V",
        "outputId": "42e04179-5bac-4765-a0e6-d58d0d419d07"
      },
      "execution_count": null,
      "outputs": [
        {
          "output_type": "display_data",
          "data": {
            "text/plain": [
              "<Figure size 640x480 with 1 Axes>"
            ],
            "image/png": "[encoded data removed]"
          },
          "metadata": {}
        }
      ]
    },
    {
      "cell_type": "markdown",
      "source": [
        "This graph shows that we can explain 99% of the variance in our source dataset with the only two principal components."
      ],
      "metadata": {
        "id": "EsmlTT5nkNkk"
      }
    },
    {
      "cell_type": "code",
      "source": [
        "# get the PCA loadings - coefficients of the linear combination of the original variables\n",
        "\n",
        "loadings = pd.DataFrame(\n",
        "    data=pca.components_.T * np.sqrt(pca.explained_variance_),\n",
        "    columns=[f'PC{i}' for i in range(1, len(X_train.columns) + 1)],\n",
        "    index=X_train.columns\n",
        ")"
      ],
      "metadata": {
        "id": "5A87JKdvQPVz"
      },
      "execution_count": null,
      "outputs": []
    },
    {
      "cell_type": "code",
      "source": [
        "# View the PCA loadings\n",
        "loadings"
      ],
      "metadata": {
        "colab": {
          "base_uri": "https://localhost:8080/"
        },
        "id": "54wGurc3jBgT",
        "outputId": "b918871b-68b8-488a-93b1-7447a34f4afb"
      },
      "execution_count": null,
      "outputs": [
        {
          "output_type": "execute_result",
          "data": {
            "text/plain": [
              "                            PC1          PC2        PC3       PC4  \\\n",
              "adjusted close         0.024154    -0.048437   0.014942 -2.699355   \n",
              "call/put              -0.043801     0.020128   0.140535  0.000138   \n",
              "ask                   -8.859946     1.498491  59.828301 -0.020361   \n",
              "bid                   -8.704804     1.468901  59.216120  0.023522   \n",
              "mean price            -8.782055     1.483598  59.523319  0.001250   \n",
              "iv                    -0.010358    -0.026863   0.084724 -0.003505   \n",
              "volume              2575.302810  4436.692793   0.052520 -0.000073   \n",
              "open interest       5734.256228 -1992.549314   0.249909  0.000187   \n",
              "stock price for iv     0.023944    -0.048473   0.015167 -2.730598   \n",
              "delta                 -0.012037    -0.002655   0.208018  0.003542   \n",
              "vega                  -0.033821    -0.011841  -0.012944 -0.002428   \n",
              "gamma                  0.001555     0.002118  -0.002162  0.000094   \n",
              "theta                 -0.007434    -0.006484   0.008598  0.002100   \n",
              "rho                    0.034274    -0.014233  -0.022359  0.004353   \n",
              "year                   0.000000    -0.000000  -0.000000  0.000000   \n",
              "month                  0.000000    -0.000000  -0.000000  0.000000   \n",
              "day                    0.084767    -0.045857   0.018284 -8.560690   \n",
              "eyear                 -0.058515    -0.002641   0.134337 -0.008914   \n",
              "emonth                 0.109174    -0.066112  -0.025702 -0.094634   \n",
              "eday                  -0.049498    -0.075567   0.032444 -0.386513   \n",
              "\n",
              "                             PC5           PC6       PC7           PC8  \\\n",
              "adjusted close      1.889932e-01 -2.747524e+00 -0.009266  8.568435e-03   \n",
              "call/put            1.686571e-04 -5.973114e-04 -0.007661 -2.772723e-01   \n",
              "ask                -4.728432e-03  5.098049e-03  0.137196  1.295753e-01   \n",
              "bid                 7.724197e-03 -4.372429e-03 -0.138778 -1.295706e-01   \n",
              "mean price          1.164077e-03  1.853689e-04 -0.001770 -8.158237e-05   \n",
              "iv                 -5.205151e-03  5.074600e-03 -0.016626 -3.105223e-02   \n",
              "volume             -1.217589e-04 -3.650778e-05 -0.000018  4.328673e-07   \n",
              "open interest      -1.511167e-05  1.366038e-05  0.000068  1.047419e-05   \n",
              "stock price for iv  1.846816e-01 -2.680326e+00 -0.009028  8.334732e-03   \n",
              "delta              -6.052435e-03 -1.923817e-02 -0.024559 -3.940293e-01   \n",
              "vega               -9.825824e-02 -3.119907e-03  0.107588  2.030172e-02   \n",
              "gamma               4.770556e-04 -1.176967e-04 -0.000258 -8.682422e-05   \n",
              "theta               7.456887e-04 -3.766391e-03  0.002380  2.051588e-03   \n",
              "rho                -2.704924e-02 -2.867081e-02 -0.059577 -1.716192e+00   \n",
              "year               -0.000000e+00 -0.000000e+00 -0.000000  0.000000e+00   \n",
              "month              -8.649581e-38  2.026715e-34 -0.000000 -1.160329e-26   \n",
              "day                 2.088683e-01  1.724626e+00  0.045984 -8.200472e-03   \n",
              "eyear              -4.232739e-02  6.022268e-04  0.356530  8.789189e-02   \n",
              "emonth              3.735532e-01  4.732832e-02 -3.086100  5.894165e-02   \n",
              "eday               -7.340199e+00 -8.654875e-02 -0.159693  8.863233e-03   \n",
              "\n",
              "                             PC9          PC10          PC11          PC12  \\\n",
              "adjusted close      4.047269e-03 -1.203030e-03  5.506959e-03 -1.606682e-03   \n",
              "call/put            8.159218e-03  3.378219e-01  5.971336e-02  1.482602e-01   \n",
              "ask                 5.051783e-01 -2.522970e-02  1.898677e-01  1.040567e-02   \n",
              "bid                -5.063267e-01  2.399381e-02 -1.879508e-01 -1.096781e-02   \n",
              "mean price         -4.765850e-03 -7.792980e-04 -3.899781e-03  1.012315e-03   \n",
              "iv                 -2.459345e-02  6.030592e-04 -9.999586e-03 -1.498936e-01   \n",
              "volume              4.366699e-06 -1.000459e-07 -1.928627e-06 -1.151293e-06   \n",
              "open interest       6.492479e-06  1.281441e-06  2.470183e-07  1.548432e-06   \n",
              "stock price for iv -4.390140e-03  1.678887e-04 -5.754173e-03  2.029411e-03   \n",
              "delta              -1.455777e-02  3.860422e-01  5.039721e-02 -1.293127e-01   \n",
              "vega                3.666838e-01  7.383806e-02 -3.399874e-01  6.948093e-02   \n",
              "gamma              -5.615638e-04  3.771933e-04 -3.254401e-04  1.991330e-03   \n",
              "theta               3.444745e-03 -5.602350e-03  4.309679e-03  3.045318e-04   \n",
              "rho                 1.082821e-01 -1.440160e-01 -4.836508e-03  5.409566e-03   \n",
              "year               -3.116352e-21 -1.874929e-18 -0.000000e+00 -1.537925e-17   \n",
              "month               0.000000e+00  0.000000e+00  2.020846e-19  0.000000e+00   \n",
              "day                -3.957692e-03  4.758451e-04 -6.396431e-04  5.180325e-06   \n",
              "eyear               4.198709e-01  3.793553e-02 -1.537591e-01 -1.021650e-01   \n",
              "emonth              1.047752e-01  3.668774e-03 -1.335694e-02 -7.035863e-03   \n",
              "eday               -3.344530e-03 -7.731136e-04  4.401329e-03 -5.107151e-04   \n",
              "\n",
              "                            PC13          PC14          PC15          PC16  \\\n",
              "adjusted close     -3.836302e-02  1.568135e-01  5.300915e-03 -1.511518e-05   \n",
              "call/put            8.197587e-02  2.353188e-02 -6.305940e-02 -1.694106e-04   \n",
              "ask                -3.311550e-02 -9.203874e-03 -5.498329e-03  1.870534e-02   \n",
              "bid                 3.536664e-02  9.775325e-03  5.322731e-03  1.905540e-02   \n",
              "mean price         -2.209462e-03 -5.435287e-04  3.262195e-04 -3.775683e-02   \n",
              "iv                 -3.099257e-02  1.979808e-03 -1.315059e-01 -9.246790e-05   \n",
              "volume             -1.180888e-07 -4.780712e-09 -5.738929e-07 -9.769316e-10   \n",
              "open interest       4.472706e-07  1.051407e-07 -1.751673e-07  1.054334e-09   \n",
              "stock price for iv  3.946387e-02 -1.596506e-01 -5.869133e-03  1.848940e-05   \n",
              "delta              -6.925107e-02 -2.041678e-02  5.534702e-02  3.562935e-05   \n",
              "vega               -1.114747e-01 -2.037429e-02 -1.412545e-02  4.707876e-04   \n",
              "gamma              -1.616136e-03 -3.292706e-04 -4.636242e-04  1.119173e-04   \n",
              "theta               1.585501e-02  2.759655e-03 -3.475823e-03 -8.447377e-04   \n",
              "rho                 5.904156e-03  1.088312e-03 -2.953959e-05 -1.795465e-05   \n",
              "year                3.388258e-18 -0.000000e+00  0.000000e+00 -7.703293e-18   \n",
              "month              -0.000000e+00 -0.000000e+00 -2.197863e-18  6.098440e-18   \n",
              "day                -6.702824e-04  1.445023e-03  2.566667e-04  1.744539e-06   \n",
              "eyear               1.698952e-01  3.547828e-02  2.029735e-02 -3.485276e-04   \n",
              "emonth              1.301650e-02  2.617145e-03  1.784976e-03 -2.700873e-05   \n",
              "eday                1.279961e-03  2.915384e-04  2.140928e-04 -3.506475e-06   \n",
              "\n",
              "                            PC17          PC18          PC19          PC20  \n",
              "adjusted close      6.915663e-05  2.413906e-06 -0.000000e+00 -0.000000e+00  \n",
              "call/put           -8.808961e-04 -4.189201e-05 -8.907966e-35  2.843282e-36  \n",
              "ask                 3.235144e-04  7.200913e-07 -2.238114e-34 -1.057340e-34  \n",
              "bid                 1.584012e-04  3.370368e-06 -1.872182e-34 -9.912902e-35  \n",
              "mean price         -4.857562e-04 -4.073704e-06  4.106820e-34  2.047541e-34  \n",
              "iv                 -3.101462e-04 -5.871555e-06  1.686175e-34  4.928873e-35  \n",
              "volume              5.738587e-08 -8.481083e-10 -1.336893e-39 -2.325111e-40  \n",
              "open interest       4.959126e-09  2.731986e-11 -1.259086e-39 -1.324476e-40  \n",
              "stock price for iv -1.113456e-04 -3.879541e-06 -1.587646e-37 -3.405086e-38  \n",
              "delta               1.134652e-03  4.366716e-05  7.841299e-35  2.556078e-36  \n",
              "vega                1.211803e-03  5.507177e-06 -1.221726e-34 -2.760364e-35  \n",
              "gamma              -6.251543e-03  5.189966e-03  4.851874e-33  1.256812e-33  \n",
              "theta               3.315459e-02  9.756235e-04 -1.010389e-34  5.861196e-35  \n",
              "rho                -1.236698e-04 -2.395661e-06 -1.919072e-36 -7.392243e-37  \n",
              "year               -1.126755e-17  6.009925e-18 -1.737247e-18 -1.382099e-18  \n",
              "month               5.633776e-18 -2.491920e-18  4.046136e-18 -5.934173e-19  \n",
              "day                 2.455535e-05  7.795647e-07 -2.259738e-37 -4.763755e-38  \n",
              "eyear              -1.450581e-03 -2.223854e-07  1.739718e-34  3.775650e-35  \n",
              "emonth             -9.347242e-05  1.999390e-07  1.224068e-35  2.682802e-36  \n",
              "eday               -1.037291e-05  3.393422e-07  1.382910e-36  3.357429e-37  "
            ],
            "text/html": [
              "\n",
              "  <div id=\"df-bc41cf4f-eaf0-45df-b8d2-c92cd913022f\">\n",
              "    <div class=\"colab-df-container\">\n",
              "      <div>\n",
              "<style scoped>\n",
              "    .dataframe tbody tr th:only-of-type {\n",
              "        vertical-align: middle;\n",
              "    }\n",
              "\n",
              "    .dataframe tbody tr th {\n",
              "        vertical-align: top;\n",
              "    }\n",
              "\n",
              "    .dataframe thead th {\n",
              "        text-align: right;\n",
              "    }\n",
              "</style>\n",
              "<table border=\"1\" class=\"dataframe\">\n",
              "  <thead>\n",
              "    <tr style=\"text-align: right;\">\n",
              "      <th></th>\n",
              "      <th>PC1</th>\n",
              "      <th>PC2</th>\n",
              "      <th>PC3</th>\n",
              "      <th>PC4</th>\n",
              "      <th>PC5</th>\n",
              "      <th>PC6</th>\n",
              "      <th>PC7</th>\n",
              "      <th>PC8</th>\n",
              "      <th>PC9</th>\n",
              "      <th>PC10</th>\n",
              "      <th>PC11</th>\n",
              "      <th>PC12</th>\n",
              "      <th>PC13</th>\n",
              "      <th>PC14</th>\n",
              "      <th>PC15</th>\n",
              "      <th>PC16</th>\n",
              "      <th>PC17</th>\n",
              "      <th>PC18</th>\n",
              "      <th>PC19</th>\n",
              "      <th>PC20</th>\n",
              "    </tr>\n",
              "  </thead>\n",
              "  <tbody>\n",
              "    <tr>\n",
              "      <th>adjusted close</th>\n",
              "      <td>0.024154</td>\n",
              "      <td>-0.048437</td>\n",
              "      <td>0.014942</td>\n",
              "      <td>-2.699355</td>\n",
              "      <td>1.889932e-01</td>\n",
              "      <td>-2.747524e+00</td>\n",
              "      <td>-0.009266</td>\n",
              "      <td>8.568435e-03</td>\n",
              "      <td>4.047269e-03</td>\n",
              "      <td>-1.203030e-03</td>\n",
              "      <td>5.506959e-03</td>\n",
              "      <td>-1.606682e-03</td>\n",
              "      <td>-3.836302e-02</td>\n",
              "      <td>1.568135e-01</td>\n",
              "      <td>5.300915e-03</td>\n",
              "      <td>-1.511518e-05</td>\n",
              "      <td>6.915663e-05</td>\n",
              "      <td>2.413906e-06</td>\n",
              "      <td>-0.000000e+00</td>\n",
              "      <td>-0.000000e+00</td>\n",
              "    </tr>\n",
              "    <tr>\n",
              "      <th>call/put</th>\n",
              "      <td>-0.043801</td>\n",
              "      <td>0.020128</td>\n",
              "      <td>0.140535</td>\n",
              "      <td>0.000138</td>\n",
              "      <td>1.686571e-04</td>\n",
              "      <td>-5.973114e-04</td>\n",
              "      <td>-0.007661</td>\n",
              "      <td>-2.772723e-01</td>\n",
              "      <td>8.159218e-03</td>\n",
              "      <td>3.378219e-01</td>\n",
              "      <td>5.971336e-02</td>\n",
              "      <td>1.482602e-01</td>\n",
              "      <td>8.197587e-02</td>\n",
              "      <td>2.353188e-02</td>\n",
              "      <td>-6.305940e-02</td>\n",
              "      <td>-1.694106e-04</td>\n",
              "      <td>-8.808961e-04</td>\n",
              "      <td>-4.189201e-05</td>\n",
              "      <td>-8.907966e-35</td>\n",
              "      <td>2.843282e-36</td>\n",
              "    </tr>\n",
              "    <tr>\n",
              "      <th>ask</th>\n",
              "      <td>-8.859946</td>\n",
              "      <td>1.498491</td>\n",
              "      <td>59.828301</td>\n",
              "      <td>-0.020361</td>\n",
              "      <td>-4.728432e-03</td>\n",
              "      <td>5.098049e-03</td>\n",
              "      <td>0.137196</td>\n",
              "      <td>1.295753e-01</td>\n",
              "      <td>5.051783e-01</td>\n",
              "      <td>-2.522970e-02</td>\n",
              "      <td>1.898677e-01</td>\n",
              "      <td>1.040567e-02</td>\n",
              "      <td>-3.311550e-02</td>\n",
              "      <td>-9.203874e-03</td>\n",
              "      <td>-5.498329e-03</td>\n",
              "      <td>1.870534e-02</td>\n",
              "      <td>3.235144e-04</td>\n",
              "      <td>7.200913e-07</td>\n",
              "      <td>-2.238114e-34</td>\n",
              "      <td>-1.057340e-34</td>\n",
              "    </tr>\n",
              "    <tr>\n",
              "      <th>bid</th>\n",
              "      <td>-8.704804</td>\n",
              "      <td>1.468901</td>\n",
              "      <td>59.216120</td>\n",
              "      <td>0.023522</td>\n",
              "      <td>7.724197e-03</td>\n",
              "      <td>-4.372429e-03</td>\n",
              "      <td>-0.138778</td>\n",
              "      <td>-1.295706e-01</td>\n",
              "      <td>-5.063267e-01</td>\n",
              "      <td>2.399381e-02</td>\n",
              "      <td>-1.879508e-01</td>\n",
              "      <td>-1.096781e-02</td>\n",
              "      <td>3.536664e-02</td>\n",
              "      <td>9.775325e-03</td>\n",
              "      <td>5.322731e-03</td>\n",
              "      <td>1.905540e-02</td>\n",
              "      <td>1.584012e-04</td>\n",
              "      <td>3.370368e-06</td>\n",
              "      <td>-1.872182e-34</td>\n",
              "      <td>-9.912902e-35</td>\n",
              "    </tr>\n",
              "    <tr>\n",
              "      <th>mean price</th>\n",
              "      <td>-8.782055</td>\n",
              "      <td>1.483598</td>\n",
              "      <td>59.523319</td>\n",
              "      <td>0.001250</td>\n",
              "      <td>1.164077e-03</td>\n",
              "      <td>1.853689e-04</td>\n",
              "      <td>-0.001770</td>\n",
              "      <td>-8.158237e-05</td>\n",
              "      <td>-4.765850e-03</td>\n",
              "      <td>-7.792980e-04</td>\n",
              "      <td>-3.899781e-03</td>\n",
              "      <td>1.012315e-03</td>\n",
              "      <td>-2.209462e-03</td>\n",
              "      <td>-5.435287e-04</td>\n",
              "      <td>3.262195e-04</td>\n",
              "      <td>-3.775683e-02</td>\n",
              "      <td>-4.857562e-04</td>\n",
              "      <td>-4.073704e-06</td>\n",
              "      <td>4.106820e-34</td>\n",
              "      <td>2.047541e-34</td>\n",
              "    </tr>\n",
              "    <tr>\n",
              "      <th>iv</th>\n",
              "      <td>-0.010358</td>\n",
              "      <td>-0.026863</td>\n",
              "      <td>0.084724</td>\n",
              "      <td>-0.003505</td>\n",
              "      <td>-5.205151e-03</td>\n",
              "      <td>5.074600e-03</td>\n",
              "      <td>-0.016626</td>\n",
              "      <td>-3.105223e-02</td>\n",
              "      <td>-2.459345e-02</td>\n",
              "      <td>6.030592e-04</td>\n",
              "      <td>-9.999586e-03</td>\n",
              "      <td>-1.498936e-01</td>\n",
              "      <td>-3.099257e-02</td>\n",
              "      <td>1.979808e-03</td>\n",
              "      <td>-1.315059e-01</td>\n",
              "      <td>-9.246790e-05</td>\n",
              "      <td>-3.101462e-04</td>\n",
              "      <td>-5.871555e-06</td>\n",
              "      <td>1.686175e-34</td>\n",
              "      <td>4.928873e-35</td>\n",
              "    </tr>\n",
              "    <tr>\n",
              "      <th>volume</th>\n",
              "      <td>2575.302810</td>\n",
              "      <td>4436.692793</td>\n",
              "      <td>0.052520</td>\n",
              "      <td>-0.000073</td>\n",
              "      <td>-1.217589e-04</td>\n",
              "      <td>-3.650778e-05</td>\n",
              "      <td>-0.000018</td>\n",
              "      <td>4.328673e-07</td>\n",
              "      <td>4.366699e-06</td>\n",
              "      <td>-1.000459e-07</td>\n",
              "      <td>-1.928627e-06</td>\n",
              "      <td>-1.151293e-06</td>\n",
              "      <td>-1.180888e-07</td>\n",
              "      <td>-4.780712e-09</td>\n",
              "      <td>-5.738929e-07</td>\n",
              "      <td>-9.769316e-10</td>\n",
              "      <td>5.738587e-08</td>\n",
              "      <td>-8.481083e-10</td>\n",
              "      <td>-1.336893e-39</td>\n",
              "      <td>-2.325111e-40</td>\n",
              "    </tr>\n",
              "    <tr>\n",
              "      <th>open interest</th>\n",
              "      <td>5734.256228</td>\n",
              "      <td>-1992.549314</td>\n",
              "      <td>0.249909</td>\n",
              "      <td>0.000187</td>\n",
              "      <td>-1.511167e-05</td>\n",
              "      <td>1.366038e-05</td>\n",
              "      <td>0.000068</td>\n",
              "      <td>1.047419e-05</td>\n",
              "      <td>6.492479e-06</td>\n",
              "      <td>1.281441e-06</td>\n",
              "      <td>2.470183e-07</td>\n",
              "      <td>1.548432e-06</td>\n",
              "      <td>4.472706e-07</td>\n",
              "      <td>1.051407e-07</td>\n",
              "      <td>-1.751673e-07</td>\n",
              "      <td>1.054334e-09</td>\n",
              "      <td>4.959126e-09</td>\n",
              "      <td>2.731986e-11</td>\n",
              "      <td>-1.259086e-39</td>\n",
              "      <td>-1.324476e-40</td>\n",
              "    </tr>\n",
              "    <tr>\n",
              "      <th>stock price for iv</th>\n",
              "      <td>0.023944</td>\n",
              "      <td>-0.048473</td>\n",
              "      <td>0.015167</td>\n",
              "      <td>-2.730598</td>\n",
              "      <td>1.846816e-01</td>\n",
              "      <td>-2.680326e+00</td>\n",
              "      <td>-0.009028</td>\n",
              "      <td>8.334732e-03</td>\n",
              "      <td>-4.390140e-03</td>\n",
              "      <td>1.678887e-04</td>\n",
              "      <td>-5.754173e-03</td>\n",
              "      <td>2.029411e-03</td>\n",
              "      <td>3.946387e-02</td>\n",
              "      <td>-1.596506e-01</td>\n",
              "      <td>-5.869133e-03</td>\n",
              "      <td>1.848940e-05</td>\n",
              "      <td>-1.113456e-04</td>\n",
              "      <td>-3.879541e-06</td>\n",
              "      <td>-1.587646e-37</td>\n",
              "      <td>-3.405086e-38</td>\n",
              "    </tr>\n",
              "    <tr>\n",
              "      <th>delta</th>\n",
              "      <td>-0.012037</td>\n",
              "      <td>-0.002655</td>\n",
              "      <td>0.208018</td>\n",
              "      <td>0.003542</td>\n",
              "      <td>-6.052435e-03</td>\n",
              "      <td>-1.923817e-02</td>\n",
              "      <td>-0.024559</td>\n",
              "      <td>-3.940293e-01</td>\n",
              "      <td>-1.455777e-02</td>\n",
              "      <td>3.860422e-01</td>\n",
              "      <td>5.039721e-02</td>\n",
              "      <td>-1.293127e-01</td>\n",
              "      <td>-6.925107e-02</td>\n",
              "      <td>-2.041678e-02</td>\n",
              "      <td>5.534702e-02</td>\n",
              "      <td>3.562935e-05</td>\n",
              "      <td>1.134652e-03</td>\n",
              "      <td>4.366716e-05</td>\n",
              "      <td>7.841299e-35</td>\n",
              "      <td>2.556078e-36</td>\n",
              "    </tr>\n",
              "    <tr>\n",
              "      <th>vega</th>\n",
              "      <td>-0.033821</td>\n",
              "      <td>-0.011841</td>\n",
              "      <td>-0.012944</td>\n",
              "      <td>-0.002428</td>\n",
              "      <td>-9.825824e-02</td>\n",
              "      <td>-3.119907e-03</td>\n",
              "      <td>0.107588</td>\n",
              "      <td>2.030172e-02</td>\n",
              "      <td>3.666838e-01</td>\n",
              "      <td>7.383806e-02</td>\n",
              "      <td>-3.399874e-01</td>\n",
              "      <td>6.948093e-02</td>\n",
              "      <td>-1.114747e-01</td>\n",
              "      <td>-2.037429e-02</td>\n",
              "      <td>-1.412545e-02</td>\n",
              "      <td>4.707876e-04</td>\n",
              "      <td>1.211803e-03</td>\n",
              "      <td>5.507177e-06</td>\n",
              "      <td>-1.221726e-34</td>\n",
              "      <td>-2.760364e-35</td>\n",
              "    </tr>\n",
              "    <tr>\n",
              "      <th>gamma</th>\n",
              "      <td>0.001555</td>\n",
              "      <td>0.002118</td>\n",
              "      <td>-0.002162</td>\n",
              "      <td>0.000094</td>\n",
              "      <td>4.770556e-04</td>\n",
              "      <td>-1.176967e-04</td>\n",
              "      <td>-0.000258</td>\n",
              "      <td>-8.682422e-05</td>\n",
              "      <td>-5.615638e-04</td>\n",
              "      <td>3.771933e-04</td>\n",
              "      <td>-3.254401e-04</td>\n",
              "      <td>1.991330e-03</td>\n",
              "      <td>-1.616136e-03</td>\n",
              "      <td>-3.292706e-04</td>\n",
              "      <td>-4.636242e-04</td>\n",
              "      <td>1.119173e-04</td>\n",
              "      <td>-6.251543e-03</td>\n",
              "      <td>5.189966e-03</td>\n",
              "      <td>4.851874e-33</td>\n",
              "      <td>1.256812e-33</td>\n",
              "    </tr>\n",
              "    <tr>\n",
              "      <th>theta</th>\n",
              "      <td>-0.007434</td>\n",
              "      <td>-0.006484</td>\n",
              "      <td>0.008598</td>\n",
              "      <td>0.002100</td>\n",
              "      <td>7.456887e-04</td>\n",
              "      <td>-3.766391e-03</td>\n",
              "      <td>0.002380</td>\n",
              "      <td>2.051588e-03</td>\n",
              "      <td>3.444745e-03</td>\n",
              "      <td>-5.602350e-03</td>\n",
              "      <td>4.309679e-03</td>\n",
              "      <td>3.045318e-04</td>\n",
              "      <td>1.585501e-02</td>\n",
              "      <td>2.759655e-03</td>\n",
              "      <td>-3.475823e-03</td>\n",
              "      <td>-8.447377e-04</td>\n",
              "      <td>3.315459e-02</td>\n",
              "      <td>9.756235e-04</td>\n",
              "      <td>-1.010389e-34</td>\n",
              "      <td>5.861196e-35</td>\n",
              "    </tr>\n",
              "    <tr>\n",
              "      <th>rho</th>\n",
              "      <td>0.034274</td>\n",
              "      <td>-0.014233</td>\n",
              "      <td>-0.022359</td>\n",
              "      <td>0.004353</td>\n",
              "      <td>-2.704924e-02</td>\n",
              "      <td>-2.867081e-02</td>\n",
              "      <td>-0.059577</td>\n",
              "      <td>-1.716192e+00</td>\n",
              "      <td>1.082821e-01</td>\n",
              "      <td>-1.440160e-01</td>\n",
              "      <td>-4.836508e-03</td>\n",
              "      <td>5.409566e-03</td>\n",
              "      <td>5.904156e-03</td>\n",
              "      <td>1.088312e-03</td>\n",
              "      <td>-2.953959e-05</td>\n",
              "      <td>-1.795465e-05</td>\n",
              "      <td>-1.236698e-04</td>\n",
              "      <td>-2.395661e-06</td>\n",
              "      <td>-1.919072e-36</td>\n",
              "      <td>-7.392243e-37</td>\n",
              "    </tr>\n",
              "    <tr>\n",
              "      <th>year</th>\n",
              "      <td>0.000000</td>\n",
              "      <td>-0.000000</td>\n",
              "      <td>-0.000000</td>\n",
              "      <td>0.000000</td>\n",
              "      <td>-0.000000e+00</td>\n",
              "      <td>-0.000000e+00</td>\n",
              "      <td>-0.000000</td>\n",
              "      <td>0.000000e+00</td>\n",
              "      <td>-3.116352e-21</td>\n",
              "      <td>-1.874929e-18</td>\n",
              "      <td>-0.000000e+00</td>\n",
              "      <td>-1.537925e-17</td>\n",
              "      <td>3.388258e-18</td>\n",
              "      <td>-0.000000e+00</td>\n",
              "      <td>0.000000e+00</td>\n",
              "      <td>-7.703293e-18</td>\n",
              "      <td>-1.126755e-17</td>\n",
              "      <td>6.009925e-18</td>\n",
              "      <td>-1.737247e-18</td>\n",
              "      <td>-1.382099e-18</td>\n",
              "    </tr>\n",
              "    <tr>\n",
              "      <th>month</th>\n",
              "      <td>0.000000</td>\n",
              "      <td>-0.000000</td>\n",
              "      <td>-0.000000</td>\n",
              "      <td>0.000000</td>\n",
              "      <td>-8.649581e-38</td>\n",
              "      <td>2.026715e-34</td>\n",
              "      <td>-0.000000</td>\n",
              "      <td>-1.160329e-26</td>\n",
              "      <td>0.000000e+00</td>\n",
              "      <td>0.000000e+00</td>\n",
              "      <td>2.020846e-19</td>\n",
              "      <td>0.000000e+00</td>\n",
              "      <td>-0.000000e+00</td>\n",
              "      <td>-0.000000e+00</td>\n",
              "      <td>-2.197863e-18</td>\n",
              "      <td>6.098440e-18</td>\n",
              "      <td>5.633776e-18</td>\n",
              "      <td>-2.491920e-18</td>\n",
              "      <td>4.046136e-18</td>\n",
              "      <td>-5.934173e-19</td>\n",
              "    </tr>\n",
              "    <tr>\n",
              "      <th>day</th>\n",
              "      <td>0.084767</td>\n",
              "      <td>-0.045857</td>\n",
              "      <td>0.018284</td>\n",
              "      <td>-8.560690</td>\n",
              "      <td>2.088683e-01</td>\n",
              "      <td>1.724626e+00</td>\n",
              "      <td>0.045984</td>\n",
              "      <td>-8.200472e-03</td>\n",
              "      <td>-3.957692e-03</td>\n",
              "      <td>4.758451e-04</td>\n",
              "      <td>-6.396431e-04</td>\n",
              "      <td>5.180325e-06</td>\n",
              "      <td>-6.702824e-04</td>\n",
              "      <td>1.445023e-03</td>\n",
              "      <td>2.566667e-04</td>\n",
              "      <td>1.744539e-06</td>\n",
              "      <td>2.455535e-05</td>\n",
              "      <td>7.795647e-07</td>\n",
              "      <td>-2.259738e-37</td>\n",
              "      <td>-4.763755e-38</td>\n",
              "    </tr>\n",
              "    <tr>\n",
              "      <th>eyear</th>\n",
              "      <td>-0.058515</td>\n",
              "      <td>-0.002641</td>\n",
              "      <td>0.134337</td>\n",
              "      <td>-0.008914</td>\n",
              "      <td>-4.232739e-02</td>\n",
              "      <td>6.022268e-04</td>\n",
              "      <td>0.356530</td>\n",
              "      <td>8.789189e-02</td>\n",
              "      <td>4.198709e-01</td>\n",
              "      <td>3.793553e-02</td>\n",
              "      <td>-1.537591e-01</td>\n",
              "      <td>-1.021650e-01</td>\n",
              "      <td>1.698952e-01</td>\n",
              "      <td>3.547828e-02</td>\n",
              "      <td>2.029735e-02</td>\n",
              "      <td>-3.485276e-04</td>\n",
              "      <td>-1.450581e-03</td>\n",
              "      <td>-2.223854e-07</td>\n",
              "      <td>1.739718e-34</td>\n",
              "      <td>3.775650e-35</td>\n",
              "    </tr>\n",
              "    <tr>\n",
              "      <th>emonth</th>\n",
              "      <td>0.109174</td>\n",
              "      <td>-0.066112</td>\n",
              "      <td>-0.025702</td>\n",
              "      <td>-0.094634</td>\n",
              "      <td>3.735532e-01</td>\n",
              "      <td>4.732832e-02</td>\n",
              "      <td>-3.086100</td>\n",
              "      <td>5.894165e-02</td>\n",
              "      <td>1.047752e-01</td>\n",
              "      <td>3.668774e-03</td>\n",
              "      <td>-1.335694e-02</td>\n",
              "      <td>-7.035863e-03</td>\n",
              "      <td>1.301650e-02</td>\n",
              "      <td>2.617145e-03</td>\n",
              "      <td>1.784976e-03</td>\n",
              "      <td>-2.700873e-05</td>\n",
              "      <td>-9.347242e-05</td>\n",
              "      <td>1.999390e-07</td>\n",
              "      <td>1.224068e-35</td>\n",
              "      <td>2.682802e-36</td>\n",
              "    </tr>\n",
              "    <tr>\n",
              "      <th>eday</th>\n",
              "      <td>-0.049498</td>\n",
              "      <td>-0.075567</td>\n",
              "      <td>0.032444</td>\n",
              "      <td>-0.386513</td>\n",
              "      <td>-7.340199e+00</td>\n",
              "      <td>-8.654875e-02</td>\n",
              "      <td>-0.159693</td>\n",
              "      <td>8.863233e-03</td>\n",
              "      <td>-3.344530e-03</td>\n",
              "      <td>-7.731136e-04</td>\n",
              "      <td>4.401329e-03</td>\n",
              "      <td>-5.107151e-04</td>\n",
              "      <td>1.279961e-03</td>\n",
              "      <td>2.915384e-04</td>\n",
              "      <td>2.140928e-04</td>\n",
              "      <td>-3.506475e-06</td>\n",
              "      <td>-1.037291e-05</td>\n",
              "      <td>3.393422e-07</td>\n",
              "      <td>1.382910e-36</td>\n",
              "      <td>3.357429e-37</td>\n",
              "    </tr>\n",
              "  </tbody>\n",
              "</table>\n",
              "</div>\n",
              "      <button class=\"colab-df-convert\" onclick=\"convertToInteractive('df-bc41cf4f-eaf0-45df-b8d2-c92cd913022f')\"\n",
              "              title=\"Convert this dataframe to an interactive table.\"\n",
              "              style=\"display:none;\">\n",
              "        \n",
              "  <svg xmlns=\"http://www.w3.org/2000/svg\" height=\"24px\"viewBox=\"0 0 24 24\"\n",
              "       width=\"24px\">\n",
              "    <path d=\"M0 0h24v24H0V0z\" fill=\"none\"/>\n",
              "    <path d=\"M18.56 5.44l.94 2.06.94-2.06 2.06-.94-2.06-.94-.94-2.06-.94 2.06-2.06.94zm-11 1L8.5 8.5l.94-2.06 2.06-.94-2.06-.94L8.5 2.5l-.94 2.06-2.06.94zm10 10l.94 2.06.94-2.06 2.06-.94-2.06-.94-.94-2.06-.94 2.06-2.06.94z\"/><path d=\"M17.41 7.96l-1.37-1.37c-.4-.4-.92-.59-1.43-.59-.52 0-1.04.2-1.43.59L10.3 9.45l-7.72 7.72c-.78.78-.78 2.05 0 2.83L4 21.41c.39.39.9.59 1.41.59.51 0 1.02-.2 1.41-.59l7.78-7.78 2.81-2.81c.8-.78.8-2.07 0-2.86zM5.41 20L4 18.59l7.72-7.72 1.47 1.35L5.41 20z\"/>\n",
              "  </svg>\n",
              "      </button>\n",
              "      \n",
              "  <style>\n",
              "    .colab-df-container {\n",
              "      display:flex;\n",
              "      flex-wrap:wrap;\n",
              "      gap: 12px;\n",
              "    }\n",
              "\n",
              "    .colab-df-convert {\n",
              "      background-color: #E8F0FE;\n",
              "      border: none;\n",
              "      border-radius: 50%;\n",
              "      cursor: pointer;\n",
              "      display: none;\n",
              "      fill: #1967D2;\n",
              "      height: 32px;\n",
              "      padding: 0 0 0 0;\n",
              "      width: 32px;\n",
              "    }\n",
              "\n",
              "    .colab-df-convert:hover {\n",
              "      background-color: #E2EBFA;\n",
              "      box-shadow: 0px 1px 2px rgba(60, 64, 67, 0.3), 0px 1px 3px 1px rgba(60, 64, 67, 0.15);\n",
              "      fill: #174EA6;\n",
              "    }\n",
              "\n",
              "    [theme=dark] .colab-df-convert {\n",
              "      background-color: #3B4455;\n",
              "      fill: #D2E3FC;\n",
              "    }\n",
              "\n",
              "    [theme=dark] .colab-df-convert:hover {\n",
              "      background-color: #434B5C;\n",
              "      box-shadow: 0px 1px 3px 1px rgba(0, 0, 0, 0.15);\n",
              "      filter: drop-shadow(0px 1px 2px rgba(0, 0, 0, 0.3));\n",
              "      fill: #FFFFFF;\n",
              "    }\n",
              "  </style>\n",
              "\n",
              "      <script>\n",
              "        const buttonEl =\n",
              "          document.querySelector('#df-bc41cf4f-eaf0-45df-b8d2-c92cd913022f button.colab-df-convert');\n",
              "        buttonEl.style.display =\n",
              "          google.colab.kernel.accessAllowed ? 'block' : 'none';\n",
              "\n",
              "        async function convertToInteractive(key) {\n",
              "          const element = document.querySelector('#df-bc41cf4f-eaf0-45df-b8d2-c92cd913022f');\n",
              "          const dataTable =\n",
              "            await google.colab.kernel.invokeFunction('convertToInteractive',\n",
              "                                                     [key], {});\n",
              "          if (!dataTable) return;\n",
              "\n",
              "          const docLinkHtml = 'Like what you see? Visit the ' +\n",
              "            '<a target=\"_blank\" href=https://colab.research.google.com/notebooks/data_table.ipynb>data table notebook</a>'\n",
              "            + ' to learn more about interactive tables.';\n",
              "          element.innerHTML = '';\n",
              "          dataTable['output_type'] = 'display_data';\n",
              "          await google.colab.output.renderOutput(dataTable, element);\n",
              "          const docLink = document.createElement('div');\n",
              "          docLink.innerHTML = docLinkHtml;\n",
              "          element.appendChild(docLink);\n",
              "        }\n",
              "      </script>\n",
              "    </div>\n",
              "  </div>\n",
              "  "
            ]
          },
          "metadata": {},
          "execution_count": 76
        }
      ]
    },
    {
      "cell_type": "code",
      "source": [
        "# Visualize the correlations between all of the input features and the first principal components\n",
        "\n",
        "pc1_loadings = loadings.sort_values(by='PC1', ascending=False)[['PC1']]\n",
        "pc1_loadings = pc1_loadings.reset_index()\n",
        "pc1_loadings.columns = ['Attribute', 'CorrelationWithPC1']\n",
        "\n",
        "plt.bar(x=pc1_loadings['Attribute'], height=pc1_loadings['CorrelationWithPC1'], color='#087E8B')\n",
        "plt.title('PCA loading scores (first principal component)', size=20)\n",
        "plt.xticks(rotation='vertical')\n",
        "plt.show()"
      ],
      "metadata": {
        "colab": {
          "base_uri": "https://localhost:8080/"
        },
        "id": "D0699SpAQdRv",
        "outputId": "f95f41f2-9f3f-4a5d-f41b-23a3e40edbcd"
      },
      "execution_count": null,
      "outputs": [
        {
          "output_type": "display_data",
          "data": {
            "text/plain": [
              "<Figure size 640x480 with 1 Axes>"
            ],
            "image/png": "[encoded data removed]"
          },
          "metadata": {}
        }
      ]
    },
    {
      "cell_type": "code",
      "source": [
        "# data splitting into train and test data\n",
        "model_3_X_train, model_3_X_test, model_3_y_train, model_3_y_test = train_test_split(X,y,test_size=0.2)"
      ],
      "metadata": {
        "id": "scRYPRThS6Ef"
      },
      "execution_count": null,
      "outputs": []
    },
    {
      "cell_type": "code",
      "source": [
        "# Initialize the PCA\n",
        "new_pca = PCA(n_components=2)\n",
        "\n",
        "# fit and transform data\n",
        "X_train_pca = new_pca.fit_transform(model_3_X_train)\n",
        "X_test_pca = new_pca.transform(model_3_X_test)"
      ],
      "metadata": {
        "id": "GvG_ztqXROR7"
      },
      "execution_count": null,
      "outputs": []
    },
    {
      "cell_type": "code",
      "source": [
        "X_train_pca"
      ],
      "metadata": {
        "colab": {
          "base_uri": "https://localhost:8080/"
        },
        "id": "1MYaMzrKWsgj",
        "outputId": "40ec1d67-fbfb-4d5f-e1ac-27e5f0977ce7"
      },
      "execution_count": null,
      "outputs": [
        {
          "output_type": "execute_result",
          "data": {
            "text/plain": [
              "array([[-1484.45979328,   220.34900168],\n",
              "       [ -632.75858564,  -109.73698855],\n",
              "       [-1202.78666505,    94.94273573],\n",
              "       ...,\n",
              "       [-1012.08721342,     9.93948202],\n",
              "       [-1674.81917579,   305.06890412],\n",
              "       [ -705.75275185,   161.42886974]])"
            ]
          },
          "metadata": {},
          "execution_count": 80
        }
      ]
    },
    {
      "cell_type": "code",
      "source": [
        "# Fitting the model\n",
        "model_3 = LinearRegression()\n",
        "model_3.fit(X_train_pca, model_3_y_train)"
      ],
      "metadata": {
        "colab": {
          "base_uri": "https://localhost:8080/"
        },
        "id": "C5MH67QAV5Wt",
        "outputId": "7215a5a0-1055-4c69-e372-7b58c6d820fd"
      },
      "execution_count": null,
      "outputs": [
        {
          "output_type": "execute_result",
          "data": {
            "text/plain": [
              "LinearRegression()"
            ],
            "text/html": [
              "<style>#sk-container-id-4 {color: black;background-color: white;}#sk-container-id-4 pre{padding: 0;}#sk-container-id-4 div.sk-toggleable {background-color: white;}#sk-container-id-4 label.sk-toggleable__label {cursor: pointer;display: block;width: 100%;margin-bottom: 0;padding: 0.3em;box-sizing: border-box;text-align: center;}#sk-container-id-4 label.sk-toggleable__label-arrow:before {content: \"▸\";float: left;margin-right: 0.25em;color: #696969;}#sk-container-id-4 label.sk-toggleable__label-arrow:hover:before {color: black;}#sk-container-id-4 div.sk-estimator:hover label.sk-toggleable__label-arrow:before {color: black;}#sk-container-id-4 div.sk-toggleable__content {max-height: 0;max-width: 0;overflow: hidden;text-align: left;background-color: #f0f8ff;}#sk-container-id-4 div.sk-toggleable__content pre {margin: 0.2em;color: black;border-radius: 0.25em;background-color: #f0f8ff;}#sk-container-id-4 input.sk-toggleable__control:checked~div.sk-toggleable__content {max-height: 200px;max-width: 100%;overflow: auto;}#sk-container-id-4 input.sk-toggleable__control:checked~label.sk-toggleable__label-arrow:before {content: \"▾\";}#sk-container-id-4 div.sk-estimator input.sk-toggleable__control:checked~label.sk-toggleable__label {background-color: #d4ebff;}#sk-container-id-4 div.sk-label input.sk-toggleable__control:checked~label.sk-toggleable__label {background-color: #d4ebff;}#sk-container-id-4 input.sk-hidden--visually {border: 0;clip: rect(1px 1px 1px 1px);clip: rect(1px, 1px, 1px, 1px);height: 1px;margin: -1px;overflow: hidden;padding: 0;position: absolute;width: 1px;}#sk-container-id-4 div.sk-estimator {font-family: monospace;background-color: #f0f8ff;border: 1px dotted black;border-radius: 0.25em;box-sizing: border-box;margin-bottom: 0.5em;}#sk-container-id-4 div.sk-estimator:hover {background-color: #d4ebff;}#sk-container-id-4 div.sk-parallel-item::after {content: \"\";width: 100%;border-bottom: 1px solid gray;flex-grow: 1;}#sk-container-id-4 div.sk-label:hover label.sk-toggleable__label {background-color: #d4ebff;}#sk-container-id-4 div.sk-serial::before {content: \"\";position: absolute;border-left: 1px solid gray;box-sizing: border-box;top: 0;bottom: 0;left: 50%;z-index: 0;}#sk-container-id-4 div.sk-serial {display: flex;flex-direction: column;align-items: center;background-color: white;padding-right: 0.2em;padding-left: 0.2em;position: relative;}#sk-container-id-4 div.sk-item {position: relative;z-index: 1;}#sk-container-id-4 div.sk-parallel {display: flex;align-items: stretch;justify-content: center;background-color: white;position: relative;}#sk-container-id-4 div.sk-item::before, #sk-container-id-4 div.sk-parallel-item::before {content: \"\";position: absolute;border-left: 1px solid gray;box-sizing: border-box;top: 0;bottom: 0;left: 50%;z-index: -1;}#sk-container-id-4 div.sk-parallel-item {display: flex;flex-direction: column;z-index: 1;position: relative;background-color: white;}#sk-container-id-4 div.sk-parallel-item:first-child::after {align-self: flex-end;width: 50%;}#sk-container-id-4 div.sk-parallel-item:last-child::after {align-self: flex-start;width: 50%;}#sk-container-id-4 div.sk-parallel-item:only-child::after {width: 0;}#sk-container-id-4 div.sk-dashed-wrapped {border: 1px dashed gray;margin: 0 0.4em 0.5em 0.4em;box-sizing: border-box;padding-bottom: 0.4em;background-color: white;}#sk-container-id-4 div.sk-label label {font-family: monospace;font-weight: bold;display: inline-block;line-height: 1.2em;}#sk-container-id-4 div.sk-label-container {text-align: center;}#sk-container-id-4 div.sk-container {/* jupyter's `normalize.less` sets `[hidden] { display: none; }` but bootstrap.min.css set `[hidden] { display: none !important; }` so we also need the `!important` here to be able to override the default hidden behavior on the sphinx rendered scikit-learn.org. See: https://github.com/scikit-learn/scikit-learn/issues/21755 */display: inline-block !important;position: relative;}#sk-container-id-4 div.sk-text-repr-fallback {display: none;}</style><div id=\"sk-container-id-4\" class=\"sk-top-container\"><div class=\"sk-text-repr-fallback\"><pre>LinearRegression()</pre><b>In a Jupyter environment, please rerun this cell to show the HTML representation or trust the notebook. <br />On GitHub, the HTML representation is unable to render, please try loading this page with nbviewer.org.</b></div><div class=\"sk-container\" hidden><div class=\"sk-item\"><div class=\"sk-estimator sk-toggleable\"><input class=\"sk-toggleable__control sk-hidden--visually\" id=\"sk-estimator-id-4\" type=\"checkbox\" checked><label for=\"sk-estimator-id-4\" class=\"sk-toggleable__label sk-toggleable__label-arrow\">LinearRegression</label><div class=\"sk-toggleable__content\"><pre>LinearRegression()</pre></div></div></div></div></div>"
            ]
          },
          "metadata": {},
          "execution_count": 81
        }
      ]
    },
    {
      "cell_type": "code",
      "source": [
        "# Predict\n",
        "model_3_y_pred =model_3.predict(X_test_pca)"
      ],
      "metadata": {
        "id": "lZKGeimbV5m1"
      },
      "execution_count": null,
      "outputs": []
    },
    {
      "cell_type": "code",
      "source": [
        "#Evaluate\n",
        "model_3.score(X_test_pca, model_3_y_test)"
      ],
      "metadata": {
        "colab": {
          "base_uri": "https://localhost:8080/"
        },
        "id": "M6pDU9EncJN3",
        "outputId": "d68fcaab-f7a1-4c82-ec70-bbc7873b7409"
      },
      "execution_count": null,
      "outputs": [
        {
          "output_type": "execute_result",
          "data": {
            "text/plain": [
              "0.004480895962643894"
            ]
          },
          "metadata": {},
          "execution_count": 83
        }
      ]
    },
    {
      "cell_type": "code",
      "source": [
        "# Evaluate the model based on R2 score\n",
        "from sklearn.metrics import r2_score\n",
        "score = r2_score(model_3_y_test,model_3_y_pred)\n",
        "print(\"The accuracy of our model is {}%\".format(round(score, 2) *100))"
      ],
      "metadata": {
        "colab": {
          "base_uri": "https://localhost:8080/"
        },
        "id": "2vAV1ZvpVwMF",
        "outputId": "5adacac9-adfa-4452-eba4-6e742f601b27"
      },
      "execution_count": null,
      "outputs": [
        {
          "output_type": "stream",
          "name": "stdout",
          "text": [
            "The accuracy of our model is 0.0%\n"
          ]
        }
      ]
    },
    {
      "cell_type": "code",
      "source": [
        "# Calculate the Mean Squared Error (MSE)\n",
        "from sklearn.metrics import mean_absolute_error\n",
        "mean_absolute_error(model_3_y_test,model_3_y_pred)"
      ],
      "metadata": {
        "colab": {
          "base_uri": "https://localhost:8080/"
        },
        "id": "tTgGvqelXHTs",
        "outputId": "a9e72105-382d-4e81-d93e-c4759ac9f027"
      },
      "execution_count": null,
      "outputs": [
        {
          "output_type": "execute_result",
          "data": {
            "text/plain": [
              "70.01889747806653"
            ]
          },
          "metadata": {},
          "execution_count": 85
        }
      ]
    },
    {
      "cell_type": "markdown",
      "source": [
        "\n",
        "*   Base model accuracy :- 0.7774354695819347\n",
        "*   Model accuracy after using PCA :- 0.004840254110084263\n",
        "*   Base model Mean Squared Error :- 29.89921361163598\n",
        "*   Model Mean Squared Error after using PCA:- 69.62873867858842\n",
        "\n",
        "\n",
        "In this experiment PCA highly affect the accuracy of the model. It went from 0.7774354695819347 to 0.004840254110084263.\n",
        "\n",
        "The Principal component analysis(PCA) can performs best when it is applied to a dataset where all of the features are linearly related. So there is a high chnace for the features in our dataset are not linearly related.\n",
        "\n",
        "And if the original features already contain crucial information for predicting the target variable, reducing the dimensionality through PCA might result in the loss of relevant information."
      ],
      "metadata": {
        "id": "6dYnyc2Br9vf"
      }
    },
    {
      "cell_type": "markdown",
      "source": [
        "# **Conclusion**"
      ],
      "metadata": {
        "id": "AArzZdmDzkyl"
      }
    },
    {
      "cell_type": "markdown",
      "source": [
        "In this Activity 3 we as a team tried to do the activity 2 which we decided to predict the strike feature using the linear prediction model. In this activity we decided to the further pre process the data using, 1.Scaling 2.Feature Engineering 3.Dimension Reduction\n",
        "\n",
        "1.   Scaling\n",
        "\n",
        "\n",
        "**Scaling**\n",
        "\n",
        "Data is scaled using standardization.Before standardization, date columns are removed\n",
        "\n",
        "**Strike** is predicted using linear regression after scaling and compared to the predicted result before scaling. Accuracy is same before and after scaling.\n",
        "\n",
        "**Min Max Scaling**\n",
        "\n",
        "This type of scaling is also performed in the model1.\n",
        "\n",
        "2.   Feature Engineering\n",
        "\n",
        "Two type of feature engineering has been performed. They are\n",
        "\n",
        "\n",
        "1.   Type 1\n",
        "\n",
        "Adding the date gap column as an additional feature after removing the date and expiration attribute. Spliting the date data type and doing the analysis With performance of the both type of feature engineering there is no considerable changes in the result of the model\n",
        "\n",
        "2.   Type 2\n",
        "\n",
        "From this activity we were able to understand that feature of the date type attribute does not significantly affect the prediction of the 'strike' attribute using the linear regression model.\n",
        "\n",
        "3.   Dimensional Reduction\n",
        "\n",
        "method is used to The Principal Componenent Analysis (PCA) method is used to rank the feature importance by changing the dimension in various way.\n",
        "\n",
        "\n",
        "*   Base model accuracy :- 0.7774354695819347\n",
        "*   Model accuracy after using PCA :- 0.004840254110084263\n",
        "*   Base model Mean Squared Error :- 29.89921361163598\n",
        "*   Model Mean Squared Error after using PCA:- 69.62873867858842\n",
        "\n",
        "\n",
        "In this experiment PCA highly affect the accuracy of the model. It went from 0.7774354695819347 to 0.004840254110084263.\n",
        "\n",
        "The Principal component analysis(PCA) can performs best when it is applied to a dataset where all of the features are linearly related. So there is a high chnace for the features in our dataset are not linearly related.\n",
        "\n",
        "And if the original features already contain crucial information for predicting the target variable, reducing the dimensionality through PCA might result in the loss of relevant information."
      ],
      "metadata": {
        "id": "T20O9FV_y-Bl"
      }
    }
  ],
  "metadata": {
    "colab": {
      "collapsed_sections": [
        "qAyhVJ0pGNyZ",
        "Vx0voiTBMu-n",
        "E3OaflP8MoJw",
        "bSNNUfm4dnDb",
        "a1oDBIjHcqrP",
        "CZQcii5r0CRK",
        "Q_iR343q_zSi",
        "c5fb3wco4sy-",
        "OpXLQRXIB9KX",
        "y3lTzIrGuCw2",
        "I1sLdzpAMQkb",
        "7oNPyttzfGkI",
        "Vl5A3XNoRLHP"
      ],
      "provenance": []
    },
    "kernelspec": {
      "display_name": "Python 3",
      "name": "python3"
    },
    "language_info": {
      "name": "python"
    }
  },
  "nbformat": 4,
  "nbformat_minor": 0
}